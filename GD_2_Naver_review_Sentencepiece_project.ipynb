{
  "nbformat": 4,
  "nbformat_minor": 0,
  "metadata": {
    "colab": {
      "name": "GD_2_Naver_review_Sentencepiece_project.ipynb",
      "provenance": [],
      "collapsed_sections": []
    },
    "kernelspec": {
      "name": "python3",
      "display_name": "Python 3"
    },
    "language_info": {
      "name": "python"
    },
    "accelerator": "GPU"
  },
  "cells": [
    {
      "cell_type": "markdown",
      "source": [
        "# 네이버 영화 리뷰 감성 분석 프로젝트 : SentencePiece 적용해 보기"
      ],
      "metadata": {
        "id": "-O_ojSov-cFv"
      }
    },
    {
      "cell_type": "markdown",
      "source": [
        "## Step 1. SentencePiece 설치하기\n",
        "---"
      ],
      "metadata": {
        "id": "ZqrRx_F7_Djs"
      }
    },
    {
      "cell_type": "code",
      "source": [
        "from google.colab import drive\n",
        "drive.mount('/content/drive')"
      ],
      "metadata": {
        "id": "QOHaIiKs_UQh",
        "colab": {
          "base_uri": "https://localhost:8080/"
        },
        "outputId": "3d346c69-2ed5-4ffe-d638-c7f69a4098f1"
      },
      "execution_count": 1,
      "outputs": [
        {
          "output_type": "stream",
          "name": "stdout",
          "text": [
            "Drive already mounted at /content/drive; to attempt to forcibly remount, call drive.mount(\"/content/drive\", force_remount=True).\n"
          ]
        }
      ]
    },
    {
      "cell_type": "code",
      "source": [
        "!pip install sentencepiece\n",
        "!pip install wget"
      ],
      "metadata": {
        "colab": {
          "base_uri": "https://localhost:8080/"
        },
        "id": "LWP6_six-qBP",
        "outputId": "2fe2aba8-430a-4a83-ba6a-d9946909f14f"
      },
      "execution_count": 2,
      "outputs": [
        {
          "output_type": "stream",
          "name": "stdout",
          "text": [
            "Requirement already satisfied: sentencepiece in /usr/local/lib/python3.7/dist-packages (0.1.96)\n",
            "Requirement already satisfied: wget in /usr/local/lib/python3.7/dist-packages (3.2)\n"
          ]
        }
      ]
    },
    {
      "cell_type": "markdown",
      "source": [
        "## Step 2. SentencePiece 모델 학습"
      ],
      "metadata": {
        "id": "hVQ0YyFcDQwo"
      }
    },
    {
      "cell_type": "markdown",
      "source": [
        "### 1) 데이터 준비하기\n",
        "터미널로 데이터 폴더 생성하기\n",
        "```\n",
        "! bash\n",
        "cd /drive/MyDrive/Aiffel\n",
        "mkdir -p sp_tokenizer/data\n",
        "exit\n",
        "```"
      ],
      "metadata": {
        "id": "DfnbhqgvCE0-"
      }
    },
    {
      "cell_type": "code",
      "source": [
        "# !bash"
      ],
      "metadata": {
        "id": "1WjKhGhABSwc"
      },
      "execution_count": 3,
      "outputs": []
    },
    {
      "cell_type": "code",
      "source": [
        "# data를 저장할 폴더 경로\n",
        "data_dir = \"/content/drive/MyDrive/Aiffel/sp_tokenizer/data\""
      ],
      "metadata": {
        "id": "rJlxEQDJ_9lx"
      },
      "execution_count": 4,
      "outputs": []
    },
    {
      "cell_type": "code",
      "source": [
        "# 라이브러리 Import\n",
        "import os\n",
        "import json\n",
        "import pandas as pd\n",
        "import sentencepiece as spm\n",
        "import wget\n",
        "import numpy as np\n",
        "import matplotlib.pyplot as plt\n",
        "import tensorflow as tf\n",
        "import urllib.request\n",
        "import csv\n",
        "\n",
        "%matplotlib inline"
      ],
      "metadata": {
        "id": "_DFcKo3NCs5A"
      },
      "execution_count": 5,
      "outputs": []
    },
    {
      "cell_type": "code",
      "source": [
        "# filename = wget.download(\"https://raw.githubusercontent.com/e9t/nsmc/master/ratings_train.txt\", f\"{data_dir}\")\n",
        "# print(filename)\n",
        "# filename = wget.download(\"https://raw.githubusercontent.com/e9t/nsmc/master/ratings_test.txt\", f\"{data_dir}\")\n",
        "# print(filename)\n",
        "for f in os.listdir(data_dir):\n",
        "  print(f)"
      ],
      "metadata": {
        "colab": {
          "base_uri": "https://localhost:8080/"
        },
        "id": "KYmTZ7a4Cwou",
        "outputId": "ac2c4b29-731a-408d-a14f-10fc160bd522"
      },
      "execution_count": 6,
      "outputs": [
        {
          "output_type": "stream",
          "name": "stdout",
          "text": [
            "ratings_train.txt\n",
            "ratings_test.txt\n",
            "ratings_train.csv\n",
            "ratings_txt\n",
            "ratings_train_temp.txt\n",
            "ratings_train_temp2.txt\n",
            "ratings_train_temp3.txt\n"
          ]
        }
      ]
    },
    {
      "cell_type": "markdown",
      "source": [
        "### 2) Korpora가 뭔지 알아보기\n",
        "> - **Korpora(한국어 코퍼스 데이터 오픈소스 파이썬 패키지)** 한번 사용해보기\n",
        "> - Sentence Piece 사용하자\n",
        "\n",
        "[Korpora 깃헙](https://github.com/ko-nlp/Korpora)<br>\n",
        "[Korpora 빠른 사용법](https://ko-nlp.github.io/Korpora/ko-docs/introduction/quicktour.html)"
      ],
      "metadata": {
        "id": "lnXXrTpaEo5L"
      }
    },
    {
      "cell_type": "code",
      "source": [
        "!git"
      ],
      "metadata": {
        "colab": {
          "base_uri": "https://localhost:8080/"
        },
        "id": "IiyZF6I3Jjmu",
        "outputId": "9e695f0b-dc35-4578-d16d-207eca094af9"
      },
      "execution_count": 7,
      "outputs": [
        {
          "output_type": "stream",
          "name": "stdout",
          "text": [
            "usage: git [--version] [--help] [-C <path>] [-c <name>=<value>]\n",
            "           [--exec-path[=<path>]] [--html-path] [--man-path] [--info-path]\n",
            "           [-p | --paginate | --no-pager] [--no-replace-objects] [--bare]\n",
            "           [--git-dir=<path>] [--work-tree=<path>] [--namespace=<name>]\n",
            "           <command> [<args>]\n",
            "\n",
            "These are common Git commands used in various situations:\n",
            "\n",
            "start a working area (see also: git help tutorial)\n",
            "   clone      Clone a repository into a new directory\n",
            "   init       Create an empty Git repository or reinitialize an existing one\n",
            "\n",
            "work on the current change (see also: git help everyday)\n",
            "   add        Add file contents to the index\n",
            "   mv         Move or rename a file, a directory, or a symlink\n",
            "   reset      Reset current HEAD to the specified state\n",
            "   rm         Remove files from the working tree and from the index\n",
            "\n",
            "examine the history and state (see also: git help revisions)\n",
            "   bisect     Use binary search to find the commit that introduced a bug\n",
            "   grep       Print lines matching a pattern\n",
            "   log        Show commit logs\n",
            "   show       Show various types of objects\n",
            "   status     Show the working tree status\n",
            "\n",
            "grow, mark and tweak your common history\n",
            "   branch     List, create, or delete branches\n",
            "   checkout   Switch branches or restore working tree files\n",
            "   commit     Record changes to the repository\n",
            "   diff       Show changes between commits, commit and working tree, etc\n",
            "   merge      Join two or more development histories together\n",
            "   rebase     Reapply commits on top of another base tip\n",
            "   tag        Create, list, delete or verify a tag object signed with GPG\n",
            "\n",
            "collaborate (see also: git help workflows)\n",
            "   fetch      Download objects and refs from another repository\n",
            "   pull       Fetch from and integrate with another repository or a local branch\n",
            "   push       Update remote refs along with associated objects\n",
            "\n",
            "'git help -a' and 'git help -g' list available subcommands and some\n",
            "concept guides. See 'git help <command>' or 'git help <concept>'\n",
            "to read about a specific subcommand or concept.\n"
          ]
        }
      ]
    },
    {
      "cell_type": "code",
      "source": [
        "!pip install Korpora"
      ],
      "metadata": {
        "colab": {
          "base_uri": "https://localhost:8080/"
        },
        "id": "Vi55qMBdJhoe",
        "outputId": "7b4f4754-ee1a-487e-c857-1633a69b7ab5"
      },
      "execution_count": 8,
      "outputs": [
        {
          "output_type": "stream",
          "name": "stdout",
          "text": [
            "Requirement already satisfied: Korpora in /usr/local/lib/python3.7/dist-packages (0.2.0)\n",
            "Requirement already satisfied: requests>=2.20.0 in /usr/local/lib/python3.7/dist-packages (from Korpora) (2.23.0)\n",
            "Requirement already satisfied: dataclasses>=0.6 in /usr/local/lib/python3.7/dist-packages (from Korpora) (0.6)\n",
            "Requirement already satisfied: tqdm>=4.46.0 in /usr/local/lib/python3.7/dist-packages (from Korpora) (4.63.0)\n",
            "Requirement already satisfied: xlrd>=1.2.0 in /usr/local/lib/python3.7/dist-packages (from Korpora) (2.0.1)\n",
            "Requirement already satisfied: numpy>=1.18.0 in /usr/local/lib/python3.7/dist-packages (from Korpora) (1.21.5)\n",
            "Requirement already satisfied: chardet<4,>=3.0.2 in /usr/local/lib/python3.7/dist-packages (from requests>=2.20.0->Korpora) (3.0.4)\n",
            "Requirement already satisfied: urllib3!=1.25.0,!=1.25.1,<1.26,>=1.21.1 in /usr/local/lib/python3.7/dist-packages (from requests>=2.20.0->Korpora) (1.24.3)\n",
            "Requirement already satisfied: idna<3,>=2.5 in /usr/local/lib/python3.7/dist-packages (from requests>=2.20.0->Korpora) (2.10)\n",
            "Requirement already satisfied: certifi>=2017.4.17 in /usr/local/lib/python3.7/dist-packages (from requests>=2.20.0->Korpora) (2021.10.8)\n"
          ]
        }
      ]
    },
    {
      "cell_type": "code",
      "source": [
        "from Korpora import Korpora\n",
        "\n",
        "# Korpora.fetch(\"all\") -> Korpora가 제공하는 모든 말뭉치 내려 받을 수 있음\n",
        "Korpora.fetch(\"nsmc\") # 네이버 영화 리뷰 데이터로만 일단 단어장 사용해보자!\n",
        "corpus = Korpora.load(\"nsmc\")"
      ],
      "metadata": {
        "colab": {
          "base_uri": "https://localhost:8080/"
        },
        "id": "-6Lu3rltJwsL",
        "outputId": "06139309-99b7-4b71-f92f-a4bdd845a36e"
      },
      "execution_count": 9,
      "outputs": [
        {
          "output_type": "stream",
          "name": "stdout",
          "text": [
            "[Korpora] Corpus `nsmc` is already installed at /root/Korpora/nsmc/ratings_train.txt\n",
            "[Korpora] Corpus `nsmc` is already installed at /root/Korpora/nsmc/ratings_test.txt\n",
            "\n",
            "    Korpora 는 다른 분들이 연구 목적으로 공유해주신 말뭉치들을\n",
            "    손쉽게 다운로드, 사용할 수 있는 기능만을 제공합니다.\n",
            "\n",
            "    말뭉치들을 공유해 주신 분들에게 감사드리며, 각 말뭉치 별 설명과 라이센스를 공유 드립니다.\n",
            "    해당 말뭉치에 대해 자세히 알고 싶으신 분은 아래의 description 을 참고,\n",
            "    해당 말뭉치를 연구/상용의 목적으로 이용하실 때에는 아래의 라이센스를 참고해 주시기 바랍니다.\n",
            "\n",
            "    # Description\n",
            "    Author : e9t@github\n",
            "    Repository : https://github.com/e9t/nsmc\n",
            "    References : www.lucypark.kr/docs/2015-pyconkr/#39\n",
            "\n",
            "    Naver sentiment movie corpus v1.0\n",
            "    This is a movie review dataset in the Korean language.\n",
            "    Reviews were scraped from Naver Movies.\n",
            "\n",
            "    The dataset construction is based on the method noted in\n",
            "    [Large movie review dataset][^1] from Maas et al., 2011.\n",
            "\n",
            "    [^1]: http://ai.stanford.edu/~amaas/data/sentiment/\n",
            "\n",
            "    # License\n",
            "    CC0 1.0 Universal (CC0 1.0) Public Domain Dedication\n",
            "    Details in https://creativecommons.org/publicdomain/zero/1.0/\n",
            "\n",
            "[Korpora] Corpus `nsmc` is already installed at /root/Korpora/nsmc/ratings_train.txt\n",
            "[Korpora] Corpus `nsmc` is already installed at /root/Korpora/nsmc/ratings_test.txt\n"
          ]
        }
      ]
    },
    {
      "cell_type": "code",
      "source": [
        "corpus"
      ],
      "metadata": {
        "colab": {
          "base_uri": "https://localhost:8080/"
        },
        "id": "abF3iSelLEua",
        "outputId": "24418679-0613-4cb5-eb84-aba8196b13e4"
      },
      "execution_count": 10,
      "outputs": [
        {
          "output_type": "execute_result",
          "data": {
            "text/plain": [
              "<Korpora.korpus_nsmc.NSMCKorpus at 0x7f01dd3ff1d0>"
            ]
          },
          "metadata": {},
          "execution_count": 10
        }
      ]
    },
    {
      "cell_type": "markdown",
      "source": [
        "> - **Korpora**는 그냥 다양한 한국어 코퍼스 데이터를 쉽게 다운로드, 사용할 수만 있는 기능만 제공\n",
        "> - 터미널에서 전체 데이터로 다운로드 전처리 하려면\n",
        "```\n",
        "korpora lmdata \\\n",
        "  --corpus all \\\n",
        "  --output_dir ~/works/lmdata\n",
        "```\n",
        "\n",
        "> - 네이버 영화 리뷰 데이터는 이미 위에서 준비 완료했으므로 1회 실습 후 더 큰 데이터를 **Korpora**에서 불러와 Vocab 만들어 실습 진행해보자"
      ],
      "metadata": {
        "id": "D8lIrnO6LR5Z"
      }
    },
    {
      "cell_type": "markdown",
      "source": [
        "### 3) 데이터 정제하기"
      ],
      "metadata": {
        "id": "8tbi-jsGKsZy"
      }
    },
    {
      "cell_type": "markdown",
      "source": [
        "`rating_train_txt` document만 뽑아기\n",
        "> - 데이터프레임으로 바꿔서 csv 파일로 저장한 후 \n",
        "> - 다시 txt 파일 형태로 바꿔서 저장하자.\n",
        "\n",
        "=> 오류나서 실패^^ <br>\n",
        "=> 그냥 for문으로 split() 써서 가져왔는데 더 간단한 방법이 있었다."
      ],
      "metadata": {
        "id": "cTVEywUrOQik"
      }
    },
    {
      "cell_type": "markdown",
      "source": [
        "이렇게 쉽게 가져오는 방법도 있었다^^\n",
        "```\n",
        "urllib.request.urlretrieve(\"https://raw.githubusercontent.com/e9t/nsmc/master/ratings.txt\", filename=\"ratings.txt\")\n",
        "\n",
        "with open('naver_review.txt', 'w', encoding='utf8') as f:\n",
        "    f.write('\\n'.join(naver_df['document']))\n",
        "\n",
        "```"
      ],
      "metadata": {
        "id": "odXg7OESbS0e"
      }
    },
    {
      "cell_type": "code",
      "source": [
        "# temp = pd.read_table(path_to_file)\n",
        "# temp.head()\n",
        "\n",
        "# temp.to_csv(data_dir + '/ratings_train.csv', index=False, header=True)"
      ],
      "metadata": {
        "id": "cWC4ZErtCONG"
      },
      "execution_count": 11,
      "outputs": []
    },
    {
      "cell_type": "code",
      "source": [
        "# csv 파일d text로 변환 후 document만 가져오기 - 실패\n",
        "'''\n",
        "import shutil\n",
        "\n",
        "in_file = f\"{data_dir}/ratings_train.csv\"\n",
        "out_file = f\"{data_dir}/ratings_train_f.txt\"\n",
        "SEPARATOR = u\"\\u241D\"\n",
        "\n",
        "if not os.path.isfile(out_file):\n",
        "    df = pd.read_csv(in_file, sep=SEPARATOR, engine=\"python\")\n",
        "    with open(out_file, \"w\") as f:\n",
        "      for index, row in df.iterrows():\n",
        "        f.write(row[\"document\"]) # document만 가져오기\n",
        "        f.write(\"\\n\\n\\n\\n\") # 구분자\n",
        "\n",
        "shutil.copy(out_file, \"ratings_train_f.txt\")\n",
        "'''"
      ],
      "metadata": {
        "colab": {
          "base_uri": "https://localhost:8080/",
          "height": 107
        },
        "id": "VQAX46-NPBt-",
        "outputId": "3becc7cb-3db5-49c9-cc11-a558fe373b9a"
      },
      "execution_count": 12,
      "outputs": [
        {
          "output_type": "execute_result",
          "data": {
            "text/plain": [
              "'\\nimport shutil\\n\\nin_file = f\"{data_dir}/ratings_train.csv\"\\nout_file = f\"{data_dir}/ratings_train_f.txt\"\\nSEPARATOR = u\"␝\"\\n\\nif not os.path.isfile(out_file):\\n    df = pd.read_csv(in_file, sep=SEPARATOR, engine=\"python\")\\n    with open(out_file, \"w\") as f:\\n      for index, row in df.iterrows():\\n        f.write(row[\"document\"]) # document만 가져오기\\n        f.write(\"\\n\\n\\n\\n\") # 구분자\\n\\nshutil.copy(out_file, \"ratings_train_f.txt\")\\n'"
            ],
            "application/vnd.google.colaboratory.intrinsic+json": {
              "type": "string"
            }
          },
          "metadata": {},
          "execution_count": 12
        }
      ]
    },
    {
      "cell_type": "code",
      "source": [
        "path_to_file = data_dir + \"/ratings_train.txt\"\n",
        "\n",
        "with open(path_to_file, \"r\") as f:\n",
        "    raw = f.read().splitlines()\n",
        "\n",
        "print(\"Data Size:\", len(raw))\n",
        "\n",
        "print(\"Example:\")\n",
        "for sen in raw[1:100][::20]: print(\">>\", sen.split('\t')[1])"
      ],
      "metadata": {
        "colab": {
          "base_uri": "https://localhost:8080/"
        },
        "id": "9CwC7N4rN5lK",
        "outputId": "93e30919-35f3-4907-dae1-b39398c8d495"
      },
      "execution_count": 13,
      "outputs": [
        {
          "output_type": "stream",
          "name": "stdout",
          "text": [
            "Data Size: 150001\n",
            "Example:\n",
            ">> 아 더빙.. 진짜 짜증나네요 목소리\n",
            ">> 나름 심오한 뜻도 있는 듯. 그냥 학생이 선생과 놀아나는 영화는 절대 아님\n",
            ">> 단순하면서 은은한 매력의 영화\n",
            ">> 보는내내 그대로 들어맞는 예측 카리스마 없는 악역\n",
            ">> 뭐냐..시작하고 3분만에 나왔다. 리플릿 사진 보며 불안하더니만..\n"
          ]
        }
      ]
    },
    {
      "cell_type": "code",
      "source": [
        "# X_train 데이터\n",
        "ratings = [] \n",
        "for sen in raw[1:]: \n",
        "    ratings.append(sen.split('\t')[1])"
      ],
      "metadata": {
        "id": "3d30KRtZmJTq"
      },
      "execution_count": 14,
      "outputs": []
    },
    {
      "cell_type": "code",
      "source": [
        "# 라벨 데이터 y_train\n",
        "y_train = []\n",
        "for sen in raw[1:]:\n",
        "    y_train.append(int(sen.split('\t')[2]))\n",
        "\n",
        "y_train[:20]"
      ],
      "metadata": {
        "id": "psYdaqRfBsde",
        "colab": {
          "base_uri": "https://localhost:8080/"
        },
        "outputId": "251981f5-e7dc-4e62-a7e7-0f085039bbde"
      },
      "execution_count": 15,
      "outputs": [
        {
          "output_type": "execute_result",
          "data": {
            "text/plain": [
              "[0, 1, 0, 0, 1, 0, 0, 0, 1, 1, 1, 1, 0, 1, 0, 1, 1, 0, 1, 1]"
            ]
          },
          "metadata": {},
          "execution_count": 15
        }
      ]
    },
    {
      "cell_type": "code",
      "source": [
        "len(ratings)"
      ],
      "metadata": {
        "colab": {
          "base_uri": "https://localhost:8080/"
        },
        "id": "15xM5f-krIaW",
        "outputId": "5ef3ff5f-46fd-4342-d5b5-0d9035595c2c"
      },
      "execution_count": 16,
      "outputs": [
        {
          "output_type": "execute_result",
          "data": {
            "text/plain": [
              "150000"
            ]
          },
          "metadata": {},
          "execution_count": 16
        }
      ]
    },
    {
      "cell_type": "code",
      "source": [
        "# test 데이터셋 가져오기 1\n",
        "test_path = data_dir + \"/ratings_test.txt\"\n",
        "X_test = []\n",
        "with open(test_path, \"r\") as f:\n",
        "    raw_t = f.read().splitlines()\n",
        "\n",
        "for sen in raw_t[1:]:\n",
        "    X_test.append(sen.split('\t')[1])\n",
        "\n",
        "y_test = []\n",
        "for sen in raw_t[1:]:\n",
        "    y_test.append(int(sen.split('\t')[2]))\n",
        "\n",
        "print(\"X_test data Size:\", len(X_test))\n",
        "print(\"y_test data Size:\", len(y_test))\n",
        "print(X_test[:10])\n",
        "print(y_test[:10])"
      ],
      "metadata": {
        "colab": {
          "base_uri": "https://localhost:8080/"
        },
        "id": "JV2QGQ0C6qYN",
        "outputId": "8ffa24e0-e227-4d53-e0f3-3628e14bd86d"
      },
      "execution_count": 17,
      "outputs": [
        {
          "output_type": "stream",
          "name": "stdout",
          "text": [
            "X_test data Size: 50000\n",
            "y_test data Size: 50000\n",
            "['굳 ㅋ', 'GDNTOPCLASSINTHECLUB', '뭐야 이 평점들은.... 나쁘진 않지만 10점 짜리는 더더욱 아니잖아', '지루하지는 않은데 완전 막장임... 돈주고 보기에는....', '3D만 아니었어도 별 다섯 개 줬을텐데.. 왜 3D로 나와서 제 심기를 불편하게 하죠??', '음악이 주가 된, 최고의 음악영화', '진정한 쓰레기', '마치 미국애니에서 튀어나온듯한 창의력없는 로봇디자인부터가,고개를 젖게한다', '갈수록 개판되가는 중국영화 유치하고 내용없음 폼잡다 끝남 말도안되는 무기에 유치한cg남무 아 그립다 동사서독같은 영화가 이건 3류아류작이다', '이별의 아픔뒤에 찾아오는 새로운 인연의 기쁨 But, 모든 사람이 그렇지는 않네..']\n",
            "[1, 0, 0, 0, 0, 1, 0, 0, 0, 1]\n"
          ]
        }
      ]
    },
    {
      "cell_type": "code",
      "source": [
        "# test 데이터셋 가져오기 2\n",
        "test_path = data_dir + \"/ratings_test.txt\"\n",
        "\n",
        "test_data =pd.read_table(test_path)\n",
        "test_data = test_data.dropna(how = 'any')\n",
        "test_data.drop_duplicates(subset=['document'],inplace=True)\n",
        "\n",
        "print(test_data.isnull().values.any()) # Null 값이 존재하는지 확인\n",
        "print(test_data['document'].nunique())\n",
        "print(len(test_data))"
      ],
      "metadata": {
        "colab": {
          "base_uri": "https://localhost:8080/"
        },
        "id": "5TFPIe81cuOL",
        "outputId": "250a09f5-5144-4298-c676-19ba7ba21715"
      },
      "execution_count": 18,
      "outputs": [
        {
          "output_type": "stream",
          "name": "stdout",
          "text": [
            "False\n",
            "49157\n",
            "49157\n"
          ]
        }
      ]
    },
    {
      "cell_type": "code",
      "source": [
        "# 데이터 문장 길이 분포 시각화\n",
        "min_len = 999\n",
        "max_len = 0\n",
        "sum_len = 0\n",
        "\n",
        "for sen in ratings:\n",
        "    length = len(sen)\n",
        "    if min_len > length: min_len = length\n",
        "    if max_len < length: max_len = length\n",
        "    sum_len += length\n",
        "\n",
        "print(\"문장의 최단 길이:\", min_len)\n",
        "print(\"문장의 최장 길이:\", max_len)\n",
        "print(\"문장의 평균 길이:\", sum_len // len(raw))\n",
        "\n",
        "sentence_length = np.zeros((max_len), dtype=np.int)\n",
        "\n",
        "print(sentence_length)\n",
        "\n",
        "for sen in ratings:\n",
        "    sentence_length[len(sen)-1] += 1 # 문장 길이 빈도수 표현\n",
        "\n",
        "print(sentence_length)\n",
        "plt.bar(range(max_len), sentence_length, width=1.0)\n",
        "plt.title(\"Sentence Length Distribution\")\n",
        "plt.show()"
      ],
      "metadata": {
        "id": "bx8_JfnIPLiH",
        "colab": {
          "base_uri": "https://localhost:8080/",
          "height": 715
        },
        "outputId": "72d86f25-fa16-49fc-f5dc-fed8720e49e3"
      },
      "execution_count": 19,
      "outputs": [
        {
          "output_type": "stream",
          "name": "stdout",
          "text": [
            "문장의 최단 길이: 0\n",
            "문장의 최장 길이: 158\n",
            "문장의 평균 길이: 35\n",
            "[0 0 0 0 0 0 0 0 0 0 0 0 0 0 0 0 0 0 0 0 0 0 0 0 0 0 0 0 0 0 0 0 0 0 0 0 0\n",
            " 0 0 0 0 0 0 0 0 0 0 0 0 0 0 0 0 0 0 0 0 0 0 0 0 0 0 0 0 0 0 0 0 0 0 0 0 0\n",
            " 0 0 0 0 0 0 0 0 0 0 0 0 0 0 0 0 0 0 0 0 0 0 0 0 0 0 0 0 0 0 0 0 0 0 0 0 0\n",
            " 0 0 0 0 0 0 0 0 0 0 0 0 0 0 0 0 0 0 0 0 0 0 0 0 0 0 0 0 0 0 0 0 0 0 0 0 0\n",
            " 0 0 0 0 0 0 0 0 0 0]\n",
            "[ 607 1071 1306 1544 1445 1653 1919 1867 1834 2636 3408 4352 4468 4471\n",
            " 4180 3928 3699 3750 3570 3499 3428 3330 3203 3074 2976 2975 2887 2898\n",
            " 2821 2766 2696 2668 2539 2497 2277 2126 2079 2064 2039 2132 1923 1904\n",
            " 1881 1969 1933 1676 1234  966  837  716  668  625  615  618  599  502\n",
            "  557  484  508  483  465  428  453  416  428  408  411  402  341  371\n",
            "  306  358  334  321  300  323  307  289  301  270  285  279  291  285\n",
            "  243  266  233  229  260  260  192  212  216  217  207  188  208  211\n",
            "  212  182  173  179  159  176  175  178  183  167  161  141  142  160\n",
            "  147  168  145  125  142  159  135  146  155  133  161  150  161  153\n",
            "  154  163  180  186  181  212  225  254  269  339  378  420  600  964\n",
            "    6    1    4    4    7   12    6    5   11   10   13   25    1    0\n",
            "    0    0    0    8]\n"
          ]
        },
        {
          "output_type": "stream",
          "name": "stderr",
          "text": [
            "/usr/local/lib/python3.7/dist-packages/ipykernel_launcher.py:16: DeprecationWarning: `np.int` is a deprecated alias for the builtin `int`. To silence this warning, use `int` by itself. Doing this will not modify any behavior and is safe. When replacing `np.int`, you may wish to use e.g. `np.int64` or `np.int32` to specify the precision. If you wish to review your current use, check the release note link for additional information.\n",
            "Deprecated in NumPy 1.20; for more details and guidance: https://numpy.org/devdocs/release/1.20.0-notes.html#deprecations\n",
            "  app.launch_new_instance()\n"
          ]
        },
        {
          "output_type": "display_data",
          "data": {
            "text/plain": [
              "<Figure size 432x288 with 1 Axes>"
            ],
            "image/png": "[encoded data removed]"
          },
          "metadata": {
            "needs_background": "light"
          }
        }
      ]
    },
    {
      "cell_type": "code",
      "source": [
        "# 1) 최단 길이가 0이 왜 나와?\n",
        "def check_sentence_with_length(raw, length):\n",
        "    count = 0\n",
        "\n",
        "    for sen in raw:\n",
        "        if len(sen) == length:\n",
        "            print(sen)\n",
        "            count += 1\n",
        "            if count > 100: return\n",
        "\n",
        "# check_sentence_with_length(ratings, 1)"
      ],
      "metadata": {
        "id": "xXwkYiAHimjb"
      },
      "execution_count": 20,
      "outputs": []
    },
    {
      "cell_type": "code",
      "source": [
        "check_sentence_with_length(ratings, 2)"
      ],
      "metadata": {
        "id": "N__QY3Eqrvs9",
        "colab": {
          "base_uri": "https://localhost:8080/"
        },
        "outputId": "68f76099-5d0b-47be-8abc-89f62a88331c"
      },
      "execution_count": 21,
      "outputs": [
        {
          "output_type": "stream",
          "name": "stdout",
          "text": [
            "최고\n",
            "졸작\n",
            "대박\n",
            "버려\n",
            "망함\n",
            "굳굳\n",
            "안습\n",
            "망작\n",
            "ㅇㅇ\n",
            "쵝오\n",
            "쵝오\n",
            "최고\n",
            "굿!\n",
            "별루\n",
            "씐나\n",
            "쓰렉\n",
            "최고\n",
            "볼만\n",
            "허접\n",
            "최고\n",
            "비추\n",
            "좋다\n",
            "ㅎㅎ\n",
            "아나\n",
            "최고\n",
            "ㅉㅉ\n",
            "야.\n",
            "역시\n",
            "^^\n",
            "대박\n",
            "오오\n",
            "최고\n",
            "평이\n",
            "지루\n",
            "안습\n",
            "오욈\n",
            "ㅋㅋ\n",
            "지송\n",
            "별로\n",
            "눈물\n",
            "당연\n",
            "좋다\n",
            "쩔어\n",
            "별노\n",
            "최고\n",
            "몰입\n",
            "별로\n",
            "졸잼\n",
            "ㅋㅋ\n",
            "쵝오\n",
            "돋네\n",
            "별로\n",
            "오글\n",
            "이응\n",
            "최고\n",
            "첨봄\n",
            "최악\n",
            "잼씀\n",
            "ok\n",
            "유후\n",
            "최악\n",
            "별루\n",
            "감동\n",
            "최고\n",
            "gg\n",
            ";;\n",
            "조앙\n",
            "최고\n",
            "최고\n",
            "졸작\n",
            "1점\n",
            "표절\n",
            "명작\n",
            "별루\n",
            "으휴\n",
            "최악\n",
            "에효\n",
            "굿!\n",
            "gg\n",
            "최악\n",
            "볼만\n",
            "별로\n",
            "ㄱ굿\n",
            "^^\n",
            "굿잡\n",
            "잼나\n",
            "눈물\n",
            "10\n",
            "ㅜㅜ\n",
            "우왕\n",
            "쩔어\n",
            "거지\n",
            "굿굿\n",
            "굳굳\n",
            "좋음\n",
            "10\n",
            "실망\n",
            "비추\n",
            "굿.\n",
            "최악\n",
            "^^\n"
          ]
        }
      ]
    },
    {
      "cell_type": "code",
      "source": [
        "# check_sentence_with_length(ratings, 60)"
      ],
      "metadata": {
        "id": "xl_yivwttxhj"
      },
      "execution_count": 22,
      "outputs": []
    },
    {
      "cell_type": "markdown",
      "source": [
        "> - 최단길이가 0인걸 봐서는 공백이 들어간거 같다, 공백은 제거하자\n",
        "> - 굿,굳과 같은 단어는 긍정의 의미 담고 있으니까 길이 1이라도 없애지 말자."
      ],
      "metadata": {
        "id": "mmpcOiXao7Jx"
      }
    },
    {
      "cell_type": "code",
      "source": [
        "# 문장의 길이가 같은 문장이 2000개 초과하는 sentence_length는 뭘까?\n",
        "for idx, _sum in enumerate(sentence_length):\n",
        "    if _sum > 3000:\n",
        "        print(\"Outlier Index: \",idx+1)"
      ],
      "metadata": {
        "colab": {
          "base_uri": "https://localhost:8080/"
        },
        "id": "t38wVNYHjxD_",
        "outputId": "577c0fa2-0872-4d7e-bfb0-8268f661aa2e"
      },
      "execution_count": 23,
      "outputs": [
        {
          "output_type": "stream",
          "name": "stdout",
          "text": [
            "Outlier Index:  11\n",
            "Outlier Index:  12\n",
            "Outlier Index:  13\n",
            "Outlier Index:  14\n",
            "Outlier Index:  15\n",
            "Outlier Index:  16\n",
            "Outlier Index:  17\n",
            "Outlier Index:  18\n",
            "Outlier Index:  19\n",
            "Outlier Index:  20\n",
            "Outlier Index:  21\n",
            "Outlier Index:  22\n",
            "Outlier Index:  23\n",
            "Outlier Index:  24\n"
          ]
        }
      ]
    },
    {
      "cell_type": "code",
      "source": [
        "# check_sentence_with_length(ratings, 24)"
      ],
      "metadata": {
        "id": "ik1XuxWvp4Ii"
      },
      "execution_count": 24,
      "outputs": []
    },
    {
      "cell_type": "code",
      "source": [
        "# 중복 있을 수도 있으니 제거해보자\n",
        "min_len = 999\n",
        "max_len = 0\n",
        "sum_len = 0\n",
        "\n",
        "cleaned_corpus = list(set(ratings))  # set를 사용해서 중복을 제거합니다.\n",
        "print(\"Data Size:\", len(cleaned_corpus))\n",
        "\n",
        "for sen in cleaned_corpus:\n",
        "    length = len(sen)\n",
        "    if min_len > length: min_len = length\n",
        "    if max_len < length: max_len = length\n",
        "    sum_len += length\n",
        "\n",
        "print(\"문장의 최단 길이:\", min_len)\n",
        "print(\"문장의 최장 길이:\", max_len)\n",
        "print(\"문장의 평균 길이:\", sum_len // len(cleaned_corpus))\n",
        "\n",
        "sentence_length = np.zeros((max_len), dtype=np.int)\n",
        "\n",
        "for sen in cleaned_corpus:   # 중복이 제거된 코퍼스 기준\n",
        "    sentence_length[len(sen)-1] += 1\n",
        "\n",
        "plt.bar(range(max_len), sentence_length, width=1.0)\n",
        "plt.title(\"Sentence Length Distribution\")\n",
        "plt.show()"
      ],
      "metadata": {
        "colab": {
          "base_uri": "https://localhost:8080/",
          "height": 409
        },
        "id": "O9SZlm5jp8Hw",
        "outputId": "d4b2030a-3204-4d93-99c0-d6a2225b49b7"
      },
      "execution_count": 25,
      "outputs": [
        {
          "output_type": "stream",
          "name": "stdout",
          "text": [
            "Data Size: 146183\n",
            "문장의 최단 길이: 0\n",
            "문장의 최장 길이: 158\n",
            "문장의 평균 길이: 36\n"
          ]
        },
        {
          "output_type": "stream",
          "name": "stderr",
          "text": [
            "/usr/local/lib/python3.7/dist-packages/ipykernel_launcher.py:19: DeprecationWarning: `np.int` is a deprecated alias for the builtin `int`. To silence this warning, use `int` by itself. Doing this will not modify any behavior and is safe. When replacing `np.int`, you may wish to use e.g. `np.int64` or `np.int32` to specify the precision. If you wish to review your current use, check the release note link for additional information.\n",
            "Deprecated in NumPy 1.20; for more details and guidance: https://numpy.org/devdocs/release/1.20.0-notes.html#deprecations\n"
          ]
        },
        {
          "output_type": "display_data",
          "data": {
            "text/plain": [
              "<Figure size 432x288 with 1 Axes>"
            ],
            "image/png": "[encoded data removed]"
          },
          "metadata": {
            "needs_background": "light"
          }
        }
      ]
    },
    {
      "cell_type": "code",
      "source": [
        "print(\"중복된 값: \",len(ratings) - len(cleaned_corpus))"
      ],
      "metadata": {
        "colab": {
          "base_uri": "https://localhost:8080/"
        },
        "id": "pkmGdL6lrQvz",
        "outputId": "8c4f7185-ab92-4e8c-e9d2-65341452de07"
      },
      "execution_count": 26,
      "outputs": [
        {
          "output_type": "stream",
          "name": "stdout",
          "text": [
            "중복된 값:  3817\n"
          ]
        }
      ]
    },
    {
      "cell_type": "markdown",
      "source": [
        "> - 150,000 개에서 중복된 데이터 3817개를 제거하여 146,183개로 줄었다.\n",
        "\n",
        "1. 네이버 영화 후기의 경우 길이가 1,2 로 짧아도 감정이 드러나기 때문에 min_len 은 1로 하자.\n",
        "2. 후기니까 문장 길이 80이상은 제거하자."
      ],
      "metadata": {
        "id": "LAaA6AITq5JM"
      }
    },
    {
      "cell_type": "code",
      "source": [
        "max_len = 80\n",
        "min_len = 1\n",
        "\n",
        "# 길이 조건에 맞는 문장만 선택합니다.\n",
        "filtered_corpus = [s for s in cleaned_corpus if (len(s) < max_len) & (len(s) >= min_len)]\n",
        "\n",
        "# 분포도를 다시 그려봅니다. -> 최종적인 데이터 분포\n",
        "sentence_length = np.zeros((max_len), dtype=np.int)\n",
        "\n",
        "for sen in filtered_corpus:\n",
        "    sentence_length[len(sen)-1] += 1\n",
        "\n",
        "plt.bar(range(max_len), sentence_length, width=1.0)\n",
        "plt.title(\"Sentence Length Distribution\")\n",
        "plt.show()"
      ],
      "metadata": {
        "colab": {
          "base_uri": "https://localhost:8080/",
          "height": 355
        },
        "id": "4fV7CPysrltj",
        "outputId": "4d0ec642-fac7-4d96-9825-c7cc77b1b090"
      },
      "execution_count": 27,
      "outputs": [
        {
          "output_type": "stream",
          "name": "stderr",
          "text": [
            "/usr/local/lib/python3.7/dist-packages/ipykernel_launcher.py:8: DeprecationWarning: `np.int` is a deprecated alias for the builtin `int`. To silence this warning, use `int` by itself. Doing this will not modify any behavior and is safe. When replacing `np.int`, you may wish to use e.g. `np.int64` or `np.int32` to specify the precision. If you wish to review your current use, check the release note link for additional information.\n",
            "Deprecated in NumPy 1.20; for more details and guidance: https://numpy.org/devdocs/release/1.20.0-notes.html#deprecations\n",
            "  \n"
          ]
        },
        {
          "output_type": "display_data",
          "data": {
            "text/plain": [
              "<Figure size 432x288 with 1 Axes>"
            ],
            "image/png": "[encoded data removed]"
          },
          "metadata": {
            "needs_background": "light"
          }
        }
      ]
    },
    {
      "cell_type": "markdown",
      "source": [
        "### Konlpy로 형태소 분석해보면?"
      ],
      "metadata": {
        "id": "lFmR1zpsuzE9"
      }
    },
    {
      "cell_type": "code",
      "source": [
        "# mecab 설치하기\n",
        "!apt-get update \n",
        "!apt-get install g++ openjdk-8-jdk \n",
        "!pip install konlpy JPype1-py3 \n",
        "!bash <(curl -s https://raw.githubusercontent.com/konlpy/konlpy/master/scripts/mecab.sh)"
      ],
      "metadata": {
        "id": "6QLMqQlqw-1u",
        "colab": {
          "base_uri": "https://localhost:8080/"
        },
        "outputId": "d88b3580-39c5-4fbf-9ad2-eb63aa99cedf"
      },
      "execution_count": 28,
      "outputs": [
        {
          "output_type": "stream",
          "name": "stdout",
          "text": [
            "\r0% [Working]\r            \rHit:1 http://ppa.launchpad.net/c2d4u.team/c2d4u4.0+/ubuntu bionic InRelease\n",
            "\r0% [Connecting to archive.ubuntu.com (91.189.91.39)] [Waiting for headers] [Con\r                                                                               \rHit:2 http://security.ubuntu.com/ubuntu bionic-security InRelease\n",
            "\r0% [Connecting to archive.ubuntu.com (91.189.91.39)] [Connected to cloud.r-proj\r0% [1 InRelease gpgv 15.9 kB] [Connecting to archive.ubuntu.com (91.189.91.39)]\r                                                                               \rHit:3 https://cloud.r-project.org/bin/linux/ubuntu bionic-cran40/ InRelease\n",
            "\r0% [1 InRelease gpgv 15.9 kB] [Connecting to archive.ubuntu.com (91.189.91.39)]\r                                                                               \rHit:4 http://ppa.launchpad.net/cran/libgit2/ubuntu bionic InRelease\n",
            "\r0% [1 InRelease gpgv 15.9 kB] [Connecting to archive.ubuntu.com (91.189.91.39)]\r                                                                               \rHit:5 http://ppa.launchpad.net/deadsnakes/ppa/ubuntu bionic InRelease\n",
            "\r0% [1 InRelease gpgv 15.9 kB] [Connecting to archive.ubuntu.com (91.189.91.39)]\r                                                                               \rHit:6 http://ppa.launchpad.net/graphics-drivers/ppa/ubuntu bionic InRelease\n",
            "Hit:7 http://archive.ubuntu.com/ubuntu bionic InRelease\n",
            "Ign:8 https://developer.download.nvidia.com/compute/cuda/repos/ubuntu1804/x86_64  InRelease\n",
            "Hit:9 http://archive.ubuntu.com/ubuntu bionic-updates InRelease\n",
            "Get:10 http://archive.ubuntu.com/ubuntu bionic-backports InRelease [74.6 kB]\n",
            "Ign:11 https://developer.download.nvidia.com/compute/machine-learning/repos/ubuntu1804/x86_64  InRelease\n",
            "Hit:12 https://developer.download.nvidia.com/compute/cuda/repos/ubuntu1804/x86_64  Release\n",
            "Hit:13 https://developer.download.nvidia.com/compute/machine-learning/repos/ubuntu1804/x86_64  Release\n",
            "Fetched 74.6 kB in 2s (33.4 kB/s)\n",
            "Reading package lists... Done\n",
            "Reading package lists... Done\n",
            "Building dependency tree       \n",
            "Reading state information... Done\n",
            "g++ is already the newest version (4:7.4.0-1ubuntu2.3).\n",
            "openjdk-8-jdk is already the newest version (8u312-b07-0ubuntu1~18.04).\n",
            "0 upgraded, 0 newly installed, 0 to remove and 70 not upgraded.\n",
            "Requirement already satisfied: konlpy in /usr/local/lib/python3.7/dist-packages (0.6.0)\n",
            "Requirement already satisfied: JPype1-py3 in /usr/local/lib/python3.7/dist-packages (0.5.5.4)\n",
            "Requirement already satisfied: numpy>=1.6 in /usr/local/lib/python3.7/dist-packages (from konlpy) (1.21.5)\n",
            "Requirement already satisfied: lxml>=4.1.0 in /usr/local/lib/python3.7/dist-packages (from konlpy) (4.2.6)\n",
            "Requirement already satisfied: JPype1>=0.7.0 in /usr/local/lib/python3.7/dist-packages (from konlpy) (1.3.0)\n",
            "Requirement already satisfied: typing-extensions in /usr/local/lib/python3.7/dist-packages (from JPype1>=0.7.0->konlpy) (3.10.0.2)\n",
            "mecab-ko is already installed\n",
            "mecab-ko-dic is already installed\n",
            "mecab-python is already installed\n",
            "Done.\n"
          ]
        }
      ]
    },
    {
      "cell_type": "code",
      "source": [
        "#  mecab.morphs()를 사용해서 형태소 분석\n",
        "from konlpy.tag import Mecab\n",
        "\n",
        "mecab = Mecab()\n",
        "\n",
        "def mecab_split(sentence):\n",
        "    return mecab.morphs(sentence)\n",
        "\n",
        "mecab_corpus = []\n",
        "\n",
        "for kor in filtered_corpus:\n",
        "    mecab_corpus.append(mecab_split(kor))"
      ],
      "metadata": {
        "id": "MMUhf6RHwd5t"
      },
      "execution_count": 29,
      "outputs": []
    },
    {
      "cell_type": "code",
      "source": [
        "# corpus: Tokenized Sentence's List\n",
        "def tokenize(corpus):\n",
        "    tokenizer = tf.keras.preprocessing.text.Tokenizer(filters='')\n",
        "    tokenizer.fit_on_texts(corpus)\n",
        "\n",
        "    tensor = tokenizer.texts_to_sequences(corpus)\n",
        "\n",
        "    tensor = tf.keras.preprocessing.sequence.pad_sequences(tensor, padding='post')\n",
        "\n",
        "    return tensor, tokenizer"
      ],
      "metadata": {
        "id": "xTsj6KhCyxf0"
      },
      "execution_count": 30,
      "outputs": []
    },
    {
      "cell_type": "code",
      "source": [
        "# 단어 사전 길이 확인\n",
        "mecab_tensor, mecab_tokenizer = tokenize(mecab_corpus)\n",
        "\n",
        "print(\"MeCab Vocab Size:\", len(mecab_tokenizer.index_word))"
      ],
      "metadata": {
        "colab": {
          "base_uri": "https://localhost:8080/"
        },
        "id": "X_4jkLKryeTY",
        "outputId": "379915aa-a437-4c07-a008-63381e1ff39e"
      },
      "execution_count": 31,
      "outputs": [
        {
          "output_type": "stream",
          "name": "stdout",
          "text": [
            "MeCab Vocab Size: 45378\n"
          ]
        }
      ]
    },
    {
      "cell_type": "markdown",
      "source": [
        "mecab 테스트 해보기"
      ],
      "metadata": {
        "id": "_w1kJJiQUicv"
      }
    },
    {
      "cell_type": "code",
      "source": [
        "# Case 1\n",
        "texts = mecab_tokenizer.sequences_to_texts([mecab_tensor[300]])\n",
        "\n",
        "print(texts[0])"
      ],
      "metadata": {
        "id": "h1kAgHV7ylpZ",
        "colab": {
          "base_uri": "https://localhost:8080/"
        },
        "outputId": "cfc9d806-1a24-4d50-cf38-e6b4b0da4473"
      },
      "execution_count": 32,
      "outputs": [
        {
          "output_type": "stream",
          "name": "stdout",
          "text": [
            "훈훈 한 가족 드라마 를 이렇게 기발 하 고 기이 하 게 표현 할 수 있 다니 !\n"
          ]
        }
      ]
    },
    {
      "cell_type": "code",
      "source": [
        "# Case 2\n",
        "sentence = \"\"\n",
        "\n",
        "for w in mecab_tensor[300]:\n",
        "    if w == 0: continue\n",
        "    sentence += mecab_tokenizer.index_word[w] + \"\"\n",
        "\n",
        "print(sentence)"
      ],
      "metadata": {
        "colab": {
          "base_uri": "https://localhost:8080/"
        },
        "id": "mFJBei5tO12g",
        "outputId": "9b31b5e9-a08d-4421-bfef-6d0950d90884"
      },
      "execution_count": 33,
      "outputs": [
        {
          "output_type": "stream",
          "name": "stdout",
          "text": [
            "훈훈한가족드라마를이렇게기발하고기이하게표현할수있다니!\n"
          ]
        }
      ]
    },
    {
      "cell_type": "code",
      "source": [
        "test = mecab_tokenizer.texts_to_sequences(\"줄거리에 다써놨어 ㅋㅋㅋ ㅁ ㅣ친 ㄴ ㅔ이버\")\n",
        "test"
      ],
      "metadata": {
        "colab": {
          "base_uri": "https://localhost:8080/"
        },
        "id": "bdaoEyG8edno",
        "outputId": "d6110821-43b2-49d4-f27c-4ff6ae3478de"
      },
      "execution_count": 34,
      "outputs": [
        {
          "output_type": "execute_result",
          "data": {
            "text/plain": [
              "[[130],\n",
              " [57],\n",
              " [896],\n",
              " [12],\n",
              " [],\n",
              " [5],\n",
              " [1125],\n",
              " [2197],\n",
              " [44],\n",
              " [],\n",
              " [129],\n",
              " [129],\n",
              " [129],\n",
              " [],\n",
              " [1171],\n",
              " [],\n",
              " [1625],\n",
              " [2324],\n",
              " [],\n",
              " [847],\n",
              " [],\n",
              " [14043],\n",
              " [2],\n",
              " [1472]]"
            ]
          },
          "metadata": {},
          "execution_count": 34
        }
      ]
    },
    {
      "cell_type": "code",
      "source": [
        "result = mecab_tokenizer.sequences_to_texts(test)\n",
        "print(result)"
      ],
      "metadata": {
        "colab": {
          "base_uri": "https://localhost:8080/"
        },
        "id": "Y02YVDTNfV1J",
        "outputId": "b420af55-3c0f-4efa-f01e-18893f05c102"
      },
      "execution_count": 35,
      "outputs": [
        {
          "output_type": "stream",
          "name": "stdout",
          "text": [
            "['줄', '거', '리', '에', '', '다', '써', '놨', '어', '', 'ㅋ', 'ㅋ', 'ㅋ', '', 'ㅁ', '', 'ㅣ', '친', '', 'ㄴ', '', 'ㅔ', '이', '버']\n"
          ]
        }
      ]
    },
    {
      "cell_type": "markdown",
      "source": [
        "# 불용어 제거 어디서 어떻게 하지?"
      ],
      "metadata": {
        "id": "sG_T2bdQBHIb"
      }
    },
    {
      "cell_type": "markdown",
      "source": [
        "### 4) Sentence Piece를 이용해서 Vocab 파일을 만들기\n"
      ],
      "metadata": {
        "id": "1Qd19xWdO3z3"
      }
    },
    {
      "cell_type": "code",
      "source": [
        "data_dir"
      ],
      "metadata": {
        "id": "iFjdVOehbQKQ",
        "colab": {
          "base_uri": "https://localhost:8080/",
          "height": 35
        },
        "outputId": "2bfbd569-6bf5-4790-d2ce-a0674558a535"
      },
      "execution_count": 36,
      "outputs": [
        {
          "output_type": "execute_result",
          "data": {
            "text/plain": [
              "'/content/drive/MyDrive/Aiffel/sp_tokenizer/data'"
            ],
            "application/vnd.google.colaboratory.intrinsic+json": {
              "type": "string"
            }
          },
          "metadata": {},
          "execution_count": 36
        }
      ]
    },
    {
      "cell_type": "code",
      "source": [
        "filtered_corpus[:10]"
      ],
      "metadata": {
        "id": "n550uFOvTMyQ",
        "colab": {
          "base_uri": "https://localhost:8080/"
        },
        "outputId": "954ccb93-0ff7-42f5-c616-8d7ff120fe88"
      },
      "execution_count": 37,
      "outputs": [
        {
          "output_type": "execute_result",
          "data": {
            "text/plain": [
              "['이영화를 한마디로 표현 하자면. 곤드레만드레',\n",
              " '답답한 현실이다 이미 바꾸기엔 그들이 너무 거대하구나',\n",
              " '오래된건데 지금봐도 충격임..뭣 모르고 채널 돌렸다가 2시간동안 다 봤네요 재밌음.',\n",
              " '여성을 위한 영화인데 솔직히 관념 뒤집기에는 역부족',\n",
              " '제목 부터 팡 터 졋다 기대 안하고봣는데 재밋네 ㅎ',\n",
              " '막무가내 잔 다라 비비기.',\n",
              " 'ㅇ올밴 재편성때 광희한테 쫓겨나고 이번엔 유세윤 음주운전때매 쫓겨나고 ... 안타깝고 실망스러울뿐이다',\n",
              " '소재는 괜찮은데, 볼거리는 최악의 영화',\n",
              " '당연',\n",
              " '↑ ㅋㅋ 공감']"
            ]
          },
          "metadata": {},
          "execution_count": 37
        }
      ]
    },
    {
      "cell_type": "code",
      "source": [
        "import sentencepiece as spm\n",
        "import os\n",
        "temp_file = data_dir + '/ratings_train_temp4.txt'\n",
        "\n",
        "vocab_size = 10000\n",
        "model_name = 'rating_cor4'\n",
        "\n",
        "with open(temp_file, 'w') as f:\n",
        "    for row in filtered_corpus:   # 이전 스텝에서 정제했던 corpus를 활용합니다.\n",
        "        f.write(str(row) + '\\n')\n",
        "\n",
        "spm.SentencePieceTrainer.Train(\n",
        "    \"--input={} --model_prefix={} --vocab_size={}\".format(temp_file, model_name, vocab_size) +\n",
        "    \" --model_type=char\" + # Train에서  --model_type = 'unigram'이 디폴트, --model_type = 'bpe' 로 옵션을 주어 변경 가능.\n",
        "    \" --max_sentence_length=80\" + # 문장 최대 길이\n",
        "    \" --pad_id=0 --pad_piece=[PAD]\" + # pad (0)\n",
        "    \" --unk_id=1 --unk_piece=[UNK]\" + # unknown (1)\n",
        "    \" --bos_id=2 --bos_piece=[BOS]\" + # begin of sequence (2)\n",
        "    \" --eos_id=3 --eos_piece=[EOS]\" ) # end of sequence (3)\n",
        "\n",
        "!ls -l rating_cor4*"
      ],
      "metadata": {
        "id": "gdwC9v6SXNUr",
        "colab": {
          "base_uri": "https://localhost:8080/"
        },
        "outputId": "04b9e24c-2cdb-4c30-ee51-bf4f169cdf2b"
      },
      "execution_count": 38,
      "outputs": [
        {
          "output_type": "stream",
          "name": "stdout",
          "text": [
            "-rw-r--r-- 1 root root 258841 Mar 24 01:32 rating_cor4.model\n",
            "-rw-r--r-- 1 root root  22662 Mar 24 01:32 rating_cor4.vocab\n"
          ]
        }
      ]
    },
    {
      "cell_type": "code",
      "source": [
        "s = spm.SentencePieceProcessor()\n",
        "s.Load('rating_cor4.model')\n",
        "\n",
        "# SentencePiece를 활용한 sentence -> encoding\n",
        "tokensIDs = s.EncodeAsIds('줄거리에 다써놨어 ㅋㅋㅋ ㅁ ㅣ친 ㄴ ㅔ이버')\n",
        "print(tokensIDs)\n",
        "\n",
        "# SentencePiece를 활용한 sentence -> encoded pieces\n",
        "print(s.SampleEncodeAsPieces('줄거리에 다써놨어 ㅋㅋㅋ ㅁ ㅣ친 ㄴ ㅔ이버',1, 0.0))\n",
        "\n",
        "# SentencePiece를 활용한 encoding -> sentence 복원\n",
        "print(s.DecodeIds(tokensIDs))"
      ],
      "metadata": {
        "id": "Qtq_mdjaZUIS",
        "colab": {
          "base_uri": "https://localhost:8080/"
        },
        "outputId": "36330794-3df4-4f32-8947-5068b3b1bda8"
      },
      "execution_count": 39,
      "outputs": [
        {
          "output_type": "stream",
          "name": "stdout",
          "text": [
            "[4, 230, 71, 32, 24, 4, 7, 530, 879, 23, 4, 17, 17, 17, 4, 694, 4, 830, 328, 4, 599, 4, 1162, 6, 201]\n",
            "[]\n",
            "줄거리에 다써놨어 ᄏᄏᄏ ᄆ ᅵ친 ᄂ ᅦ이버\n"
          ]
        }
      ]
    },
    {
      "cell_type": "markdown",
      "source": [
        "## Step 3. Tokenizer 함수 작정\n",
        "-  위에서 훈련시킨 SentencePiece를 활용\n",
        "> 1. 매개변수로 토큰화된 문장의 list를 전달하는 대신 **온전한 문장**의 list를 전달한다.\n",
        "> 2. **생성된 vocab 파일** 읽어와 `{ <word> : <idx> }` 형태를 가지는 `word_index` 사전과 `{ <idx> : <word>}` 형태를 가지는 `index_word` 사전을 생성하고 함께 **반환**합니다.\n",
        "> 3. 리턴값인 `tensor` 는 앞의 함수와 동일하게 토큰화한 후 Encoding된 문장입니다. 바로 학습에 사용할 수 있게 Padding은 당연히 해야합니다."
      ],
      "metadata": {
        "id": "l-95H7uVb5H2"
      }
    },
    {
      "cell_type": "code",
      "source": [
        "def sp_tokenize(s, corpus):\n",
        "\n",
        "    tensor = []\n",
        "\n",
        "    for sen in corpus:\n",
        "        tensor.append(s.EncodeAsIds(sen))\n",
        "\n",
        "    with open(\"./rating_cor4.vocab\", 'r') as f:\n",
        "        vocab = f.readlines()\n",
        "\n",
        "    word_index = {}\n",
        "    index_word = {}\n",
        "\n",
        "    for idx, line in enumerate(vocab):\n",
        "        word = line.split(\"\\t\")[0]\n",
        "\n",
        "        word_index.update({idx:word})\n",
        "        index_word.update({word:idx})\n",
        "\n",
        "    tensor = tf.keras.preprocessing.sequence.pad_sequences(tensor, padding='pre') # RNN에는 'pre'가 더 유리하다\n",
        "\n",
        "    return tensor, word_index, index_word"
      ],
      "metadata": {
        "id": "aHkvYArvf_NA"
      },
      "execution_count": 40,
      "outputs": []
    },
    {
      "cell_type": "code",
      "source": [
        "#sp_tokenize(s, corpus) 사용예제\n",
        "\n",
        "my_corpus = ['나는 밥을 먹었습니다.', '그러나 여전히 ㅠㅠ 배가 고픕니다...']\n",
        "tensor, word_index, index_word = sp_tokenize(s, my_corpus)\n",
        "print(\"Tensor:\",tensor)\n",
        "print(\"Word_index:\",word_index)\n",
        "print(\"Index_word:\",index_word)"
      ],
      "metadata": {
        "id": "a11dw3_6lqaf",
        "colab": {
          "base_uri": "https://localhost:8080/"
        },
        "outputId": "baefa3f1-a65b-412c-ffe2-2e795a53862f"
      },
      "execution_count": 41,
      "outputs": [
        {
          "output_type": "stream",
          "name": "stdout",
          "text": [
            "Tensor: [[   0    0    0    0    0    0    0    0    0    4   21    9    4  771\n",
            "    40    4  302   75  136   33    7    5]\n",
            " [   4   43  117   21    4   86   62  145    4   83   83    4  144   15\n",
            "     4   12 1642   33    7    5    5    5]]\n",
            "Word_index: {0: '[PAD]', 1: '[UNK]', 2: '[BOS]', 3: '[EOS]', 4: '▁', 5: '.', 6: '이', 7: '다', 8: '화', 9: '는', 10: '영', 11: '지', 12: '고', 13: '!', 14: '하', 15: '가', 16: '아', 17: 'ᄏ', 18: '도', 19: '재', 20: '기', 21: '나', 22: '한', 23: '어', 24: '에', 25: '요', 26: '의', 27: '보', 28: '만', 29: '은', 30: '게', 31: '미', 32: '리', 33: '니', 34: '라', 35: '로', 36: '~', 37: '없', 38: '무', 39: '시', 40: '을', 41: '?', 42: '점', 43: '그', 44: '서', 45: '스', 46: '인', 47: '네', 48: '말', 49: '정', 50: '들', 51: '있', 52: '진', 53: ',', 54: '데', 55: '음', 56: '대', 57: '마', 58: '좋', 59: '감', 60: '해', 61: '내', 62: '전', 63: '최', 64: '너', 65: '1', 66: '수', 67: '면', 68: '밌', 69: '작', 70: '사', 71: '거', 72: '자', 73: '연', 74: '주', 75: '었', 76: '드', 77: '0', 78: '짜', 79: '오', 80: '야', 81: '우', 82: '를', 83: 'ᅲ', 84: '장', 85: '으', 86: '여', 87: '안', 88: '봤', 89: ';', 90: '까', 91: '상', 92: '동', 93: '적', 94: '생', 95: '평', 96: '제', 97: '^', 98: '간', 99: 'ᄒ', 100: '개', 101: '런', 102: '더', 103: '구', 104: '했', 105: '본', 106: '운', 107: '일', 108: '건', 109: '중', 110: '루', 111: '것', 112: '레', 113: '성', 114: '부', 115: '소', 116: '유', 117: '러', 118: '치', 119: '같', 120: '잼', 121: '비', 122: '았', 123: '모', 124: '할', 125: '왜', 126: '잘', 127: '와', 128: '신', 129: '난', 130: '던', 131: '봐', 132: 'ᅳ', 133: '세', 134: '용', 135: '않', 136: '습', 137: '과', 138: '별', 139: '2', 140: '함', 141: '디', 142: '명', 143: 'O', 144: '배', 145: '히', 146: '때', 147: '볼', 148: '랑', 149: '래', 150: '공', 151: '쓰', 152: '려', 153: '저', 154: '각', 155: '토', 156: '실', 157: '조', 158: '분', 159: '임', 160: '악', 161: '되', 162: '국', 163: '남', 164: '싶', 165: '노', 166: '뭐', 167: '못', 168: '-', 169: '완', 170: '냥', 171: '역', 172: '알', 173: '터', 174: '애', 175: '\"', 176: '독', 177: '걸', 178: '편', 179: '심', 180: '냐', 181: '원', 182: '듯', 183: '입', 184: '준', 185: '추', 186: '름', 187: '웃', 188: '타', 189: '르', 190: 'o', 191: '반', 192: '겠', 193: '물', 194: '바', 195: '느', 196: '망', 197: '포', 198: '코', 199: '든', 200: '짱', 201: '버', 202: '막', 203: '예', 204: '좀', 205: '금', 206: '션', 207: 'ᅮ', 208: '당', 209: '트', 210: '박', 211: '억', 212: '였', 213: '단', 214: '력', 215: '번', 216: 'e', 217: '3', 218: '년', 219: '매', 220: '깝', 221: '참', 222: '품', 223: '위', 224: '많', 225: '람', 226: '두', 227: '발', 228: '프', 229: '울', 230: '줄', 231: '워', 232: '선', 233: '렇', 234: '끝', 235: '문', 236: '극', 237: '후', 238: '긴', 239: '처', 240: '현', 241: '잔', 242: '속', 243: '넘', 244: '액', 245: 't', 246: '따', 247: '린', 248: '불', 249: '결', 250: '강', 251: '릴', 252: '밋', 253: '설', 254: '체', 255: '눈', 256: '직', 257: '멋', 258: '질', 259: '관', 260: '필', 261: '절', 262: '굿', 263: '답', 264: '허', 265: '된', 266: '출', 267: 's', 268: '괜', 269: '4', 270: '김', 271: '머', 272: '살', 273: '군', 274: '합', 275: '돈', 276: '♥', 277: '길', 278: '즈', 279: '크', 280: 'a', 281: '천', 282: '죽', 283: '님', 284: '계', 285: '차', 286: '찮', 287: '청', 288: '메', 289: '귀', 290: '졸', 291: '경', 292: '9', 293: '슬', 294: 'd', 295: 'i', 296: '식', 297: '또', 298: '피', 299: '호', 300: '존', 301: '럽', 302: '먹', 303: '5', 304: '초', 305: '엔', 306: '족', 307: '슨', 308: '형', 309: '날', 310: '움', 311: '판', 312: '빠', 313: \"'\", 314: 'ᄃ', 315: '파', 316: '급', 317: '꼭', 318: '행', 319: '란', 320: '온', 321: '민', 322: '른', 323: '뻔', 324: 'r', 325: '겨', 326: '슴', 327: '올', 328: '친', 329: '언', 330: 'n', 331: '방', 332: '류', 333: '_', 334: '뭔', 335: '엄', 336: '교', 337: '근', 338: '증', 339: '순', 340: '티', 341: 'ᄋ', 342: '낮', 343: '회', 344: '8', 345: '카', 346: '록', 347: '글', 348: '7', 349: '달', 350: '몰', 351: '캐', 352: '맨', 353: '새', 354: '맞', 355: 'b', 356: '표', 357: '목', 358: '져', 359: '키', 360: '씨', 361: 'g', 362: '학', 363: '훈', 364: '낌', 365: '케', 366: '받', 367: '높', 368: '누', 369: '흥', 370: '집', 371: 'ᄍ', 372: 'h', 373: '특', 374: 'l', 375: '렸', 376: '충', 377: '복', 378: '얼', 379: '색', 380: '끼', 381: '림', 382: '산', 383: '태', 384: '베', 385: '희', 386: '딩', 387: '약', 388: '힘', 389: '왔', 390: '브', 391: '술', 392: '열', 393: '뿐', 394: '닌', 395: '돌', 396: '웠', 397: '테', 398: '솔', 399: '갈', 400: '외', 401: '쁘', 402: ')', 403: '양', 404: '쾌', 405: '격', 406: '링', 407: '담', 408: '혀', 409: '녀', 410: 'v', 411: '봉', 412: '엇', 413: '잡', 414: '랜', 415: '론', 416: '쉬', 417: 'c', 418: '팅', 419: '/', 420: '6', 421: '욕', 422: '찍', 423: 'm', 424: '죠', 425: '픈', 426: '엉', 427: '환', 428: '삼', 429: '쉽', 430: '밖', 431: '통', 432: '탄', 433: '등', 434: '놀', 435: 'B', 436: '섭', 437: '(', 438: '킬', 439: '종', 440: '황', 441: '몇', 442: 'T', 443: '딱', 444: '범', 445: '꿀', 446: '휴', 447: '패', 448: '뜻', 449: '잇', 450: '씬', 451: 'u', 452: '즐', 453: '접', 454: '투', 455: '퍼', 456: '블', 457: '싸', 458: '홍', 459: 'f', 460: '립', 461: '승', 462: '쳐', 463: '능', 464: '클', 465: '맛', 466: 'S', 467: '릭', 468: '믿', 469: '왕', 470: '향', 471: '딴', 472: '병', 473: '벽', 474: '잠', 475: '송', 476: '찾', 477: '짐', 478: '석', 479: 'ᄉ', 480: '큼', 481: '봄', 482: '럼', 483: 'y', 484: '손', 485: '봣', 486: '깊', 487: '겁', 488: '잊', 489: '늘', 490: '갑', 491: '광', 492: '꺼', 493: '며', 494: '창', 495: '났', 496: '백', 497: '싫', 498: '께', 499: '엽', 500: 'C', 501: '걍', 502: '떨', 503: '먼', 504: '빨', 505: '빼', 506: '될', 507: '혼', 508: '줘', 509: '굳', 510: '놓', 511: '♡', 512: '짝', 513: 'G', 514: '빈', 515: '효', 516: '죄', 517: '권', 518: '룡', 519: '락', 520: '낭', 521: '팬', 522: '뒤', 523: '커', 524: '콩', 525: '졌', 526: '닥', 527: '큐', 528: '쟁', 529: '낚', 530: '써', 531: '찬', 532: '뭘', 533: '낫', 534: '법', 535: '옛', 536: '흐', 537: '폭', 538: '변', 539: '쌍', 540: '덕', 541: '즘', 542: '괴', 543: '돋', 544: '헐', 545: '됨', 546: 'ᄀ', 547: '윤', 548: '놈', 549: '채', 550: '업', 551: '숨', 552: 'w', 553: '똥', 554: 'D', 555: '꾸', 556: '떻', 557: '잖', 558: '쩔', 559: '책', 560: '깨', 561: '껴', 562: '삶', 563: '떠', 564: '객', 565: '빙', 566: '믹', 567: '+', 568: '암', 569: 'V', 570: '플', 571: '>', 572: 'k', 573: ':', 574: '쩌', 575: '철', 576: '취', 577: '*', 578: '곤', 579: '맘', 580: '풍', 581: '밀', 582: '견', 583: '쁜', 584: '앞', 585: '총', 586: 'p', 587: '끔', 588: 'M', 589: '쓸', 590: '첨', 591: '페', 592: '몸', 593: '훌', 594: '월', 595: '훨', 596: '꽤', 597: '럭', 598: '륭', 599: 'ᄂ', 600: '확', 601: '흠', 602: '돼', 603: '탈', 604: '련', 605: '큰', 606: '겼', 607: '즌', 608: '틱', 609: 'ᄇ', 610: '멜', 611: '줌', 612: '짓', 613: '꼬', 614: '궁', 615: '롭', 616: '빵', 617: '굴', 618: '뻐', 619: '욱', 620: '찌', 621: '젠', 622: '흑', 623: '둘', 624: '째', 625: '겟', 626: '왠', 627: '헤', 628: '꿈', 629: '멘', 630: '십', 631: '낸', 632: '틀', 633: '끄', 634: '춘', 635: '험', 636: '벌', 637: '혜', 638: 'F', 639: '징', 640: '묘', 641: '젤', 642: '척', 643: '침', 644: '끌', 645: '혹', 646: '=', 647: '골', 648: '뛰', 649: '뜨', 650: '풀', 651: '줬', 652: '핵', 653: '랄', 654: '웅', 655: '갔', 656: '멍', 657: '슈', 658: '옴', 659: 'ᄅ', 660: '랐', 661: '얘', 662: '픽', 663: '빛', 664: '섹', 665: '칠', 666: '겹', 667: '맥', 668: '콜', 669: 'ᄌ', 670: '츠', 671: '튼', 672: '땜', 673: '활', 674: 'A', 675: 'I', 676: '콤', 677: '택', 678: '앗', 679: '착', 680: '놔', 681: '팔', 682: '햇', 683: '랬', 684: '펑', 685: '흔', 686: '흘', 687: '익', 688: '득', 689: '압', 690: '낄', 691: '럴', 692: '첫', 693: '쿠', 694: 'ᄆ', 695: '빌', 696: '됐', 697: '잤', 698: '셔', 699: '읽', 700: '륜', 701: '쩐', 702: '텐', 703: '쇼', 704: '율', 705: '잃', 706: '듬', 707: '굉', 708: '떤', 709: '<', 710: '끈', 711: '벗', 712: '킨', 713: 'E', 714: '몽', 715: '셈', 716: '응', 717: '찰', 718: '%', 719: '@', 720: 'z', 721: '갖', 722: '쳤', 723: '컬', 724: '픔', 725: '숙', 726: '딸', 727: '북', 728: '샤', 729: '규', 730: '균', 731: '덜', 732: '똑', 733: '앙', 734: '폐', 735: '겐', 736: '깔', 737: '닝', 738: '탕', 739: '협', 740: '뮤', 741: '밑', 742: '센', 743: '엘', 744: '쯤', 745: '웨', 746: '료', 747: '슷', 748: '틴', 749: '렌', 750: '곡', 751: '셨', 752: '곳', 753: '쎄', 754: '옥', 755: '항', 756: '릿', 757: '볍', 758: '맹', 759: '찝', 760: '섬', 761: '랍', 762: '싱', 763: '잉', 764: '쵝', 765: '힐', 766: 'X', 767: '쓴', 768: '엿', 769: '탁', 770: '령', 771: '밥', 772: '풋', 773: 'ᅡ', 774: '널', 775: '찡', 776: 'j', 777: '깐', 778: '염', 779: '짧', 780: '촌', 781: '`', 782: '램', 783: '렬', 784: '육', 785: '켜', 786: '랙', 787: '꼽', 788: '뽕', 789: '축', 790: '묻', 791: '씀', 792: '념', 793: '젊', 794: 'x', 795: '깜', 796: '랫', 797: '킹', 798: '푸', 799: '벤', 800: '쥐', 801: '렵', 802: '옹', 803: '퉁', 804: '닐', 805: '쩝', 806: 'N', 807: '씩', 808: '엑', 809: '댓', 810: '렉', 811: '멀', 812: '밤', 813: '벨', 814: '쁨', 815: '갓', 816: '꼴', 817: '땅', 818: '률', 819: '쫌', 820: 'L', 821: '됬', 822: '잭', 823: '턴', 824: '헌', 825: '씁', 826: '&', 827: '값', 828: '검', 829: '늦', 830: 'ᅵ', 831: '껏', 832: '낀', 833: '닿', 834: '듣', 835: '뭉', 836: '삭', 837: '윌', 838: '콘', 839: '톰', 840: '폴', 841: '꽝', 842: '논', 843: '맙', 844: '봅', 845: '쥬', 846: '칼', 847: '덩', 848: '떡', 849: '앤', 850: '캬', 851: '껄', 852: '냈', 853: '땐', 854: '썩', 855: 'ᅩ', 856: '꽃', 857: '짠', 858: '쯧', 859: '농', 860: '뉴', 861: '늙', 862: '퀄', 863: '혁', 864: '홀', 865: 'R', 866: 'ᅥ', 867: '몬', 868: '좌', 869: '량', 870: '왓', 871: '웬', 872: '퇴', 873: '냄', 874: '컨', 875: '힌', 876: '쏘', 877: '춤', 878: 'ᄎ', 879: '놨', 880: '롱', 881: '뿌', 882: '갱', 883: '됩', 884: '숭', 885: '줍', 886: '납', 887: '넹', 888: '뚱', 889: '꼈', 890: '넣', 891: '렁', 892: '뷰', 893: '왤', 894: '쩜', 895: '쪽', 896: '춰', 897: '헛', 898: '뇌', 899: '텔', 900: '뒷', 901: '썼', 902: '혐', 903: '흡', 904: 'P', 905: 'W', 906: '★', 907: '겉', 908: '떄', 909: '붕', 910: '븐', 911: '첩', 912: '펐', 913: '흉', 914: '넌', 915: '례', 916: '묵', 917: '밍', 918: '젼', 919: '톤', 920: '깎', 921: '낳', 922: '뎁', 923: '뜩', 924: '뜬', 925: '략', 926: '빡', 927: '셀', 928: '촬', 929: '컴', 930: '펜', 931: '뎀', 932: '뻤', 933: '뿔', 934: '씹', 935: '탑', 936: '휘', 937: '룬', 938: '멸', 939: '뽀', 940: '[', 941: '붙', 942: '벼', 943: '빅', 944: ']', 945: 'ᄁ', 946: '껐', 947: '므', 948: '팍', 949: '폰', 950: 'K', 951: '끊', 952: '뱀', 953: '퓨', 954: '엠', 955: '팀', 956: '갠', 957: '땡', 958: '롤', 959: '뢰', 960: '쿡', 961: '틸', 962: '꾼', 963: '닫', 964: '닮', 965: '둥', 966: '밝', 967: '칸', 968: 'H', 969: 'ᄊ', 970: '댄', 971: '렷', 972: '봇', 973: '빗', 974: '섯', 975: '쩡', 976: '쯔', 977: '혈', 978: '덤', 979: '롯', 980: '뭥', 981: '샘', 982: '얻', 983: '읍', 984: '탐', 985: '곰', 986: '닷', 987: '덴', 988: '딜', 989: '챙', 990: '쿵', 991: '틈', 992: '긋', 993: '깁', 994: '냉', 995: '얄', 996: '콧', 997: 'J', 998: '꿔', 999: '녕', 1000: '옷', 1001: '헬', 1002: '획', 1003: 'U', 1004: '깡', 1005: '닼', 1006: '델', 1007: '뎅', 1008: '렐', 1009: '멈', 1010: '욤', 1011: '짬', 1012: '쿨', 1013: '털', 1014: '팩', 1015: '곱', 1016: '낯', 1017: '딘', 1018: '톱', 1019: '펙', 1020: 'Y', 1021: '듭', 1022: '삐', 1023: '웰', 1024: '죤', 1025: '칙', 1026: '컷', 1027: '폼', 1028: '뚝', 1029: '앨', 1030: '찜', 1031: '푹', 1032: '핀', 1033: '곽', 1034: '닙', 1035: '샌', 1036: '숀', 1037: '쏟', 1038: '윈', 1039: '츄', 1040: '퀴', 1041: '곧', 1042: '깍', 1043: '낙', 1044: '낼', 1045: '닉', 1046: '랴', 1047: '룩', 1048: '벅', 1049: '섞', 1050: '쏠', 1051: '뀌', 1052: '늑', 1053: '뽑', 1054: '싼', 1055: '측', 1056: '탱', 1057: '튀', 1058: '핑', 1059: 'ᅢ', 1060: '넬', 1061: '녹', 1062: '띄', 1063: '뷔', 1064: '빕', 1065: '엣', 1066: '텝', 1067: '퉤', 1068: '딧', 1069: '랭', 1070: '옆', 1071: '웟', 1072: '찐', 1073: '컥', 1074: '둑', 1075: '썰', 1076: '쟈', 1077: '칭', 1078: '핫', 1079: 'ᄐ', 1080: '둔', 1081: '렛', 1082: '뱅', 1083: '쉐', 1084: '캅', 1085: '켄', 1086: '팡', 1087: '뗄', 1088: '밧', 1089: '싹', 1090: '앜', 1091: '옵', 1092: '쪼', 1093: '켓', 1094: '핳', 1095: '헉', 1096: '넷', 1097: '늬', 1098: '땀', 1099: '똘', 1100: '앉', 1101: '쫄', 1102: '탓', 1103: '팝', 1104: '떼', 1105: '뜸', 1106: '띠', 1107: '셉', 1108: '킥', 1109: '훼', 1110: 'ᄡ', 1111: '껀', 1112: '닭', 1113: '렴', 1114: '룰', 1115: '쉣', 1116: '좆', 1117: 'q', 1118: '☆', 1119: '맑', 1120: '뭇', 1121: '밨', 1122: '뻣', 1123: '앵', 1124: '젖', 1125: '찢', 1126: '콕', 1127: '꺄', 1128: '랩', 1129: '렀', 1130: '맡', 1131: '뻥', 1132: '윽', 1133: '짤', 1134: '홈', 1135: '훗', 1136: 'Z', 1137: 'ᅭ', 1138: '맴', 1139: '몫', 1140: '삽', 1141: '엌', 1142: '욬', 1143: '쭉', 1144: '퀸', 1145: '팠', 1146: '펭', 1147: 'ᄑ', 1148: '↓', 1149: '궈', 1150: '귄', 1151: '긔', 1152: '깃', 1153: '눌', 1154: '릉', 1155: '뻑', 1156: '쒸', 1157: '웩', 1158: '쭈', 1159: '챔', 1160: '펼', 1161: '#', 1162: 'ᅦ', 1163: '겻', 1164: '뚫', 1165: '릅', 1166: '뭣', 1167: '밴', 1168: '쏴', 1169: '젝', 1170: '켰', 1171: '킴', 1172: '톡', 1173: '혔', 1174: '홧', 1175: '긍', 1176: '딨', 1177: '뚜', 1178: '륵', 1179: '붉', 1180: '셜', 1181: '솜', 1182: '썬', 1183: '썸', 1184: '왈', 1185: '짙', 1186: '첼', 1187: '캠', 1188: '캡', 1189: '템', 1190: '·', 1191: '人', 1192: '됫', 1193: '랏', 1194: '맷', 1195: '뭡', 1196: '밸', 1197: '뿜', 1198: '삘', 1199: '욜', 1200: '욧', 1201: '줫', 1202: '컸', 1203: '톨', 1204: '팽', 1205: '헝', 1206: '헷', 1207: '괘', 1208: '끗', 1209: '둠', 1210: '듦', 1211: '렘', 1212: '룸', 1213: '믄', 1214: '숲', 1215: '얀', 1216: '얌', 1217: '쨌', 1218: '쨩', 1219: '층', 1220: '턱', 1221: '펠', 1222: '헨', 1223: '힝', 1224: '\\\\', 1225: '겄', 1226: '겅', 1227: '꽁', 1228: '둡', 1229: '밉', 1230: '샀', 1231: '샹', 1232: '슐', 1233: '쌩', 1234: '웡', 1235: '읎', 1236: '잣', 1237: '짖', 1238: '쪄', 1239: '쪙', 1240: '쿼', 1241: '탤', 1242: '틋', 1243: 'ᅧ', 1244: '꼇', 1245: '꽉', 1246: '넼', 1247: '댐', 1248: '덮', 1249: '됴', 1250: '뜯', 1251: '릇', 1252: '맺', 1253: '및', 1254: '뼈', 1255: '셰', 1256: '쉰', 1257: '쌈', 1258: '썅', 1259: '썻', 1260: '얍', 1261: '웁', 1262: '웍', 1263: '쩍', 1264: '쫓', 1265: '캔', 1266: '킁', 1267: '툰', 1268: '펀', 1269: 'ᅣ', 1270: '乃', 1271: '갸', 1272: '걱', 1273: '깽', 1274: '뉘', 1275: '듀', 1276: '멕', 1277: '멤', 1278: '묶', 1279: '빚', 1280: '뻘', 1281: '셋', 1282: '셧', 1283: '쉴', 1284: '슌', 1285: '싯', 1286: '썽', 1287: '쑈', 1288: '옳', 1289: '웹', 1290: '젬', 1291: '졋', 1292: '쵸', 1293: '췄', 1294: '칩', 1295: '튜', 1296: '푼', 1297: '핸', 1298: '훔', 1299: '흰', 1300: '。', 1301: '꿨', 1302: '냅', 1303: '넋', 1304: '댈', 1305: '댕', 1306: '띵', 1307: '뤄', 1308: '륙', 1309: '벙', 1310: '뷁', 1311: '빤', 1312: '뿡', 1313: '숫', 1314: '숴', 1315: '앓', 1316: '앳', 1317: '옮', 1318: '욯', 1319: '윙', 1320: '잎', 1321: '쨋', 1322: '칫', 1323: '컵', 1324: '펄', 1325: '핏', 1326: '햄', 1327: '헠', 1328: '헿', 1329: '홉', 1330: '횽', 1331: 'ᆞ', 1332: '♬', 1333: '甲', 1334: '겜', 1335: '끓', 1336: '뇨', 1337: '닦', 1338: '덥', 1339: '덧', 1340: '돠', 1341: '됌', 1342: '뒀', 1343: '룹', 1344: '밟', 1345: '뺏', 1346: '뺴', 1347: '솟', 1348: '쇠', 1349: '쌓', 1350: '쏙', 1351: '얕', 1352: '엎', 1353: '젓', 1354: '즉', 1355: '쬐', 1356: '찔', 1357: '췌', 1358: '켈', 1359: '쿄', 1360: '퀀', 1361: '탭', 1362: '텅', 1363: '핡', 1364: '흙', 1365: 'Q', 1366: '死', 1367: '갤', 1368: '굼', 1369: '꾀', 1370: '넓', 1371: '넨', 1372: '딥', 1373: '롬', 1374: '밓', 1375: '쇄', 1376: '쉘', 1377: '슥', 1378: '쌀', 1379: '쑤', 1380: '죵', 1381: '칵', 1382: '킵', 1383: '탔', 1384: '펏', 1385: '펴', 1386: '퐁', 1387: '핍', 1388: '헴', 1389: '힛', 1390: 'ᆪ', 1391: '♪', 1392: '無', 1393: '갇', 1394: '걷', 1395: '겔', 1396: '겪', 1397: '곀', 1398: '곁', 1399: '괞', 1400: '굵', 1401: '귓', 1402: '깬', 1403: '껍', 1404: '꾹', 1405: '뀐', 1406: '넥', 1407: '눅', 1408: '닳', 1409: '뎈', 1410: '돕', 1411: '됀', 1412: '둬', 1413: '딕', 1414: '땠', 1415: '뤠', 1416: '몹', 1417: '벡', 1418: '붐', 1419: '빔', 1420: '뿅', 1421: '샬', 1422: '쌔', 1423: '쒯', 1424: '엥', 1425: '엮', 1426: '욘', 1427: '윗', 1428: '쟝', 1429: '쥔', 1430: '짭', 1431: '쨔', 1432: '쫒', 1433: '쳇', 1434: '츤', 1435: '큭', 1436: '킷', 1437: '퉷', 1438: '퍽', 1439: '풉', 1440: '햐', 1441: '횡', 1442: '휼', 1443: '$', 1444: '作', 1445: '盧', 1446: '겸', 1447: '굽', 1448: '꽂', 1449: '낡', 1450: '낱', 1451: '넉', 1452: '넝', 1453: '넴', 1454: '댜', 1455: '떳', 1456: '떴', 1457: '렜', 1458: '뤽', 1459: '멎', 1460: '밭', 1461: '뺀', 1462: '뺨', 1463: '쌤', 1464: '씌', 1465: '씻', 1466: '앍', 1467: '얔', 1468: '옜', 1469: '왼', 1470: '잌', 1471: '잴', 1472: '좃', 1473: '쫙', 1474: '촘', 1475: '촤', 1476: '춥', 1477: '켠', 1478: '쿤', 1479: '{', 1480: '}', 1481: '̄', 1482: '“', 1483: '”', 1484: '→', 1485: '─', 1486: '○', 1487: '女', 1488: '곸', 1489: '귯', 1490: '꺅', 1491: '꼼', 1492: '꿉', 1493: '낰', 1494: '녔', 1495: '뎌', 1496: '떙', 1497: '뛴', 1498: '럿', 1499: '룻', 1500: '뮬', 1501: '믓', 1502: '밈', 1503: '뱃', 1504: '쁠', 1505: '샐', 1506: '샷', 1507: '섰', 1508: '셸', 1509: '쎼', 1510: '씽', 1511: '앰', 1512: '융', 1513: '읭', 1514: '쮸', 1515: '챦', 1516: '쳣', 1517: '촉', 1518: '쿰', 1519: '퀘', 1520: '큽', 1521: '탠', 1522: '텨', 1523: '팜', 1524: '팰', 1525: '핥', 1526: '햏', 1527: '훑', 1528: '흣', 1529: '힙', 1530: '⌒', 1531: '괄', 1532: '괸', 1533: '꺽', 1534: '꺾', 1535: '껌', 1536: '꼐', 1537: '끅', 1538: '끙', 1539: '넛', 1540: '녁', 1541: '늠', 1542: '닠', 1543: '뎃', 1544: '돔', 1545: '롸', 1546: '륨', 1547: '릎', 1548: '멧', 1549: '뫼', 1550: '뭍', 1551: '뱉', 1552: '붓', 1553: '뽜', 1554: '샛', 1555: '샴', 1556: '숟', 1557: '쎈', 1558: '쏜', 1559: '앟', 1560: '얽', 1561: '옼', 1562: '왁', 1563: '욥', 1564: '읏', 1565: '읔', 1566: '죨', 1567: '쥑', 1568: '쫑', 1569: '챈', 1570: '캣', 1571: '켁', 1572: '쾅', 1573: '퀼', 1574: '킈', 1575: '혓', 1576: '훅', 1577: '훤', 1578: '휠', 1579: '↗', 1580: '▽', 1581: '☞', 1582: 'か', 1583: 'づ', 1584: 'よ', 1585: 'ら', 1586: '最', 1587: '高', 1588: '갚', 1589: '갬', 1590: '괭', 1591: '긁', 1592: '깄', 1593: '껑', 1594: '꿋', 1595: '뀨', 1596: '냨', 1597: '눠', 1598: '덱', 1599: '됏', 1600: '뒈', 1601: '땔', 1602: '뚤', 1603: '뜰', 1604: '룽', 1605: '뤼', 1606: '먀', 1607: '멌', 1608: '븅', 1609: '뿍', 1610: '숏', 1611: '쌌', 1612: '썪', 1613: '쓱', 1614: '씸', 1615: '옿', 1616: '왃', 1617: '욷', 1618: '윅', 1619: '잰', 1620: '쟤', 1621: '젛', 1622: '졉', 1623: '졷', 1624: '좔', 1625: '줏', 1626: '짚', 1627: '쨰', 1628: '쫀', 1629: '쫘', 1630: '쫭', 1631: '쭝', 1632: '쯩', 1633: '칰', 1634: '캄', 1635: '캉', 1636: '컹', 1637: '켬', 1638: '콱', 1639: '텀', 1640: '팥', 1641: '퐝', 1642: '픕', 1643: '햌', 1644: '헀', 1645: '홥', 1646: '훸', 1647: '휩', 1648: '|', 1649: '\\xad', 1650: 'ᄄ', 1651: 'ᄈ', 1652: 'ᅯ', 1653: 'ᅴ', 1654: 'ᆭ', 1655: '’', 1656: '▼', 1657: '『', 1658: '』', 1659: 'い', 1660: 'し', 1661: 'っ', 1662: 'の', 1663: 'も', 1664: '映', 1665: '流', 1666: '秀', 1667: '갯', 1668: '걔', 1669: '겈', 1670: '굶', 1671: '궤', 1672: '깟', 1673: '껒', 1674: '꽈', 1675: '꿰', 1676: '뀔', 1677: '뀰', 1678: '끆', 1679: '끽', 1680: '낍', 1681: '낑', 1682: '냔', 1683: '냠', 1684: '놉', 1685: '뇬', 1686: '눼', 1687: '닛', 1688: '댁', 1689: '댔', 1690: '됄', 1691: '뒹', 1692: '듸', 1693: '딛', 1694: '떔', 1695: '떫', 1696: '떵', 1697: '뗼', 1698: '똔', 1699: '뙇', 1700: '렙', 1701: '릐', 1702: '뭄', 1703: '뮈', 1704: '밎', 1705: '벳', 1706: '벵', 1707: '뵜', 1708: '붇', 1709: '붸', 1710: '빢', 1711: '빰', 1712: '뽁', 1713: '쁩', 1714: '삥', 1715: '샵', 1716: '셍', 1717: '셩', 1718: '솧', 1719: '슛', 1720: '싖', 1721: '쌉', 1722: '썹', 1723: '쏩', 1724: '쒜', 1725: '앴', 1726: '얹', 1727: '옄', 1728: '옌', 1729: '왘', 1730: '웜', 1731: '잏', 1732: '쟘', 1733: '젋', 1734: '졍', 1735: '좉', 1736: '짰', 1737: '쫗', 1738: '쭘', 1739: '찹', 1740: '찼', 1741: '첬', 1742: '췬', 1743: '콥', 1744: '콬', 1745: '퀵', 1746: '큘', 1747: '툭', 1748: '툴', 1749: '팁', 1750: '펫', 1751: '폄', 1752: '핛', 1753: '핱', 1754: '햅', 1755: '헹', 1756: '홋', 1757: '홬', 1758: '횟', 1759: '훠', 1760: '휙', 1761: '흫', 1762: '̈', 1763: '̊', 1764: 'π', 1765: 'ω', 1766: 'ᅠ', 1767: 'ᅪ', 1768: 'ᆬ', 1769: 'ᆰ', 1770: 'ᆱ', 1771: '‘', 1772: '※', 1773: '↑', 1774: '∇'}\n",
            "Index_word: {'[PAD]': 0, '[UNK]': 1, '[BOS]': 2, '[EOS]': 3, '▁': 4, '.': 5, '이': 6, '다': 7, '화': 8, '는': 9, '영': 10, '지': 11, '고': 12, '!': 13, '하': 14, '가': 15, '아': 16, 'ᄏ': 17, '도': 18, '재': 19, '기': 20, '나': 21, '한': 22, '어': 23, '에': 24, '요': 25, '의': 26, '보': 27, '만': 28, '은': 29, '게': 30, '미': 31, '리': 32, '니': 33, '라': 34, '로': 35, '~': 36, '없': 37, '무': 38, '시': 39, '을': 40, '?': 41, '점': 42, '그': 43, '서': 44, '스': 45, '인': 46, '네': 47, '말': 48, '정': 49, '들': 50, '있': 51, '진': 52, ',': 53, '데': 54, '음': 55, '대': 56, '마': 57, '좋': 58, '감': 59, '해': 60, '내': 61, '전': 62, '최': 63, '너': 64, '1': 65, '수': 66, '면': 67, '밌': 68, '작': 69, '사': 70, '거': 71, '자': 72, '연': 73, '주': 74, '었': 75, '드': 76, '0': 77, '짜': 78, '오': 79, '야': 80, '우': 81, '를': 82, 'ᅲ': 83, '장': 84, '으': 85, '여': 86, '안': 87, '봤': 88, ';': 89, '까': 90, '상': 91, '동': 92, '적': 93, '생': 94, '평': 95, '제': 96, '^': 97, '간': 98, 'ᄒ': 99, '개': 100, '런': 101, '더': 102, '구': 103, '했': 104, '본': 105, '운': 106, '일': 107, '건': 108, '중': 109, '루': 110, '것': 111, '레': 112, '성': 113, '부': 114, '소': 115, '유': 116, '러': 117, '치': 118, '같': 119, '잼': 120, '비': 121, '았': 122, '모': 123, '할': 124, '왜': 125, '잘': 126, '와': 127, '신': 128, '난': 129, '던': 130, '봐': 131, 'ᅳ': 132, '세': 133, '용': 134, '않': 135, '습': 136, '과': 137, '별': 138, '2': 139, '함': 140, '디': 141, '명': 142, 'O': 143, '배': 144, '히': 145, '때': 146, '볼': 147, '랑': 148, '래': 149, '공': 150, '쓰': 151, '려': 152, '저': 153, '각': 154, '토': 155, '실': 156, '조': 157, '분': 158, '임': 159, '악': 160, '되': 161, '국': 162, '남': 163, '싶': 164, '노': 165, '뭐': 166, '못': 167, '-': 168, '완': 169, '냥': 170, '역': 171, '알': 172, '터': 173, '애': 174, '\"': 175, '독': 176, '걸': 177, '편': 178, '심': 179, '냐': 180, '원': 181, '듯': 182, '입': 183, '준': 184, '추': 185, '름': 186, '웃': 187, '타': 188, '르': 189, 'o': 190, '반': 191, '겠': 192, '물': 193, '바': 194, '느': 195, '망': 196, '포': 197, '코': 198, '든': 199, '짱': 200, '버': 201, '막': 202, '예': 203, '좀': 204, '금': 205, '션': 206, 'ᅮ': 207, '당': 208, '트': 209, '박': 210, '억': 211, '였': 212, '단': 213, '력': 214, '번': 215, 'e': 216, '3': 217, '년': 218, '매': 219, '깝': 220, '참': 221, '품': 222, '위': 223, '많': 224, '람': 225, '두': 226, '발': 227, '프': 228, '울': 229, '줄': 230, '워': 231, '선': 232, '렇': 233, '끝': 234, '문': 235, '극': 236, '후': 237, '긴': 238, '처': 239, '현': 240, '잔': 241, '속': 242, '넘': 243, '액': 244, 't': 245, '따': 246, '린': 247, '불': 248, '결': 249, '강': 250, '릴': 251, '밋': 252, '설': 253, '체': 254, '눈': 255, '직': 256, '멋': 257, '질': 258, '관': 259, '필': 260, '절': 261, '굿': 262, '답': 263, '허': 264, '된': 265, '출': 266, 's': 267, '괜': 268, '4': 269, '김': 270, '머': 271, '살': 272, '군': 273, '합': 274, '돈': 275, '♥': 276, '길': 277, '즈': 278, '크': 279, 'a': 280, '천': 281, '죽': 282, '님': 283, '계': 284, '차': 285, '찮': 286, '청': 287, '메': 288, '귀': 289, '졸': 290, '경': 291, '9': 292, '슬': 293, 'd': 294, 'i': 295, '식': 296, '또': 297, '피': 298, '호': 299, '존': 300, '럽': 301, '먹': 302, '5': 303, '초': 304, '엔': 305, '족': 306, '슨': 307, '형': 308, '날': 309, '움': 310, '판': 311, '빠': 312, \"'\": 313, 'ᄃ': 314, '파': 315, '급': 316, '꼭': 317, '행': 318, '란': 319, '온': 320, '민': 321, '른': 322, '뻔': 323, 'r': 324, '겨': 325, '슴': 326, '올': 327, '친': 328, '언': 329, 'n': 330, '방': 331, '류': 332, '_': 333, '뭔': 334, '엄': 335, '교': 336, '근': 337, '증': 338, '순': 339, '티': 340, 'ᄋ': 341, '낮': 342, '회': 343, '8': 344, '카': 345, '록': 346, '글': 347, '7': 348, '달': 349, '몰': 350, '캐': 351, '맨': 352, '새': 353, '맞': 354, 'b': 355, '표': 356, '목': 357, '져': 358, '키': 359, '씨': 360, 'g': 361, '학': 362, '훈': 363, '낌': 364, '케': 365, '받': 366, '높': 367, '누': 368, '흥': 369, '집': 370, 'ᄍ': 371, 'h': 372, '특': 373, 'l': 374, '렸': 375, '충': 376, '복': 377, '얼': 378, '색': 379, '끼': 380, '림': 381, '산': 382, '태': 383, '베': 384, '희': 385, '딩': 386, '약': 387, '힘': 388, '왔': 389, '브': 390, '술': 391, '열': 392, '뿐': 393, '닌': 394, '돌': 395, '웠': 396, '테': 397, '솔': 398, '갈': 399, '외': 400, '쁘': 401, ')': 402, '양': 403, '쾌': 404, '격': 405, '링': 406, '담': 407, '혀': 408, '녀': 409, 'v': 410, '봉': 411, '엇': 412, '잡': 413, '랜': 414, '론': 415, '쉬': 416, 'c': 417, '팅': 418, '/': 419, '6': 420, '욕': 421, '찍': 422, 'm': 423, '죠': 424, '픈': 425, '엉': 426, '환': 427, '삼': 428, '쉽': 429, '밖': 430, '통': 431, '탄': 432, '등': 433, '놀': 434, 'B': 435, '섭': 436, '(': 437, '킬': 438, '종': 439, '황': 440, '몇': 441, 'T': 442, '딱': 443, '범': 444, '꿀': 445, '휴': 446, '패': 447, '뜻': 448, '잇': 449, '씬': 450, 'u': 451, '즐': 452, '접': 453, '투': 454, '퍼': 455, '블': 456, '싸': 457, '홍': 458, 'f': 459, '립': 460, '승': 461, '쳐': 462, '능': 463, '클': 464, '맛': 465, 'S': 466, '릭': 467, '믿': 468, '왕': 469, '향': 470, '딴': 471, '병': 472, '벽': 473, '잠': 474, '송': 475, '찾': 476, '짐': 477, '석': 478, 'ᄉ': 479, '큼': 480, '봄': 481, '럼': 482, 'y': 483, '손': 484, '봣': 485, '깊': 486, '겁': 487, '잊': 488, '늘': 489, '갑': 490, '광': 491, '꺼': 492, '며': 493, '창': 494, '났': 495, '백': 496, '싫': 497, '께': 498, '엽': 499, 'C': 500, '걍': 501, '떨': 502, '먼': 503, '빨': 504, '빼': 505, '될': 506, '혼': 507, '줘': 508, '굳': 509, '놓': 510, '♡': 511, '짝': 512, 'G': 513, '빈': 514, '효': 515, '죄': 516, '권': 517, '룡': 518, '락': 519, '낭': 520, '팬': 521, '뒤': 522, '커': 523, '콩': 524, '졌': 525, '닥': 526, '큐': 527, '쟁': 528, '낚': 529, '써': 530, '찬': 531, '뭘': 532, '낫': 533, '법': 534, '옛': 535, '흐': 536, '폭': 537, '변': 538, '쌍': 539, '덕': 540, '즘': 541, '괴': 542, '돋': 543, '헐': 544, '됨': 545, 'ᄀ': 546, '윤': 547, '놈': 548, '채': 549, '업': 550, '숨': 551, 'w': 552, '똥': 553, 'D': 554, '꾸': 555, '떻': 556, '잖': 557, '쩔': 558, '책': 559, '깨': 560, '껴': 561, '삶': 562, '떠': 563, '객': 564, '빙': 565, '믹': 566, '+': 567, '암': 568, 'V': 569, '플': 570, '>': 571, 'k': 572, ':': 573, '쩌': 574, '철': 575, '취': 576, '*': 577, '곤': 578, '맘': 579, '풍': 580, '밀': 581, '견': 582, '쁜': 583, '앞': 584, '총': 585, 'p': 586, '끔': 587, 'M': 588, '쓸': 589, '첨': 590, '페': 591, '몸': 592, '훌': 593, '월': 594, '훨': 595, '꽤': 596, '럭': 597, '륭': 598, 'ᄂ': 599, '확': 600, '흠': 601, '돼': 602, '탈': 603, '련': 604, '큰': 605, '겼': 606, '즌': 607, '틱': 608, 'ᄇ': 609, '멜': 610, '줌': 611, '짓': 612, '꼬': 613, '궁': 614, '롭': 615, '빵': 616, '굴': 617, '뻐': 618, '욱': 619, '찌': 620, '젠': 621, '흑': 622, '둘': 623, '째': 624, '겟': 625, '왠': 626, '헤': 627, '꿈': 628, '멘': 629, '십': 630, '낸': 631, '틀': 632, '끄': 633, '춘': 634, '험': 635, '벌': 636, '혜': 637, 'F': 638, '징': 639, '묘': 640, '젤': 641, '척': 642, '침': 643, '끌': 644, '혹': 645, '=': 646, '골': 647, '뛰': 648, '뜨': 649, '풀': 650, '줬': 651, '핵': 652, '랄': 653, '웅': 654, '갔': 655, '멍': 656, '슈': 657, '옴': 658, 'ᄅ': 659, '랐': 660, '얘': 661, '픽': 662, '빛': 663, '섹': 664, '칠': 665, '겹': 666, '맥': 667, '콜': 668, 'ᄌ': 669, '츠': 670, '튼': 671, '땜': 672, '활': 673, 'A': 674, 'I': 675, '콤': 676, '택': 677, '앗': 678, '착': 679, '놔': 680, '팔': 681, '햇': 682, '랬': 683, '펑': 684, '흔': 685, '흘': 686, '익': 687, '득': 688, '압': 689, '낄': 690, '럴': 691, '첫': 692, '쿠': 693, 'ᄆ': 694, '빌': 695, '됐': 696, '잤': 697, '셔': 698, '읽': 699, '륜': 700, '쩐': 701, '텐': 702, '쇼': 703, '율': 704, '잃': 705, '듬': 706, '굉': 707, '떤': 708, '<': 709, '끈': 710, '벗': 711, '킨': 712, 'E': 713, '몽': 714, '셈': 715, '응': 716, '찰': 717, '%': 718, '@': 719, 'z': 720, '갖': 721, '쳤': 722, '컬': 723, '픔': 724, '숙': 725, '딸': 726, '북': 727, '샤': 728, '규': 729, '균': 730, '덜': 731, '똑': 732, '앙': 733, '폐': 734, '겐': 735, '깔': 736, '닝': 737, '탕': 738, '협': 739, '뮤': 740, '밑': 741, '센': 742, '엘': 743, '쯤': 744, '웨': 745, '료': 746, '슷': 747, '틴': 748, '렌': 749, '곡': 750, '셨': 751, '곳': 752, '쎄': 753, '옥': 754, '항': 755, '릿': 756, '볍': 757, '맹': 758, '찝': 759, '섬': 760, '랍': 761, '싱': 762, '잉': 763, '쵝': 764, '힐': 765, 'X': 766, '쓴': 767, '엿': 768, '탁': 769, '령': 770, '밥': 771, '풋': 772, 'ᅡ': 773, '널': 774, '찡': 775, 'j': 776, '깐': 777, '염': 778, '짧': 779, '촌': 780, '`': 781, '램': 782, '렬': 783, '육': 784, '켜': 785, '랙': 786, '꼽': 787, '뽕': 788, '축': 789, '묻': 790, '씀': 791, '념': 792, '젊': 793, 'x': 794, '깜': 795, '랫': 796, '킹': 797, '푸': 798, '벤': 799, '쥐': 800, '렵': 801, '옹': 802, '퉁': 803, '닐': 804, '쩝': 805, 'N': 806, '씩': 807, '엑': 808, '댓': 809, '렉': 810, '멀': 811, '밤': 812, '벨': 813, '쁨': 814, '갓': 815, '꼴': 816, '땅': 817, '률': 818, '쫌': 819, 'L': 820, '됬': 821, '잭': 822, '턴': 823, '헌': 824, '씁': 825, '&': 826, '값': 827, '검': 828, '늦': 829, 'ᅵ': 830, '껏': 831, '낀': 832, '닿': 833, '듣': 834, '뭉': 835, '삭': 836, '윌': 837, '콘': 838, '톰': 839, '폴': 840, '꽝': 841, '논': 842, '맙': 843, '봅': 844, '쥬': 845, '칼': 846, '덩': 847, '떡': 848, '앤': 849, '캬': 850, '껄': 851, '냈': 852, '땐': 853, '썩': 854, 'ᅩ': 855, '꽃': 856, '짠': 857, '쯧': 858, '농': 859, '뉴': 860, '늙': 861, '퀄': 862, '혁': 863, '홀': 864, 'R': 865, 'ᅥ': 866, '몬': 867, '좌': 868, '량': 869, '왓': 870, '웬': 871, '퇴': 872, '냄': 873, '컨': 874, '힌': 875, '쏘': 876, '춤': 877, 'ᄎ': 878, '놨': 879, '롱': 880, '뿌': 881, '갱': 882, '됩': 883, '숭': 884, '줍': 885, '납': 886, '넹': 887, '뚱': 888, '꼈': 889, '넣': 890, '렁': 891, '뷰': 892, '왤': 893, '쩜': 894, '쪽': 895, '춰': 896, '헛': 897, '뇌': 898, '텔': 899, '뒷': 900, '썼': 901, '혐': 902, '흡': 903, 'P': 904, 'W': 905, '★': 906, '겉': 907, '떄': 908, '붕': 909, '븐': 910, '첩': 911, '펐': 912, '흉': 913, '넌': 914, '례': 915, '묵': 916, '밍': 917, '젼': 918, '톤': 919, '깎': 920, '낳': 921, '뎁': 922, '뜩': 923, '뜬': 924, '략': 925, '빡': 926, '셀': 927, '촬': 928, '컴': 929, '펜': 930, '뎀': 931, '뻤': 932, '뿔': 933, '씹': 934, '탑': 935, '휘': 936, '룬': 937, '멸': 938, '뽀': 939, '[': 940, '붙': 941, '벼': 942, '빅': 943, ']': 944, 'ᄁ': 945, '껐': 946, '므': 947, '팍': 948, '폰': 949, 'K': 950, '끊': 951, '뱀': 952, '퓨': 953, '엠': 954, '팀': 955, '갠': 956, '땡': 957, '롤': 958, '뢰': 959, '쿡': 960, '틸': 961, '꾼': 962, '닫': 963, '닮': 964, '둥': 965, '밝': 966, '칸': 967, 'H': 968, 'ᄊ': 969, '댄': 970, '렷': 971, '봇': 972, '빗': 973, '섯': 974, '쩡': 975, '쯔': 976, '혈': 977, '덤': 978, '롯': 979, '뭥': 980, '샘': 981, '얻': 982, '읍': 983, '탐': 984, '곰': 985, '닷': 986, '덴': 987, '딜': 988, '챙': 989, '쿵': 990, '틈': 991, '긋': 992, '깁': 993, '냉': 994, '얄': 995, '콧': 996, 'J': 997, '꿔': 998, '녕': 999, '옷': 1000, '헬': 1001, '획': 1002, 'U': 1003, '깡': 1004, '닼': 1005, '델': 1006, '뎅': 1007, '렐': 1008, '멈': 1009, '욤': 1010, '짬': 1011, '쿨': 1012, '털': 1013, '팩': 1014, '곱': 1015, '낯': 1016, '딘': 1017, '톱': 1018, '펙': 1019, 'Y': 1020, '듭': 1021, '삐': 1022, '웰': 1023, '죤': 1024, '칙': 1025, '컷': 1026, '폼': 1027, '뚝': 1028, '앨': 1029, '찜': 1030, '푹': 1031, '핀': 1032, '곽': 1033, '닙': 1034, '샌': 1035, '숀': 1036, '쏟': 1037, '윈': 1038, '츄': 1039, '퀴': 1040, '곧': 1041, '깍': 1042, '낙': 1043, '낼': 1044, '닉': 1045, '랴': 1046, '룩': 1047, '벅': 1048, '섞': 1049, '쏠': 1050, '뀌': 1051, '늑': 1052, '뽑': 1053, '싼': 1054, '측': 1055, '탱': 1056, '튀': 1057, '핑': 1058, 'ᅢ': 1059, '넬': 1060, '녹': 1061, '띄': 1062, '뷔': 1063, '빕': 1064, '엣': 1065, '텝': 1066, '퉤': 1067, '딧': 1068, '랭': 1069, '옆': 1070, '웟': 1071, '찐': 1072, '컥': 1073, '둑': 1074, '썰': 1075, '쟈': 1076, '칭': 1077, '핫': 1078, 'ᄐ': 1079, '둔': 1080, '렛': 1081, '뱅': 1082, '쉐': 1083, '캅': 1084, '켄': 1085, '팡': 1086, '뗄': 1087, '밧': 1088, '싹': 1089, '앜': 1090, '옵': 1091, '쪼': 1092, '켓': 1093, '핳': 1094, '헉': 1095, '넷': 1096, '늬': 1097, '땀': 1098, '똘': 1099, '앉': 1100, '쫄': 1101, '탓': 1102, '팝': 1103, '떼': 1104, '뜸': 1105, '띠': 1106, '셉': 1107, '킥': 1108, '훼': 1109, 'ᄡ': 1110, '껀': 1111, '닭': 1112, '렴': 1113, '룰': 1114, '쉣': 1115, '좆': 1116, 'q': 1117, '☆': 1118, '맑': 1119, '뭇': 1120, '밨': 1121, '뻣': 1122, '앵': 1123, '젖': 1124, '찢': 1125, '콕': 1126, '꺄': 1127, '랩': 1128, '렀': 1129, '맡': 1130, '뻥': 1131, '윽': 1132, '짤': 1133, '홈': 1134, '훗': 1135, 'Z': 1136, 'ᅭ': 1137, '맴': 1138, '몫': 1139, '삽': 1140, '엌': 1141, '욬': 1142, '쭉': 1143, '퀸': 1144, '팠': 1145, '펭': 1146, 'ᄑ': 1147, '↓': 1148, '궈': 1149, '귄': 1150, '긔': 1151, '깃': 1152, '눌': 1153, '릉': 1154, '뻑': 1155, '쒸': 1156, '웩': 1157, '쭈': 1158, '챔': 1159, '펼': 1160, '#': 1161, 'ᅦ': 1162, '겻': 1163, '뚫': 1164, '릅': 1165, '뭣': 1166, '밴': 1167, '쏴': 1168, '젝': 1169, '켰': 1170, '킴': 1171, '톡': 1172, '혔': 1173, '홧': 1174, '긍': 1175, '딨': 1176, '뚜': 1177, '륵': 1178, '붉': 1179, '셜': 1180, '솜': 1181, '썬': 1182, '썸': 1183, '왈': 1184, '짙': 1185, '첼': 1186, '캠': 1187, '캡': 1188, '템': 1189, '·': 1190, '人': 1191, '됫': 1192, '랏': 1193, '맷': 1194, '뭡': 1195, '밸': 1196, '뿜': 1197, '삘': 1198, '욜': 1199, '욧': 1200, '줫': 1201, '컸': 1202, '톨': 1203, '팽': 1204, '헝': 1205, '헷': 1206, '괘': 1207, '끗': 1208, '둠': 1209, '듦': 1210, '렘': 1211, '룸': 1212, '믄': 1213, '숲': 1214, '얀': 1215, '얌': 1216, '쨌': 1217, '쨩': 1218, '층': 1219, '턱': 1220, '펠': 1221, '헨': 1222, '힝': 1223, '\\\\': 1224, '겄': 1225, '겅': 1226, '꽁': 1227, '둡': 1228, '밉': 1229, '샀': 1230, '샹': 1231, '슐': 1232, '쌩': 1233, '웡': 1234, '읎': 1235, '잣': 1236, '짖': 1237, '쪄': 1238, '쪙': 1239, '쿼': 1240, '탤': 1241, '틋': 1242, 'ᅧ': 1243, '꼇': 1244, '꽉': 1245, '넼': 1246, '댐': 1247, '덮': 1248, '됴': 1249, '뜯': 1250, '릇': 1251, '맺': 1252, '및': 1253, '뼈': 1254, '셰': 1255, '쉰': 1256, '쌈': 1257, '썅': 1258, '썻': 1259, '얍': 1260, '웁': 1261, '웍': 1262, '쩍': 1263, '쫓': 1264, '캔': 1265, '킁': 1266, '툰': 1267, '펀': 1268, 'ᅣ': 1269, '乃': 1270, '갸': 1271, '걱': 1272, '깽': 1273, '뉘': 1274, '듀': 1275, '멕': 1276, '멤': 1277, '묶': 1278, '빚': 1279, '뻘': 1280, '셋': 1281, '셧': 1282, '쉴': 1283, '슌': 1284, '싯': 1285, '썽': 1286, '쑈': 1287, '옳': 1288, '웹': 1289, '젬': 1290, '졋': 1291, '쵸': 1292, '췄': 1293, '칩': 1294, '튜': 1295, '푼': 1296, '핸': 1297, '훔': 1298, '흰': 1299, '。': 1300, '꿨': 1301, '냅': 1302, '넋': 1303, '댈': 1304, '댕': 1305, '띵': 1306, '뤄': 1307, '륙': 1308, '벙': 1309, '뷁': 1310, '빤': 1311, '뿡': 1312, '숫': 1313, '숴': 1314, '앓': 1315, '앳': 1316, '옮': 1317, '욯': 1318, '윙': 1319, '잎': 1320, '쨋': 1321, '칫': 1322, '컵': 1323, '펄': 1324, '핏': 1325, '햄': 1326, '헠': 1327, '헿': 1328, '홉': 1329, '횽': 1330, 'ᆞ': 1331, '♬': 1332, '甲': 1333, '겜': 1334, '끓': 1335, '뇨': 1336, '닦': 1337, '덥': 1338, '덧': 1339, '돠': 1340, '됌': 1341, '뒀': 1342, '룹': 1343, '밟': 1344, '뺏': 1345, '뺴': 1346, '솟': 1347, '쇠': 1348, '쌓': 1349, '쏙': 1350, '얕': 1351, '엎': 1352, '젓': 1353, '즉': 1354, '쬐': 1355, '찔': 1356, '췌': 1357, '켈': 1358, '쿄': 1359, '퀀': 1360, '탭': 1361, '텅': 1362, '핡': 1363, '흙': 1364, 'Q': 1365, '死': 1366, '갤': 1367, '굼': 1368, '꾀': 1369, '넓': 1370, '넨': 1371, '딥': 1372, '롬': 1373, '밓': 1374, '쇄': 1375, '쉘': 1376, '슥': 1377, '쌀': 1378, '쑤': 1379, '죵': 1380, '칵': 1381, '킵': 1382, '탔': 1383, '펏': 1384, '펴': 1385, '퐁': 1386, '핍': 1387, '헴': 1388, '힛': 1389, 'ᆪ': 1390, '♪': 1391, '無': 1392, '갇': 1393, '걷': 1394, '겔': 1395, '겪': 1396, '곀': 1397, '곁': 1398, '괞': 1399, '굵': 1400, '귓': 1401, '깬': 1402, '껍': 1403, '꾹': 1404, '뀐': 1405, '넥': 1406, '눅': 1407, '닳': 1408, '뎈': 1409, '돕': 1410, '됀': 1411, '둬': 1412, '딕': 1413, '땠': 1414, '뤠': 1415, '몹': 1416, '벡': 1417, '붐': 1418, '빔': 1419, '뿅': 1420, '샬': 1421, '쌔': 1422, '쒯': 1423, '엥': 1424, '엮': 1425, '욘': 1426, '윗': 1427, '쟝': 1428, '쥔': 1429, '짭': 1430, '쨔': 1431, '쫒': 1432, '쳇': 1433, '츤': 1434, '큭': 1435, '킷': 1436, '퉷': 1437, '퍽': 1438, '풉': 1439, '햐': 1440, '횡': 1441, '휼': 1442, '$': 1443, '作': 1444, '盧': 1445, '겸': 1446, '굽': 1447, '꽂': 1448, '낡': 1449, '낱': 1450, '넉': 1451, '넝': 1452, '넴': 1453, '댜': 1454, '떳': 1455, '떴': 1456, '렜': 1457, '뤽': 1458, '멎': 1459, '밭': 1460, '뺀': 1461, '뺨': 1462, '쌤': 1463, '씌': 1464, '씻': 1465, '앍': 1466, '얔': 1467, '옜': 1468, '왼': 1469, '잌': 1470, '잴': 1471, '좃': 1472, '쫙': 1473, '촘': 1474, '촤': 1475, '춥': 1476, '켠': 1477, '쿤': 1478, '{': 1479, '}': 1480, '̄': 1481, '“': 1482, '”': 1483, '→': 1484, '─': 1485, '○': 1486, '女': 1487, '곸': 1488, '귯': 1489, '꺅': 1490, '꼼': 1491, '꿉': 1492, '낰': 1493, '녔': 1494, '뎌': 1495, '떙': 1496, '뛴': 1497, '럿': 1498, '룻': 1499, '뮬': 1500, '믓': 1501, '밈': 1502, '뱃': 1503, '쁠': 1504, '샐': 1505, '샷': 1506, '섰': 1507, '셸': 1508, '쎼': 1509, '씽': 1510, '앰': 1511, '융': 1512, '읭': 1513, '쮸': 1514, '챦': 1515, '쳣': 1516, '촉': 1517, '쿰': 1518, '퀘': 1519, '큽': 1520, '탠': 1521, '텨': 1522, '팜': 1523, '팰': 1524, '핥': 1525, '햏': 1526, '훑': 1527, '흣': 1528, '힙': 1529, '⌒': 1530, '괄': 1531, '괸': 1532, '꺽': 1533, '꺾': 1534, '껌': 1535, '꼐': 1536, '끅': 1537, '끙': 1538, '넛': 1539, '녁': 1540, '늠': 1541, '닠': 1542, '뎃': 1543, '돔': 1544, '롸': 1545, '륨': 1546, '릎': 1547, '멧': 1548, '뫼': 1549, '뭍': 1550, '뱉': 1551, '붓': 1552, '뽜': 1553, '샛': 1554, '샴': 1555, '숟': 1556, '쎈': 1557, '쏜': 1558, '앟': 1559, '얽': 1560, '옼': 1561, '왁': 1562, '욥': 1563, '읏': 1564, '읔': 1565, '죨': 1566, '쥑': 1567, '쫑': 1568, '챈': 1569, '캣': 1570, '켁': 1571, '쾅': 1572, '퀼': 1573, '킈': 1574, '혓': 1575, '훅': 1576, '훤': 1577, '휠': 1578, '↗': 1579, '▽': 1580, '☞': 1581, 'か': 1582, 'づ': 1583, 'よ': 1584, 'ら': 1585, '最': 1586, '高': 1587, '갚': 1588, '갬': 1589, '괭': 1590, '긁': 1591, '깄': 1592, '껑': 1593, '꿋': 1594, '뀨': 1595, '냨': 1596, '눠': 1597, '덱': 1598, '됏': 1599, '뒈': 1600, '땔': 1601, '뚤': 1602, '뜰': 1603, '룽': 1604, '뤼': 1605, '먀': 1606, '멌': 1607, '븅': 1608, '뿍': 1609, '숏': 1610, '쌌': 1611, '썪': 1612, '쓱': 1613, '씸': 1614, '옿': 1615, '왃': 1616, '욷': 1617, '윅': 1618, '잰': 1619, '쟤': 1620, '젛': 1621, '졉': 1622, '졷': 1623, '좔': 1624, '줏': 1625, '짚': 1626, '쨰': 1627, '쫀': 1628, '쫘': 1629, '쫭': 1630, '쭝': 1631, '쯩': 1632, '칰': 1633, '캄': 1634, '캉': 1635, '컹': 1636, '켬': 1637, '콱': 1638, '텀': 1639, '팥': 1640, '퐝': 1641, '픕': 1642, '햌': 1643, '헀': 1644, '홥': 1645, '훸': 1646, '휩': 1647, '|': 1648, '\\xad': 1649, 'ᄄ': 1650, 'ᄈ': 1651, 'ᅯ': 1652, 'ᅴ': 1653, 'ᆭ': 1654, '’': 1655, '▼': 1656, '『': 1657, '』': 1658, 'い': 1659, 'し': 1660, 'っ': 1661, 'の': 1662, 'も': 1663, '映': 1664, '流': 1665, '秀': 1666, '갯': 1667, '걔': 1668, '겈': 1669, '굶': 1670, '궤': 1671, '깟': 1672, '껒': 1673, '꽈': 1674, '꿰': 1675, '뀔': 1676, '뀰': 1677, '끆': 1678, '끽': 1679, '낍': 1680, '낑': 1681, '냔': 1682, '냠': 1683, '놉': 1684, '뇬': 1685, '눼': 1686, '닛': 1687, '댁': 1688, '댔': 1689, '됄': 1690, '뒹': 1691, '듸': 1692, '딛': 1693, '떔': 1694, '떫': 1695, '떵': 1696, '뗼': 1697, '똔': 1698, '뙇': 1699, '렙': 1700, '릐': 1701, '뭄': 1702, '뮈': 1703, '밎': 1704, '벳': 1705, '벵': 1706, '뵜': 1707, '붇': 1708, '붸': 1709, '빢': 1710, '빰': 1711, '뽁': 1712, '쁩': 1713, '삥': 1714, '샵': 1715, '셍': 1716, '셩': 1717, '솧': 1718, '슛': 1719, '싖': 1720, '쌉': 1721, '썹': 1722, '쏩': 1723, '쒜': 1724, '앴': 1725, '얹': 1726, '옄': 1727, '옌': 1728, '왘': 1729, '웜': 1730, '잏': 1731, '쟘': 1732, '젋': 1733, '졍': 1734, '좉': 1735, '짰': 1736, '쫗': 1737, '쭘': 1738, '찹': 1739, '찼': 1740, '첬': 1741, '췬': 1742, '콥': 1743, '콬': 1744, '퀵': 1745, '큘': 1746, '툭': 1747, '툴': 1748, '팁': 1749, '펫': 1750, '폄': 1751, '핛': 1752, '핱': 1753, '햅': 1754, '헹': 1755, '홋': 1756, '홬': 1757, '횟': 1758, '훠': 1759, '휙': 1760, '흫': 1761, '̈': 1762, '̊': 1763, 'π': 1764, 'ω': 1765, 'ᅠ': 1766, 'ᅪ': 1767, 'ᆬ': 1768, 'ᆰ': 1769, 'ᆱ': 1770, '‘': 1771, '※': 1772, '↑': 1773, '∇': 1774}\n"
          ]
        }
      ]
    },
    {
      "cell_type": "markdown",
      "source": [
        "## 데이터 로더 함수 만들기\n",
        "- 데이터 정규표현식 전처리 함수 만들기\n",
        "- 데이터 중복 제거\n",
        "- 데이터 결측치 제거\n",
        "- 불용어 처리\n",
        "- sp_tokenize로 \n"
      ],
      "metadata": {
        "id": "OiYFxZX84NvP"
      }
    },
    {
      "cell_type": "markdown",
      "source": [
        "\n",
        "> - 한글 불용어 파이썬 라이브러리 없기때문에 직접 불용어 사전 만들어 제거하자!\n",
        "> -  한국어 불용어 리스트 100개 txt 파일 쓰는 방법도 있음!\n",
        "\n",
        "[한국어 불용어 리스트 100개](https://bab2min.tistory.com/544)"
      ],
      "metadata": {
        "id": "AnNfEAVrAyCq"
      }
    },
    {
      "cell_type": "code",
      "source": [
        "# raw 데이터 불러와서 시작하자\n",
        "path_to_file = data_dir + \"/ratings_train.txt\"\n",
        "test_path = data_dir + \"/ratings_test.txt\"\n",
        "\n",
        "train_d = pd.read_table(path_to_file)\n",
        "test_d = pd.read_table(test_path)\n",
        "\n",
        "train_d.head()"
      ],
      "metadata": {
        "colab": {
          "base_uri": "https://localhost:8080/",
          "height": 206
        },
        "id": "3s-64uvQ4Qle",
        "outputId": "b497fc1e-2106-4ce9-e5e3-8cae42e49b2c"
      },
      "execution_count": 42,
      "outputs": [
        {
          "output_type": "execute_result",
          "data": {
            "text/plain": [
              "         id                                           document  label\n",
              "0   9976970                                아 더빙.. 진짜 짜증나네요 목소리      0\n",
              "1   3819312                  흠...포스터보고 초딩영화줄....오버연기조차 가볍지 않구나      1\n",
              "2  10265843                                  너무재밓었다그래서보는것을추천한다      0\n",
              "3   9045019                      교도소 이야기구먼 ..솔직히 재미는 없다..평점 조정      0\n",
              "4   6483659  사이몬페그의 익살스런 연기가 돋보였던 영화!스파이더맨에서 늙어보이기만 했던 커스틴 ...      1"
            ],
            "text/html": [
              "\n",
              "  <div id=\"df-2ef54118-e554-449c-90fd-dc661578c982\">\n",
              "    <div class=\"colab-df-container\">\n",
              "      <div>\n",
              "<style scoped>\n",
              "    .dataframe tbody tr th:only-of-type {\n",
              "        vertical-align: middle;\n",
              "    }\n",
              "\n",
              "    .dataframe tbody tr th {\n",
              "        vertical-align: top;\n",
              "    }\n",
              "\n",
              "    .dataframe thead th {\n",
              "        text-align: right;\n",
              "    }\n",
              "</style>\n",
              "<table border=\"1\" class=\"dataframe\">\n",
              "  <thead>\n",
              "    <tr style=\"text-align: right;\">\n",
              "      <th></th>\n",
              "      <th>id</th>\n",
              "      <th>document</th>\n",
              "      <th>label</th>\n",
              "    </tr>\n",
              "  </thead>\n",
              "  <tbody>\n",
              "    <tr>\n",
              "      <th>0</th>\n",
              "      <td>9976970</td>\n",
              "      <td>아 더빙.. 진짜 짜증나네요 목소리</td>\n",
              "      <td>0</td>\n",
              "    </tr>\n",
              "    <tr>\n",
              "      <th>1</th>\n",
              "      <td>3819312</td>\n",
              "      <td>흠...포스터보고 초딩영화줄....오버연기조차 가볍지 않구나</td>\n",
              "      <td>1</td>\n",
              "    </tr>\n",
              "    <tr>\n",
              "      <th>2</th>\n",
              "      <td>10265843</td>\n",
              "      <td>너무재밓었다그래서보는것을추천한다</td>\n",
              "      <td>0</td>\n",
              "    </tr>\n",
              "    <tr>\n",
              "      <th>3</th>\n",
              "      <td>9045019</td>\n",
              "      <td>교도소 이야기구먼 ..솔직히 재미는 없다..평점 조정</td>\n",
              "      <td>0</td>\n",
              "    </tr>\n",
              "    <tr>\n",
              "      <th>4</th>\n",
              "      <td>6483659</td>\n",
              "      <td>사이몬페그의 익살스런 연기가 돋보였던 영화!스파이더맨에서 늙어보이기만 했던 커스틴 ...</td>\n",
              "      <td>1</td>\n",
              "    </tr>\n",
              "  </tbody>\n",
              "</table>\n",
              "</div>\n",
              "      <button class=\"colab-df-convert\" onclick=\"convertToInteractive('df-2ef54118-e554-449c-90fd-dc661578c982')\"\n",
              "              title=\"Convert this dataframe to an interactive table.\"\n",
              "              style=\"display:none;\">\n",
              "        \n",
              "  <svg xmlns=\"http://www.w3.org/2000/svg\" height=\"24px\"viewBox=\"0 0 24 24\"\n",
              "       width=\"24px\">\n",
              "    <path d=\"M0 0h24v24H0V0z\" fill=\"none\"/>\n",
              "    <path d=\"M18.56 5.44l.94 2.06.94-2.06 2.06-.94-2.06-.94-.94-2.06-.94 2.06-2.06.94zm-11 1L8.5 8.5l.94-2.06 2.06-.94-2.06-.94L8.5 2.5l-.94 2.06-2.06.94zm10 10l.94 2.06.94-2.06 2.06-.94-2.06-.94-.94-2.06-.94 2.06-2.06.94z\"/><path d=\"M17.41 7.96l-1.37-1.37c-.4-.4-.92-.59-1.43-.59-.52 0-1.04.2-1.43.59L10.3 9.45l-7.72 7.72c-.78.78-.78 2.05 0 2.83L4 21.41c.39.39.9.59 1.41.59.51 0 1.02-.2 1.41-.59l7.78-7.78 2.81-2.81c.8-.78.8-2.07 0-2.86zM5.41 20L4 18.59l7.72-7.72 1.47 1.35L5.41 20z\"/>\n",
              "  </svg>\n",
              "      </button>\n",
              "      \n",
              "  <style>\n",
              "    .colab-df-container {\n",
              "      display:flex;\n",
              "      flex-wrap:wrap;\n",
              "      gap: 12px;\n",
              "    }\n",
              "\n",
              "    .colab-df-convert {\n",
              "      background-color: #E8F0FE;\n",
              "      border: none;\n",
              "      border-radius: 50%;\n",
              "      cursor: pointer;\n",
              "      display: none;\n",
              "      fill: #1967D2;\n",
              "      height: 32px;\n",
              "      padding: 0 0 0 0;\n",
              "      width: 32px;\n",
              "    }\n",
              "\n",
              "    .colab-df-convert:hover {\n",
              "      background-color: #E2EBFA;\n",
              "      box-shadow: 0px 1px 2px rgba(60, 64, 67, 0.3), 0px 1px 3px 1px rgba(60, 64, 67, 0.15);\n",
              "      fill: #174EA6;\n",
              "    }\n",
              "\n",
              "    [theme=dark] .colab-df-convert {\n",
              "      background-color: #3B4455;\n",
              "      fill: #D2E3FC;\n",
              "    }\n",
              "\n",
              "    [theme=dark] .colab-df-convert:hover {\n",
              "      background-color: #434B5C;\n",
              "      box-shadow: 0px 1px 3px 1px rgba(0, 0, 0, 0.15);\n",
              "      filter: drop-shadow(0px 1px 2px rgba(0, 0, 0, 0.3));\n",
              "      fill: #FFFFFF;\n",
              "    }\n",
              "  </style>\n",
              "\n",
              "      <script>\n",
              "        const buttonEl =\n",
              "          document.querySelector('#df-2ef54118-e554-449c-90fd-dc661578c982 button.colab-df-convert');\n",
              "        buttonEl.style.display =\n",
              "          google.colab.kernel.accessAllowed ? 'block' : 'none';\n",
              "\n",
              "        async function convertToInteractive(key) {\n",
              "          const element = document.querySelector('#df-2ef54118-e554-449c-90fd-dc661578c982');\n",
              "          const dataTable =\n",
              "            await google.colab.kernel.invokeFunction('convertToInteractive',\n",
              "                                                     [key], {});\n",
              "          if (!dataTable) return;\n",
              "\n",
              "          const docLinkHtml = 'Like what you see? Visit the ' +\n",
              "            '<a target=\"_blank\" href=https://colab.research.google.com/notebooks/data_table.ipynb>data table notebook</a>'\n",
              "            + ' to learn more about interactive tables.';\n",
              "          element.innerHTML = '';\n",
              "          dataTable['output_type'] = 'display_data';\n",
              "          await google.colab.output.renderOutput(dataTable, element);\n",
              "          const docLink = document.createElement('div');\n",
              "          docLink.innerHTML = docLinkHtml;\n",
              "          element.appendChild(docLink);\n",
              "        }\n",
              "      </script>\n",
              "    </div>\n",
              "  </div>\n",
              "  "
            ]
          },
          "metadata": {},
          "execution_count": 42
        }
      ]
    },
    {
      "cell_type": "code",
      "source": [
        "import re\n",
        "\n",
        "# 불용어 사전 만들기\n",
        "stopwords = set(['하','아','의','가','이','은','들','는','좀','잘','걍','과','도','를','으로','자','에','와','한','하다'])\n",
        "\n",
        "def preprocess_data(sentence):\n",
        "    # 한글 및 공백 이외 다른 문자 모두 제거.\n",
        "    sentence = re.sub(\"[^가-힣ㄱ-ㅎㅏ-ㅣ\\\\s]\", \"\", sentence)\n",
        "    return sentence\n",
        "\n",
        "def load_data(train_data, test_data, num_words=10000):\n",
        "\n",
        "    # train/test의 중복, 결측치 제거, 한글 및 공백 이외 제거\n",
        "    train_data.drop_duplicates(subset=['document'], inplace=True) \n",
        "    train_data['document'] = train_data['document'].apply(lambda x: preprocess_data(str(x)))\n",
        "    train_data = train_data.dropna(how = 'any')\n",
        "\n",
        "    test_data.drop_duplicates(subset=['document'], inplace=True)\n",
        "    test_data['document'] = test_data['document'].apply(lambda x: preprocess_data(str(x)))\n",
        "    test_data = test_data.dropna(how = 'any') \n",
        "\n",
        "    train_list = []\n",
        "    for sentence in train_data['document']:\n",
        "        # temp_X = s.encode_as_pieces(sentence) # 토큰화\n",
        "        # temp_X = [word for word in temp_X if not word in stopwords] # 불용어 제거\n",
        "        # temp_X = s.encode_as_ids(sentence)\n",
        "        train_list.append(sentence)\n",
        "\n",
        "    test_list = []\n",
        "    for sentence in test_data['document']:\n",
        "        # temp_X = s.encode_as_pieces(sentence) # 토큰화\n",
        "        # temp_X = [word for word in temp_X if not word in stopwords] # 불용어 제거\n",
        "        # temp_X = s.encode_as_ids(sentence)\n",
        "        test_list.append(sentence)\n",
        "    \n",
        "    X_train, word_to_index, index_to_word = sp_tokenize(s, train_list)\n",
        "    X_test , _,_ = sp_tokenize(s, test_list)\n",
        "\n",
        "        \n",
        "    return X_train, np.array(list(train_data['label'])), X_test, np.array(list(test_data['label'])), word_to_index\n",
        "    \n",
        "X_train, y_train, X_test, y_test, word_to_index = load_data(train_d, test_d) "
      ],
      "metadata": {
        "id": "4CoV9dWJAUtA"
      },
      "execution_count": 43,
      "outputs": []
    },
    {
      "cell_type": "code",
      "source": [
        "X_train"
      ],
      "metadata": {
        "id": "5aPDYNRU3G5I",
        "colab": {
          "base_uri": "https://localhost:8080/"
        },
        "outputId": "04e4fe52-541d-4c6d-e825-e02388cbcd78"
      },
      "execution_count": 44,
      "outputs": [
        {
          "output_type": "execute_result",
          "data": {
            "text/plain": [
              "array([[  0,   0,   0, ..., 357, 115,  32],\n",
              "       [  0,   0,   0, ..., 135, 103,  21],\n",
              "       [  0,   0,   0, ..., 281,  22,   7],\n",
              "       ...,\n",
              "       [  0,   0,   0, ..., 679,  14,   7],\n",
              "       [  0,   0,   0, ...,  72,   8,  91],\n",
              "       [  0,   0,   0, ...,   4,  10,   8]], dtype=int32)"
            ]
          },
          "metadata": {},
          "execution_count": 44
        }
      ]
    },
    {
      "cell_type": "code",
      "source": [
        "y_train"
      ],
      "metadata": {
        "id": "BTPWKtw03K-y",
        "colab": {
          "base_uri": "https://localhost:8080/"
        },
        "outputId": "92e87029-e52d-4728-cf24-f786b3bd233d"
      },
      "execution_count": 45,
      "outputs": [
        {
          "output_type": "execute_result",
          "data": {
            "text/plain": [
              "array([0, 1, 0, ..., 0, 1, 0])"
            ]
          },
          "metadata": {},
          "execution_count": 45
        }
      ]
    },
    {
      "cell_type": "code",
      "source": [
        "X_test"
      ],
      "metadata": {
        "id": "ASMRf_m33MEM",
        "colab": {
          "base_uri": "https://localhost:8080/"
        },
        "outputId": "384ee6a9-8f31-4dc7-985e-a3bde6088871"
      },
      "execution_count": 46,
      "outputs": [
        {
          "output_type": "execute_result",
          "data": {
            "text/plain": [
              "array([[  0,   0,   0, ..., 509,   4,  17],\n",
              "       [  0,   0,   0, ...,   0,   0,   0],\n",
              "       [  0,   0,   0, ...,  33, 557,  16],\n",
              "       ...,\n",
              "       [  0,   0,   0, ...,  28, 199,   7],\n",
              "       [  0,   0,   0, ...,  60, 302,  47],\n",
              "       [  0,   0,   0, ..., 125,   6, 149]], dtype=int32)"
            ]
          },
          "metadata": {},
          "execution_count": 46
        }
      ]
    },
    {
      "cell_type": "code",
      "source": [
        "y_test"
      ],
      "metadata": {
        "id": "ftI_929V3NNZ",
        "colab": {
          "base_uri": "https://localhost:8080/"
        },
        "outputId": "fdd5bb79-6174-4aa7-e8bf-0dd1a83100da"
      },
      "execution_count": 47,
      "outputs": [
        {
          "output_type": "execute_result",
          "data": {
            "text/plain": [
              "array([1, 0, 0, ..., 0, 0, 0])"
            ]
          },
          "metadata": {},
          "execution_count": 47
        }
      ]
    },
    {
      "cell_type": "code",
      "source": [
        "# word_to_index"
      ],
      "metadata": {
        "id": "n5HY-Phi3O3T"
      },
      "execution_count": 48,
      "outputs": []
    },
    {
      "cell_type": "markdown",
      "source": [
        "## Step 4. 모델 구성하기\n",
        "- 1. LSTM \n",
        "- 2. 1-D CNN\n",
        "- 3. GlobalMaxPooling1D() 레이어 하나만 쓰기\n",
        "- 4. Transformer 이용 (시간 더 있을 시)"
      ],
      "metadata": {
        "id": "cQUdO-3v2Ahk"
      }
    },
    {
      "cell_type": "markdown",
      "source": [
        "**LSTM 모델 구성**"
      ],
      "metadata": {
        "id": "YN23fFR75jUu"
      }
    },
    {
      "cell_type": "code",
      "source": [
        "# LSTM 모델\n",
        "vocab_size = 8000\n",
        "word_vector_dim = 32 \n",
        "\n",
        "model_lstm = tf.keras.Sequential()\n",
        "model_lstm.add(tf.keras.layers.Embedding(vocab_size, word_vector_dim, input_shape=(None,)))\n",
        "model_lstm.add(tf.keras.layers.LSTM(64))\n",
        "model_lstm.add(tf.keras.layers.Dense(32, activation='relu'))\n",
        "model_lstm.add(tf.keras.layers.Dense(1, activation='sigmoid'))  # 최종 출력은 긍정/부정을 나타내는 1dim 입니다.\n",
        "\n",
        "model_lstm.summary()"
      ],
      "metadata": {
        "id": "1ot7xx4j3fGb",
        "colab": {
          "base_uri": "https://localhost:8080/"
        },
        "outputId": "b5f5b76e-3027-44dd-d8c5-a39972ca0547"
      },
      "execution_count": 49,
      "outputs": [
        {
          "output_type": "stream",
          "name": "stdout",
          "text": [
            "Model: \"sequential\"\n",
            "_________________________________________________________________\n",
            " Layer (type)                Output Shape              Param #   \n",
            "=================================================================\n",
            " embedding (Embedding)       (None, None, 32)          256000    \n",
            "                                                                 \n",
            " lstm (LSTM)                 (None, 64)                24832     \n",
            "                                                                 \n",
            " dense (Dense)               (None, 32)                2080      \n",
            "                                                                 \n",
            " dense_1 (Dense)             (None, 1)                 33        \n",
            "                                                                 \n",
            "=================================================================\n",
            "Total params: 282,945\n",
            "Trainable params: 282,945\n",
            "Non-trainable params: 0\n",
            "_________________________________________________________________\n"
          ]
        }
      ]
    },
    {
      "cell_type": "markdown",
      "source": [
        "**1-D CNN 모델 구성**"
      ],
      "metadata": {
        "id": "FNRV_aHN_msn"
      }
    },
    {
      "cell_type": "code",
      "source": [
        "# 1-D CNN으로 만든 모델 구현\n",
        "\n",
        "model_1dc = tf.keras.Sequential()\n",
        "model_1dc.add(tf.keras.layers.Embedding(vocab_size, word_vector_dim, input_shape=(None,)))\n",
        "model_1dc.add(tf.keras.layers.Conv1D(32, 7, activation='relu')) # word_vector_dim과 맞춰봤습니다.\n",
        "model_1dc.add(tf.keras.layers.MaxPooling1D(5))\n",
        "model_1dc.add(tf.keras.layers.Conv1D(32, 7, activation='relu')) # word_vector_dim과 맞춰봤습니다.\n",
        "model_1dc.add(tf.keras.layers.GlobalMaxPooling1D())\n",
        "model_1dc.add(tf.keras.layers.Dense(16, activation='relu'))\n",
        "model_1dc.add(tf.keras.layers.Dense(1, activation='sigmoid'))  # 최종 출력은 긍정/부정을 나타내는 1dim 입니다.\n",
        "\n",
        "model_1dc.summary()"
      ],
      "metadata": {
        "id": "eQp6GHeE_tof",
        "colab": {
          "base_uri": "https://localhost:8080/"
        },
        "outputId": "be3f6f34-222a-4e7a-8a83-2edc0ca6ff3e"
      },
      "execution_count": 50,
      "outputs": [
        {
          "output_type": "stream",
          "name": "stdout",
          "text": [
            "Model: \"sequential_1\"\n",
            "_________________________________________________________________\n",
            " Layer (type)                Output Shape              Param #   \n",
            "=================================================================\n",
            " embedding_1 (Embedding)     (None, None, 32)          256000    \n",
            "                                                                 \n",
            " conv1d (Conv1D)             (None, None, 32)          7200      \n",
            "                                                                 \n",
            " max_pooling1d (MaxPooling1D  (None, None, 32)         0         \n",
            " )                                                               \n",
            "                                                                 \n",
            " conv1d_1 (Conv1D)           (None, None, 32)          7200      \n",
            "                                                                 \n",
            " global_max_pooling1d (Globa  (None, 32)               0         \n",
            " lMaxPooling1D)                                                  \n",
            "                                                                 \n",
            " dense_2 (Dense)             (None, 16)                528       \n",
            "                                                                 \n",
            " dense_3 (Dense)             (None, 1)                 17        \n",
            "                                                                 \n",
            "=================================================================\n",
            "Total params: 270,945\n",
            "Trainable params: 270,945\n",
            "Non-trainable params: 0\n",
            "_________________________________________________________________\n"
          ]
        }
      ]
    },
    {
      "cell_type": "markdown",
      "source": [
        "**GlobalMaxPooling1D() 레이어만 사용한 모델**\n",
        "\n",
        "\n",
        "\n"
      ],
      "metadata": {
        "id": "UD1PTfyp_L0Q"
      }
    },
    {
      "cell_type": "code",
      "source": [
        "# GlobalMaxPolling만 있는 것 \n",
        "\n",
        "model_gmp = tf.keras.Sequential()\n",
        "model_gmp.add(tf.keras.layers.Embedding(vocab_size, word_vector_dim, input_shape=(None,)))\n",
        "model_gmp.add(tf.keras.layers.GlobalMaxPooling1D())\n",
        "model_gmp.add(tf.keras.layers.Dense(16, activation='relu'))\n",
        "model_gmp.add(tf.keras.layers.Dense(1, activation='sigmoid'))  # 최종 출력은 긍정/부정을 나타내는 1dim 입니다.\n",
        "\n",
        "model_gmp.summary()"
      ],
      "metadata": {
        "id": "AvCmSLwg_Rxy",
        "colab": {
          "base_uri": "https://localhost:8080/"
        },
        "outputId": "3036cfe7-6334-485c-e3db-acff5a814015"
      },
      "execution_count": 51,
      "outputs": [
        {
          "output_type": "stream",
          "name": "stdout",
          "text": [
            "Model: \"sequential_2\"\n",
            "_________________________________________________________________\n",
            " Layer (type)                Output Shape              Param #   \n",
            "=================================================================\n",
            " embedding_2 (Embedding)     (None, None, 32)          256000    \n",
            "                                                                 \n",
            " global_max_pooling1d_1 (Glo  (None, 32)               0         \n",
            " balMaxPooling1D)                                                \n",
            "                                                                 \n",
            " dense_4 (Dense)             (None, 16)                528       \n",
            "                                                                 \n",
            " dense_5 (Dense)             (None, 1)                 17        \n",
            "                                                                 \n",
            "=================================================================\n",
            "Total params: 256,545\n",
            "Trainable params: 256,545\n",
            "Non-trainable params: 0\n",
            "_________________________________________________________________\n"
          ]
        }
      ]
    },
    {
      "cell_type": "markdown",
      "source": [
        "**Validations set 구분**"
      ],
      "metadata": {
        "id": "5iwUIAFS_KpW"
      }
    },
    {
      "cell_type": "code",
      "source": [
        "# train_test_split으로 나눠보겠습니다.\n",
        "from sklearn.model_selection import train_test_split\n",
        "\n",
        "xx_train, xx_validation, yy_train, yy_validation = train_test_split(X_train,\n",
        "                                                                   y_train,\n",
        "                                                                   test_size=0.2,\n",
        "                                                                   random_state=2022)"
      ],
      "metadata": {
        "id": "AObU72kjAUcX"
      },
      "execution_count": 52,
      "outputs": []
    },
    {
      "cell_type": "code",
      "source": [
        "# 에포크\n",
        "EPOCHS = 10"
      ],
      "metadata": {
        "id": "BQmRFa89-E4F"
      },
      "execution_count": 53,
      "outputs": []
    },
    {
      "cell_type": "markdown",
      "source": [
        "### 1. LSTM\n"
      ],
      "metadata": {
        "id": "U4wpI8Ln9vd1"
      }
    },
    {
      "cell_type": "code",
      "source": [
        "model_lstm.compile(optimizer='adam',\n",
        "              loss='binary_crossentropy',\n",
        "              metrics=['accuracy'])\n",
        "\n",
        "history = model_lstm.fit(xx_train,\n",
        "                         yy_train,\n",
        "                         epochs=EPOCHS,\n",
        "                         batch_size=512,\n",
        "                        validation_data=(xx_validation, yy_validation),\n",
        "                        verbose=2)"
      ],
      "metadata": {
        "id": "PKWwoRUS9Gxh",
        "colab": {
          "base_uri": "https://localhost:8080/"
        },
        "outputId": "7c0fbf1d-1cf7-4a87-f930-8e0628075de1"
      },
      "execution_count": 54,
      "outputs": [
        {
          "output_type": "stream",
          "name": "stdout",
          "text": [
            "Epoch 1/10\n",
            "229/229 - 12s - loss: 0.5211 - accuracy: 0.7407 - val_loss: 0.4538 - val_accuracy: 0.7896 - 12s/epoch - 51ms/step\n",
            "Epoch 2/10\n",
            "229/229 - 4s - loss: 0.4417 - accuracy: 0.7935 - val_loss: 0.4402 - val_accuracy: 0.7925 - 4s/epoch - 17ms/step\n",
            "Epoch 3/10\n",
            "229/229 - 4s - loss: 0.4229 - accuracy: 0.8031 - val_loss: 0.4252 - val_accuracy: 0.8032 - 4s/epoch - 17ms/step\n",
            "Epoch 4/10\n",
            "229/229 - 4s - loss: 0.4055 - accuracy: 0.8125 - val_loss: 0.4107 - val_accuracy: 0.8091 - 4s/epoch - 17ms/step\n",
            "Epoch 5/10\n",
            "229/229 - 4s - loss: 0.3916 - accuracy: 0.8200 - val_loss: 0.4021 - val_accuracy: 0.8161 - 4s/epoch - 17ms/step\n",
            "Epoch 6/10\n",
            "229/229 - 4s - loss: 0.3788 - accuracy: 0.8272 - val_loss: 0.3950 - val_accuracy: 0.8174 - 4s/epoch - 17ms/step\n",
            "Epoch 7/10\n",
            "229/229 - 4s - loss: 0.3684 - accuracy: 0.8317 - val_loss: 0.3923 - val_accuracy: 0.8192 - 4s/epoch - 17ms/step\n",
            "Epoch 8/10\n",
            "229/229 - 4s - loss: 0.3617 - accuracy: 0.8360 - val_loss: 0.3880 - val_accuracy: 0.8200 - 4s/epoch - 18ms/step\n",
            "Epoch 9/10\n",
            "229/229 - 4s - loss: 0.3532 - accuracy: 0.8400 - val_loss: 0.3885 - val_accuracy: 0.8221 - 4s/epoch - 18ms/step\n",
            "Epoch 10/10\n",
            "229/229 - 4s - loss: 0.3482 - accuracy: 0.8452 - val_loss: 0.3859 - val_accuracy: 0.8212 - 4s/epoch - 18ms/step\n"
          ]
        }
      ]
    },
    {
      "cell_type": "code",
      "source": [
        "# test 셋으로 평가해보기\n",
        "results = model_lstm.evaluate(X_test, y_test, verbose=2)\n",
        "\n",
        "print(results)"
      ],
      "metadata": {
        "id": "huMTjQJIExho",
        "colab": {
          "base_uri": "https://localhost:8080/"
        },
        "outputId": "6cfe91a8-44d1-4626-b3d9-0158a494fe3b"
      },
      "execution_count": 55,
      "outputs": [
        {
          "output_type": "stream",
          "name": "stdout",
          "text": [
            "1537/1537 - 7s - loss: 0.3872 - accuracy: 0.8224 - 7s/epoch - 4ms/step\n",
            "[0.3871708810329437, 0.8224093914031982]\n"
          ]
        }
      ]
    },
    {
      "cell_type": "code",
      "source": [
        "# 그래프로 그려보기\n",
        "\n",
        "acc = history.history['accuracy']\n",
        "loss = history.history['loss']\n",
        "val_acc = history.history['val_accuracy']\n",
        "val_loss = history.history['val_loss']\n",
        "\n",
        "plt.figure(figsize=(12,8))\n",
        "plt.subplot(1, 2, 1)\n",
        "plt.plot(acc, label='training')\n",
        "plt.plot(val_acc, 'o', label='validation')\n",
        "plt.xlabel('epocks')\n",
        "plt.ylabel('accuracy', fontsize=20)\n",
        "plt.legend(fontsize=20)\n",
        "\n",
        "plt.subplot(1, 2, 2)\n",
        "plt.plot(loss, label='training')\n",
        "plt.plot(val_loss, 'o', label='validation')\n",
        "plt.xlabel('epocks')\n",
        "plt.ylabel('loss', fontsize=20)\n",
        "plt.legend(fontsize=20)\n",
        "\n",
        "plt.show()"
      ],
      "metadata": {
        "id": "opnSh1ApE_0T",
        "colab": {
          "base_uri": "https://localhost:8080/",
          "height": 497
        },
        "outputId": "376a0276-d5b4-48ae-d2ce-e60119593379"
      },
      "execution_count": 56,
      "outputs": [
        {
          "output_type": "display_data",
          "data": {
            "text/plain": [
              "<Figure size 864x576 with 2 Axes>"
            ],
            "image/png": "[encoded data removed]"
          },
          "metadata": {
            "needs_background": "light"
          }
        }
      ]
    },
    {
      "cell_type": "markdown",
      "source": [
        "### 2. 1-D CNN"
      ],
      "metadata": {
        "id": "7F9iQtSVFHVS"
      }
    },
    {
      "cell_type": "code",
      "source": [
        "model_1dc.compile(optimizer='adam',\n",
        "              loss='binary_crossentropy',\n",
        "              metrics=['accuracy'])\n",
        "\n",
        "history = model_1dc.fit(xx_train,\n",
        "                         yy_train,\n",
        "                         epochs=EPOCHS,\n",
        "                         batch_size=512,\n",
        "                        validation_data=(xx_validation, yy_validation),\n",
        "                        verbose=2)"
      ],
      "metadata": {
        "id": "axdQoEEzFPhD",
        "colab": {
          "base_uri": "https://localhost:8080/"
        },
        "outputId": "7f3f09a5-0e3c-4fcb-b66d-735696de586c"
      },
      "execution_count": 57,
      "outputs": [
        {
          "output_type": "stream",
          "name": "stdout",
          "text": [
            "Epoch 1/10\n",
            "229/229 - 4s - loss: 0.5325 - accuracy: 0.7195 - val_loss: 0.4294 - val_accuracy: 0.8011 - 4s/epoch - 18ms/step\n",
            "Epoch 2/10\n",
            "229/229 - 2s - loss: 0.4029 - accuracy: 0.8171 - val_loss: 0.4010 - val_accuracy: 0.8173 - 2s/epoch - 8ms/step\n",
            "Epoch 3/10\n",
            "229/229 - 2s - loss: 0.3663 - accuracy: 0.8370 - val_loss: 0.3889 - val_accuracy: 0.8235 - 2s/epoch - 8ms/step\n",
            "Epoch 4/10\n",
            "229/229 - 2s - loss: 0.3389 - accuracy: 0.8532 - val_loss: 0.3792 - val_accuracy: 0.8275 - 2s/epoch - 8ms/step\n",
            "Epoch 5/10\n",
            "229/229 - 2s - loss: 0.3173 - accuracy: 0.8646 - val_loss: 0.3888 - val_accuracy: 0.8264 - 2s/epoch - 8ms/step\n",
            "Epoch 6/10\n",
            "229/229 - 3s - loss: 0.2968 - accuracy: 0.8751 - val_loss: 0.3896 - val_accuracy: 0.8302 - 3s/epoch - 13ms/step\n",
            "Epoch 7/10\n",
            "229/229 - 2s - loss: 0.2805 - accuracy: 0.8837 - val_loss: 0.3911 - val_accuracy: 0.8310 - 2s/epoch - 10ms/step\n",
            "Epoch 8/10\n",
            "229/229 - 2s - loss: 0.2608 - accuracy: 0.8940 - val_loss: 0.3984 - val_accuracy: 0.8307 - 2s/epoch - 8ms/step\n",
            "Epoch 9/10\n",
            "229/229 - 2s - loss: 0.2450 - accuracy: 0.9015 - val_loss: 0.4124 - val_accuracy: 0.8305 - 2s/epoch - 9ms/step\n",
            "Epoch 10/10\n",
            "229/229 - 2s - loss: 0.2308 - accuracy: 0.9095 - val_loss: 0.4272 - val_accuracy: 0.8253 - 2s/epoch - 9ms/step\n"
          ]
        }
      ]
    },
    {
      "cell_type": "code",
      "source": [
        "# test 셋으로 평가해보기\n",
        "results = model_1dc.evaluate(X_test, y_test, verbose=2)\n",
        "\n",
        "print(results)"
      ],
      "metadata": {
        "id": "y5GG-_LBFX-r",
        "colab": {
          "base_uri": "https://localhost:8080/"
        },
        "outputId": "7aa3e74e-2da0-4655-d9ea-9bbea7f09304"
      },
      "execution_count": 58,
      "outputs": [
        {
          "output_type": "stream",
          "name": "stdout",
          "text": [
            "1537/1537 - 4s - loss: 0.4319 - accuracy: 0.8254 - 4s/epoch - 3ms/step\n",
            "[0.43188703060150146, 0.8253793716430664]\n"
          ]
        }
      ]
    },
    {
      "cell_type": "code",
      "source": [
        "# 그래프로 그려보기\n",
        "\n",
        "acc = history.history['accuracy']\n",
        "loss = history.history['loss']\n",
        "val_acc = history.history['val_accuracy']\n",
        "val_loss = history.history['val_loss']\n",
        "\n",
        "plt.figure(figsize=(12,8))\n",
        "plt.subplot(1, 2, 1)\n",
        "plt.plot(acc, label='training')\n",
        "plt.plot(val_acc, 'o', label='validation')\n",
        "plt.xlabel('epocks')\n",
        "plt.ylabel('accuracy', fontsize=20)\n",
        "plt.legend(fontsize=20)\n",
        "\n",
        "plt.subplot(1, 2, 2)\n",
        "plt.plot(loss, label='training')\n",
        "plt.plot(val_loss, 'o', label='validation')\n",
        "plt.xlabel('epocks')\n",
        "plt.ylabel('loss', fontsize=20)\n",
        "plt.legend(fontsize=20)\n",
        "\n",
        "plt.show()\n"
      ],
      "metadata": {
        "id": "xb0IHHmXFoiv",
        "colab": {
          "base_uri": "https://localhost:8080/",
          "height": 497
        },
        "outputId": "886d2774-237b-4ad2-ac30-5d980ba49a3e"
      },
      "execution_count": 59,
      "outputs": [
        {
          "output_type": "display_data",
          "data": {
            "text/plain": [
              "<Figure size 864x576 with 2 Axes>"
            ],
            "image/png": "[encoded data removed]"
          },
          "metadata": {
            "needs_background": "light"
          }
        }
      ]
    },
    {
      "cell_type": "markdown",
      "source": [
        "### 3. Global Max Pooling"
      ],
      "metadata": {
        "id": "q8NBTeZcFtSK"
      }
    },
    {
      "cell_type": "code",
      "source": [
        "model_gmp.compile(optimizer='adam',\n",
        "              loss='binary_crossentropy',\n",
        "              metrics=['accuracy'])\n",
        "\n",
        "history = model_gmp.fit(xx_train,\n",
        "                         yy_train,\n",
        "                         epochs=EPOCHS,\n",
        "                         batch_size=512,\n",
        "                        validation_data=(xx_validation, yy_validation),\n",
        "                        verbose=2)"
      ],
      "metadata": {
        "id": "1e9L1s0DFwpi",
        "colab": {
          "base_uri": "https://localhost:8080/"
        },
        "outputId": "a19a2773-c13b-4410-90b8-dc893d2f93a0"
      },
      "execution_count": 60,
      "outputs": [
        {
          "output_type": "stream",
          "name": "stdout",
          "text": [
            "Epoch 1/10\n",
            "229/229 - 2s - loss: 0.5827 - accuracy: 0.7308 - val_loss: 0.4765 - val_accuracy: 0.7719 - 2s/epoch - 10ms/step\n",
            "Epoch 2/10\n",
            "229/229 - 1s - loss: 0.4549 - accuracy: 0.7854 - val_loss: 0.4527 - val_accuracy: 0.7874 - 1s/epoch - 6ms/step\n",
            "Epoch 3/10\n",
            "229/229 - 1s - loss: 0.4324 - accuracy: 0.7997 - val_loss: 0.4456 - val_accuracy: 0.7916 - 1s/epoch - 6ms/step\n",
            "Epoch 4/10\n",
            "229/229 - 1s - loss: 0.4188 - accuracy: 0.8071 - val_loss: 0.4415 - val_accuracy: 0.7949 - 1s/epoch - 6ms/step\n",
            "Epoch 5/10\n",
            "229/229 - 1s - loss: 0.4081 - accuracy: 0.8130 - val_loss: 0.4394 - val_accuracy: 0.7957 - 1s/epoch - 6ms/step\n",
            "Epoch 6/10\n",
            "229/229 - 1s - loss: 0.3988 - accuracy: 0.8175 - val_loss: 0.4397 - val_accuracy: 0.7954 - 1s/epoch - 6ms/step\n",
            "Epoch 7/10\n",
            "229/229 - 2s - loss: 0.3914 - accuracy: 0.8220 - val_loss: 0.4382 - val_accuracy: 0.7979 - 2s/epoch - 7ms/step\n",
            "Epoch 8/10\n",
            "229/229 - 1s - loss: 0.3845 - accuracy: 0.8267 - val_loss: 0.4403 - val_accuracy: 0.7974 - 1s/epoch - 6ms/step\n",
            "Epoch 9/10\n",
            "229/229 - 1s - loss: 0.3787 - accuracy: 0.8288 - val_loss: 0.4409 - val_accuracy: 0.7974 - 1s/epoch - 6ms/step\n",
            "Epoch 10/10\n",
            "229/229 - 1s - loss: 0.3734 - accuracy: 0.8319 - val_loss: 0.4434 - val_accuracy: 0.7974 - 1s/epoch - 6ms/step\n"
          ]
        }
      ]
    },
    {
      "cell_type": "code",
      "source": [
        "# test 셋으로 평가해보기\n",
        "results = model_gmp.evaluate(X_test, y_test, verbose=2)\n",
        "\n",
        "print(results)"
      ],
      "metadata": {
        "id": "M19kx919F0Cj",
        "colab": {
          "base_uri": "https://localhost:8080/"
        },
        "outputId": "9c38a26d-62d2-436e-bb11-09fe2e2c77aa"
      },
      "execution_count": 61,
      "outputs": [
        {
          "output_type": "stream",
          "name": "stdout",
          "text": [
            "1537/1537 - 3s - loss: 0.4471 - accuracy: 0.7967 - 3s/epoch - 2ms/step\n",
            "[0.4470667541027069, 0.7966556549072266]\n"
          ]
        }
      ]
    },
    {
      "cell_type": "code",
      "source": [
        "# 그래프로 그려보기\n",
        "\n",
        "acc = history.history['accuracy']\n",
        "loss = history.history['loss']\n",
        "val_acc = history.history['val_accuracy']\n",
        "val_loss = history.history['val_loss']\n",
        "\n",
        "plt.figure(figsize=(12,8))\n",
        "plt.subplot(1, 2, 1)\n",
        "plt.plot(acc, label='training')\n",
        "plt.plot(val_acc, 'o', label='validation')\n",
        "plt.xlabel('epocks')\n",
        "plt.ylabel('accuracy', fontsize=20)\n",
        "plt.legend(fontsize=20)\n",
        "\n",
        "plt.subplot(1, 2, 2)\n",
        "plt.plot(loss, label='training')\n",
        "plt.plot(val_loss, 'o', label='validation')\n",
        "plt.xlabel('epocks')\n",
        "plt.ylabel('loss', fontsize=20)\n",
        "plt.legend(fontsize=20)\n",
        "\n",
        "plt.show()"
      ],
      "metadata": {
        "id": "rnoo6H5KF5tt",
        "colab": {
          "base_uri": "https://localhost:8080/",
          "height": 497
        },
        "outputId": "05a9b5e0-981c-4f12-b969-1c7390228c0d"
      },
      "execution_count": 62,
      "outputs": [
        {
          "output_type": "display_data",
          "data": {
            "text/plain": [
              "<Figure size 864x576 with 2 Axes>"
            ],
            "image/png": "[encoded data removed]"
          },
          "metadata": {
            "needs_background": "light"
          }
        }
      ]
    },
    {
      "cell_type": "markdown",
      "source": [
        "# 실험 결과\n",
        "1. vocab size = 8000, model_type = bpe 일 때\n",
        "\n",
        "> LSTM \n",
        "```\n",
        "1537/1537 - 6s - loss: 0.4196 - accuracy: 0.8348 - 6s/epoch - 4ms/step\n",
        "[0.41956353187561035, 0.8348386883735657]\n",
        "```\n",
        "\n",
        "> 1-D CNN\n",
        "```\n",
        "1537/1537 - 4s - loss: 1.1662 - accuracy: 0.7817 - 4s/epoch - 3ms/step\n",
        "[1.1662278175354004, 0.7817038893699646]\n",
        "```\n",
        "\n",
        "> Global Max Pooling\n",
        "```\n",
        "1537/1537 - 3s - loss: 0.4817 - accuracy: 0.8334 - 3s/epoch - 2ms/step\n",
        "[0.4816548824310303, 0.8333536982536316]\n",
        "```"
      ],
      "metadata": {
        "id": "YdSmTtlnGDDH"
      }
    },
    {
      "cell_type": "markdown",
      "source": [
        "2. vocab size = 10000, model_type = bpe 일 때\n",
        "\n",
        "> LSTM \n",
        "```\n",
        "1537/1537 - 7s - loss: 0.4194 - accuracy: 0.8371 - 7s/epoch - 5ms/step\n",
        "[0.4194413721561432, 0.8370763659477234]\n",
        "```\n",
        "\n",
        "> 1-D CNN\n",
        "```\n",
        "1537/1537 - 5s - loss: 1.1183 - accuracy: 0.7455 - 5s/epoch - 3ms/step\n",
        "[1.1182972192764282, 0.745514452457428]\n",
        "```\n",
        "\n",
        "> Global Max Pooling\n",
        "```\n",
        "1537/1537 - 4s - loss: 0.4168 - accuracy: 0.8358 - 4s/epoch - 3ms/step\n",
        "[0.4167833626270294, 0.8357744216918945]\n",
        "```\n",
        "\n"
      ],
      "metadata": {
        "id": "FlIelozpQG2M"
      }
    },
    {
      "cell_type": "markdown",
      "source": [
        "3. vocab size = 10000, model_type = unigram(default) 일 때\n",
        "\n",
        "> LSTM \n",
        "```\n",
        "1537/1537 - 7s - loss: 0.3842 - accuracy: 0.8381 - 7s/epoch - 5ms/step\n",
        "[0.3842264413833618, 0.8380731344223022]\n",
        "```\n",
        "\n",
        "> 1-D CNN\n",
        "```\n",
        "1537/1537 - 5s - loss: 1.1931 - accuracy: 0.7818 - 5s/epoch - 3ms/step\n",
        "[1.1930625438690186, 0.781846284866333]\n",
        "```\n",
        "\n",
        "> Global Max Pooling\n",
        "```\n",
        "1537/1537 - 4s - loss: 0.4721 - accuracy: 0.8319 - 4s/epoch - 3ms/step\n",
        "[0.4721464216709137, 0.8319296836853027]\n",
        "```\n",
        "\n"
      ],
      "metadata": {
        "id": "yuZ8_nkVfxhc"
      }
    },
    {
      "cell_type": "markdown",
      "source": [
        "4. vocab size = 10000, model_type = char 일 때\n",
        "\n",
        "> LSTM \n",
        "```\n",
        "1537/1537 - 7s - loss: 0.3872 - accuracy: 0.8224 - 7s/epoch - 4ms/step\n",
        "[0.3871708810329437, 0.8224093914031982]\n",
        "```\n",
        "\n",
        "> 1-D CNN -> 오버피팅 발생!!!\n",
        "```\n",
        "1537/1537 - 4s - loss: 0.4319 - accuracy: 0.8254 - 4s/epoch - 3ms/step\n",
        "[0.43188703060150146, 0.8253793716430664]\n",
        "```\n",
        "\n",
        "> Global Max Pooling\n",
        "```\n",
        "1537/1537 - 3s - loss: 0.4471 - accuracy: 0.7967 - 3s/epoch - 2ms/step\n",
        "[0.4470667541027069, 0.7966556549072266]\n",
        "```"
      ],
      "metadata": {
        "id": "g4R3LN-ehgfa"
      }
    },
    {
      "cell_type": "markdown",
      "source": [
        "**=> 형태소 분석기를 썼을 때와 정확도 차이가 크게 안난다.**"
      ],
      "metadata": {
        "id": "5NnBGM6IpeEj"
      }
    },
    {
      "cell_type": "markdown",
      "source": [
        "# 회고\n",
        "---\n",
        "> - 처음에 데이터 불러오는 방법이 여러가지고 코드가 익숙하지 않아 많이 헤맸다. 이제 이런 일 없도록 해야겠다.\n",
        "> - NLP 텍스트 전처리 과정이 명확하게 머리에 안그려지는 상황에서 SentenciePiece를 활용하려고 하다보니 데이터 로더 함수를 짜는데도 시간이 좀 소요되었다. 텍스트 전처리할때 토크나이저 패키지를 잘 활용할 줄 아는 것도 효율적으로 시간을 쓸 수 있는 방법이라는 것을 깨달았다.\n",
        "> - Korpora 라는 오픈소스 패키지를 발겼했다. 한국어 텍스트 데이터를 바로 불러와서 쓸 수 있는 유용한 패키지 같은데 다음에 한번 활용해봐야겠다.\n",
        "> - **근데 아직 SentencePiece로 만든 토크나이저 함수를 활용할 때 불용어 제거를 어느 부분에서 해야할 지 모르겠다. 이부분은 자연어처리 고수분에게 물어보고 넘어가자.**\n",
        "> - 불용어 제거할 때, 한국어는 불용어 제거 패키지가 없어 직접 불용어 사전을 만들어야 한다고 했다. 하지만 한국어 불용어 모음 텍스트 파일을 공유하기도 하니 불용어 사전을 만들 때 이것을 가져와 쓰거나 아니면 필요한 부분만 가져와서 사용하는 것도 좋을 것 같다.\n",
        "> - 단어장 만들 때 vocab_size 와 model_type을 바꿔가면서 정확도가 어떻게 달라지는 지 실험을 했는데 LSTM & Global Max Pooling 과 1-D CNN이 반비례 처럼 달라졌다. 같은 모델 타입(bpe)에서 vocab_size를 더 크게 잡았을 땐, LSTM 과 GMP는 정확도가 조금 증가하였지만 1-D CNN은 오히려 더 떨어졌다. 그리고 마지막에 model_type default인 unigram으로 단어장을 만들어 학습시켰을 때는 LSTM, GMP는 정확도가 떨어졌지만 1-D CNN은 정확도가 80%가 넘으면 많이 올랐다.\n",
        "> - 단순한 모델을 사용했기 때문에 다음엔 더 공부해서 Transformer와 BERT도 사용하고 워드 벡터 차원, 에포크 수도 늘려서 학습시켜볼 예정이다.\n",
        "> - 그때는 오버피팅도 해결하면서 학습시켜보는걸로!\n",
        "\n",
        "> **다음에 할 것을 정리해보자면**\n",
        "> 1. 단어장을 네이버 영화 리뷰 말고 더 큰 한국어 텍스트로 만들어보기\n",
        "> 2. 불용어 제거하는 방법 찾아서 불용어 제거하고 Sentencepiece 토크나이저 돌리기\n",
        "> 3. 좀 더 복잡한 모델 transformer로 돌리기\n",
        "> 4. 오버피팅나면 정규화해서 학습시키기"
      ],
      "metadata": {
        "id": "gWBrx-4Gi6th"
      }
    }
  ]
}