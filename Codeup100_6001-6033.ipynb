{
 "cells": [
  {
   "cell_type": "code",
   "execution_count": 1,
   "id": "a023b6e5",
   "metadata": {},
   "outputs": [
    {
     "name": "stdout",
     "output_type": "stream",
     "text": [
      "Hello\n"
     ]
    }
   ],
   "source": [
    "# 6001\n",
    "print('Hello')"
   ]
  },
  {
   "cell_type": "code",
   "execution_count": 2,
   "id": "a431fc61",
   "metadata": {},
   "outputs": [
    {
     "name": "stdout",
     "output_type": "stream",
     "text": [
      "Hello World\n"
     ]
    }
   ],
   "source": [
    "# 6002\n",
    "print(\"Hello World\")"
   ]
  },
  {
   "cell_type": "code",
   "execution_count": 3,
   "id": "ef8202ac",
   "metadata": {},
   "outputs": [
    {
     "name": "stdout",
     "output_type": "stream",
     "text": [
      "Hello\n",
      "World\n"
     ]
    }
   ],
   "source": [
    "# 6003\n",
    "print(\"Hello\\nWorld\")"
   ]
  },
  {
   "cell_type": "code",
   "execution_count": 4,
   "id": "861c80d4",
   "metadata": {},
   "outputs": [
    {
     "name": "stdout",
     "output_type": "stream",
     "text": [
      "'Hello'\n"
     ]
    }
   ],
   "source": [
    "# 6004\n",
    "print(\"\\'Hello\\'\")"
   ]
  },
  {
   "cell_type": "code",
   "execution_count": 5,
   "id": "ce17a10f",
   "metadata": {},
   "outputs": [
    {
     "name": "stdout",
     "output_type": "stream",
     "text": [
      "\"Hello World\"\n"
     ]
    }
   ],
   "source": [
    "# 6005\n",
    "print('\"Hello World\"')"
   ]
  },
  {
   "cell_type": "code",
   "execution_count": 6,
   "id": "9f9e470d",
   "metadata": {},
   "outputs": [
    {
     "name": "stdout",
     "output_type": "stream",
     "text": [
      "\"!@#$%^&*()'\n"
     ]
    }
   ],
   "source": [
    "# 6006\n",
    "print(\"\\\"!@#$%^&*()\\'\")"
   ]
  },
  {
   "cell_type": "code",
   "execution_count": 7,
   "id": "05201e05",
   "metadata": {},
   "outputs": [
    {
     "name": "stdout",
     "output_type": "stream",
     "text": [
      "\"C:\\Download\\'hello'.py\"\n"
     ]
    }
   ],
   "source": [
    "# 6007\n",
    "print(\"\\\"C:\\Download\\\\'hello\\'.py\\\"\")"
   ]
  },
  {
   "cell_type": "code",
   "execution_count": 8,
   "id": "2a516dcb",
   "metadata": {},
   "outputs": [
    {
     "name": "stdout",
     "output_type": "stream",
     "text": [
      "print(\"Hello\\nWorld\")\n"
     ]
    }
   ],
   "source": [
    "# 6008\n",
    "print(\"print(\\\"Hello\\\\nWorld\\\")\")"
   ]
  },
  {
   "cell_type": "code",
   "execution_count": 9,
   "id": "e956665f",
   "metadata": {},
   "outputs": [
    {
     "name": "stdout",
     "output_type": "stream",
     "text": [
      "얍\n",
      "얍\n"
     ]
    }
   ],
   "source": [
    "# 6009\n",
    "a = input()\n",
    "print(a)"
   ]
  },
  {
   "cell_type": "code",
   "execution_count": 12,
   "id": "8d592215",
   "metadata": {},
   "outputs": [
    {
     "name": "stdout",
     "output_type": "stream",
     "text": [
      "15\n",
      "15\n"
     ]
    }
   ],
   "source": [
    "# 6010\n",
    "a = int(input())\n",
    "print(a)"
   ]
  },
  {
   "cell_type": "code",
   "execution_count": 13,
   "id": "ee3e292d",
   "metadata": {},
   "outputs": [
    {
     "name": "stdout",
     "output_type": "stream",
     "text": [
      "1.4\n",
      "1.4\n"
     ]
    }
   ],
   "source": [
    "# 6011\n",
    "a = float(input())\n",
    "print(a)"
   ]
  },
  {
   "cell_type": "code",
   "execution_count": 14,
   "id": "20215e19",
   "metadata": {},
   "outputs": [
    {
     "name": "stdout",
     "output_type": "stream",
     "text": [
      "1\n",
      "5\n",
      "1\n",
      "5\n"
     ]
    }
   ],
   "source": [
    "# 6012\n",
    "a = int(input())\n",
    "b = int(input())\n",
    "print(a,b,sep='\\n')"
   ]
  },
  {
   "cell_type": "code",
   "execution_count": 15,
   "id": "7943c030",
   "metadata": {},
   "outputs": [
    {
     "name": "stdout",
     "output_type": "stream",
     "text": [
      "1\n",
      "5\n",
      "5\n",
      "1\n"
     ]
    }
   ],
   "source": [
    "# 6013\n",
    "a = input()\n",
    "b = input()\n",
    "print(b, a, sep='\\n')"
   ]
  },
  {
   "cell_type": "code",
   "execution_count": 16,
   "id": "2f34ca1a",
   "metadata": {},
   "outputs": [
    {
     "name": "stdout",
     "output_type": "stream",
     "text": [
      "3.0\n",
      "3.0\n",
      "3.0\n",
      "3.0\n"
     ]
    }
   ],
   "source": [
    "# 6014\n",
    "a = float(input())\n",
    "for i in range(3):\n",
    "    print(a)"
   ]
  },
  {
   "cell_type": "code",
   "execution_count": 21,
   "id": "db1f3cf6",
   "metadata": {},
   "outputs": [
    {
     "name": "stdout",
     "output_type": "stream",
     "text": [
      "1 5\n",
      "1\n",
      "5\n"
     ]
    }
   ],
   "source": [
    "# 6015\n",
    "a, b = input().split()\n",
    "print(a,b,sep='\\n')"
   ]
  },
  {
   "cell_type": "code",
   "execution_count": 22,
   "id": "a005dca9",
   "metadata": {},
   "outputs": [
    {
     "name": "stdout",
     "output_type": "stream",
     "text": [
      "얍 슝\n",
      "슝 얍\n"
     ]
    }
   ],
   "source": [
    "# 6016\n",
    "a, b = map(str, input().split())\n",
    "print(b,a)"
   ]
  },
  {
   "cell_type": "code",
   "execution_count": 23,
   "id": "e8a44c50",
   "metadata": {},
   "outputs": [
    {
     "name": "stdout",
     "output_type": "stream",
     "text": [
      "얍\n",
      "얍 얍 얍 \n"
     ]
    }
   ],
   "source": [
    "# 6017\n",
    "s = input()\n",
    "print((s+' ')*3)"
   ]
  },
  {
   "cell_type": "code",
   "execution_count": 25,
   "id": "595fabf5",
   "metadata": {},
   "outputs": [
    {
     "name": "stdout",
     "output_type": "stream",
     "text": [
      "12:11\n",
      "12:11\n"
     ]
    }
   ],
   "source": [
    "# 6018\n",
    "a, b = input().split(':')\n",
    "print(a, b, sep=':')"
   ]
  },
  {
   "cell_type": "code",
   "execution_count": 26,
   "id": "b83cf9c1",
   "metadata": {},
   "outputs": [
    {
     "name": "stdout",
     "output_type": "stream",
     "text": [
      "2021.08.23\n",
      "23-08-2021\n"
     ]
    }
   ],
   "source": [
    "# 6019\n",
    "y, m, d = input().split('.')\n",
    "print(d, m, y, sep='-')"
   ]
  },
  {
   "cell_type": "code",
   "execution_count": 27,
   "id": "5a2a7c57",
   "metadata": {},
   "outputs": [
    {
     "name": "stdout",
     "output_type": "stream",
     "text": [
      "10-24\n",
      "1024\n"
     ]
    }
   ],
   "source": [
    "# 6020\n",
    "a,b=input().split('-')\n",
    "print(a,b,sep=\"\")"
   ]
  },
  {
   "cell_type": "code",
   "execution_count": 28,
   "id": "67544e91",
   "metadata": {},
   "outputs": [
    {
     "name": "stdout",
     "output_type": "stream",
     "text": [
      "얍\n",
      "얍\n"
     ]
    }
   ],
   "source": [
    "# 6021\n",
    "a = input()\n",
    "for i in a:\n",
    "    print(i)"
   ]
  },
  {
   "cell_type": "code",
   "execution_count": 29,
   "id": "43e68c44",
   "metadata": {},
   "outputs": [
    {
     "name": "stdout",
     "output_type": "stream",
     "text": [
      "월화수목금토\n",
      "월화 수목 금토\n"
     ]
    }
   ],
   "source": [
    "# 6022\n",
    "a = input()\n",
    "print(a[0:2], a[2:4], a[4:])"
   ]
  },
  {
   "cell_type": "code",
   "execution_count": 30,
   "id": "3aa9cc53",
   "metadata": {},
   "outputs": [
    {
     "name": "stdout",
     "output_type": "stream",
     "text": [
      "09:19:53\n",
      "19\n"
     ]
    }
   ],
   "source": [
    "# 6023\n",
    "h, m, s = input().split(':')\n",
    "print(m)"
   ]
  },
  {
   "cell_type": "code",
   "execution_count": 31,
   "id": "8dd9c824",
   "metadata": {},
   "outputs": [
    {
     "name": "stdout",
     "output_type": "stream",
     "text": [
      "얍 슝\n",
      "얍슝\n"
     ]
    }
   ],
   "source": [
    "# 6024\n",
    "a, b = input().split()\n",
    "print(a+b)"
   ]
  },
  {
   "cell_type": "code",
   "execution_count": 1,
   "id": "3ae47c90",
   "metadata": {},
   "outputs": [
    {
     "name": "stdout",
     "output_type": "stream",
     "text": [
      "뭘\n",
      "봐\n",
      "뭘봐\n"
     ]
    }
   ],
   "source": [
    "# 6025\n",
    "a = input()\n",
    "b = input()\n",
    "print(a+b)"
   ]
  },
  {
   "cell_type": "code",
   "execution_count": 2,
   "id": "e6f82ebe",
   "metadata": {},
   "outputs": [
    {
     "name": "stdout",
     "output_type": "stream",
     "text": [
      "3.0 2.5\n",
      "5.5\n"
     ]
    }
   ],
   "source": [
    "# 6026\n",
    "a, b = map(float, input().split())\n",
    "print(a+b)"
   ]
  },
  {
   "cell_type": "code",
   "execution_count": 4,
   "id": "6ddffcb9",
   "metadata": {},
   "outputs": [
    {
     "name": "stdout",
     "output_type": "stream",
     "text": [
      "12\n",
      "c\n"
     ]
    }
   ],
   "source": [
    "# 6027\n",
    "print('%x' %int(input()))"
   ]
  },
  {
   "cell_type": "code",
   "execution_count": 5,
   "id": "8691c2f3",
   "metadata": {},
   "outputs": [
    {
     "name": "stdout",
     "output_type": "stream",
     "text": [
      "15\n",
      "F\n"
     ]
    }
   ],
   "source": [
    "# 6028\n",
    "print('%X' %int(input()))"
   ]
  },
  {
   "cell_type": "code",
   "execution_count": 6,
   "id": "42887146",
   "metadata": {},
   "outputs": [
    {
     "name": "stdout",
     "output_type": "stream",
     "text": [
      "55\n",
      "125\n"
     ]
    }
   ],
   "source": [
    "# 6029\n",
    "print('%o' %int(input(),16))\n",
    "\n",
    "# a = input()\n",
    "# n = int(a, 16)\n",
    "#입력된 a를 16진수로 인식해 변수 n에 저장\n",
    "# print('%o' % n)\n",
    "# n에 저장되어있는 값을 8진수(octal) 형태 문자열로 출력"
   ]
  },
  {
   "cell_type": "code",
   "execution_count": 8,
   "id": "5c2b9c6d",
   "metadata": {},
   "outputs": [
    {
     "name": "stdout",
     "output_type": "stream",
     "text": [
      "얍\n",
      "50573\n"
     ]
    }
   ],
   "source": [
    "# 6030\n",
    "print(ord(input()))"
   ]
  },
  {
   "cell_type": "code",
   "execution_count": 9,
   "id": "1cc20faf",
   "metadata": {},
   "outputs": [
    {
     "name": "stdout",
     "output_type": "stream",
     "text": [
      "50573\n",
      "얍\n"
     ]
    }
   ],
   "source": [
    "# 6031\n",
    "print(chr(int(input())))"
   ]
  },
  {
   "cell_type": "code",
   "execution_count": 10,
   "id": "7e3560cb",
   "metadata": {},
   "outputs": [
    {
     "name": "stdout",
     "output_type": "stream",
     "text": [
      "22\n",
      "-22\n"
     ]
    }
   ],
   "source": [
    "# 6032\n",
    "print(-int(input()))"
   ]
  },
  {
   "cell_type": "code",
   "execution_count": 11,
   "id": "b14f442a",
   "metadata": {},
   "outputs": [
    {
     "name": "stdout",
     "output_type": "stream",
     "text": [
      "얍\n",
      "얎\n"
     ]
    }
   ],
   "source": [
    "# 6033\n",
    "print(chr(ord(input())+1))"
   ]
  }
 ],
 "metadata": {
  "kernelspec": {
   "display_name": "Python 3",
   "language": "python",
   "name": "python3"
  },
  "language_info": {
   "codemirror_mode": {
    "name": "ipython",
    "version": 3
   },
   "file_extension": ".py",
   "mimetype": "text/x-python",
   "name": "python",
   "nbconvert_exporter": "python",
   "pygments_lexer": "ipython3",
   "version": "3.8.8"
  }
 },
 "nbformat": 4,
 "nbformat_minor": 5
}
