{
 "cells": [
  {
   "cell_type": "markdown",
   "id": "a6c8e8d5",
   "metadata": {},
   "source": [
    "# Codeup 100제 챌린지\n",
    "# 두 번째 날\n"
   ]
  },
  {
   "cell_type": "code",
   "execution_count": 1,
   "id": "42b73d2e",
   "metadata": {},
   "outputs": [
    {
     "name": "stdout",
     "output_type": "stream",
     "text": [
      "1 2\n",
      "-1\n"
     ]
    }
   ],
   "source": [
    "# 6034\n",
    "a, b = map(int, input().split())\n",
    "print(a-b)"
   ]
  },
  {
   "cell_type": "code",
   "execution_count": 2,
   "id": "87a54ac7",
   "metadata": {},
   "outputs": [
    {
     "name": "stdout",
     "output_type": "stream",
     "text": [
      "1 2\n",
      "2.0\n"
     ]
    }
   ],
   "source": [
    "# 6035\n",
    "a, b = map(float, input().split())\n",
    "print(a*b)"
   ]
  },
  {
   "cell_type": "code",
   "execution_count": 3,
   "id": "c1df80d6",
   "metadata": {},
   "outputs": [
    {
     "name": "stdout",
     "output_type": "stream",
     "text": [
      "1 2\n",
      "11\n"
     ]
    }
   ],
   "source": [
    "# 6036\n",
    "a, b = input().split()\n",
    "print(a*int(b))"
   ]
  },
  {
   "cell_type": "code",
   "execution_count": 5,
   "id": "022fd924",
   "metadata": {},
   "outputs": [
    {
     "name": "stdout",
     "output_type": "stream",
     "text": [
      "1\n",
      "2\n",
      "2\n"
     ]
    }
   ],
   "source": [
    "# 6037\n",
    "a = int(input())\n",
    "b = input()\n",
    "print(a*b)"
   ]
  },
  {
   "cell_type": "code",
   "execution_count": 6,
   "id": "2792705f",
   "metadata": {},
   "outputs": [
    {
     "name": "stdout",
     "output_type": "stream",
     "text": [
      "1 2\n",
      "1\n"
     ]
    }
   ],
   "source": [
    "# 6038\n",
    "a, b = map(int, input().split())\n",
    "print(a**b)"
   ]
  },
  {
   "cell_type": "code",
   "execution_count": 7,
   "id": "1d7ca157",
   "metadata": {},
   "outputs": [
    {
     "name": "stdout",
     "output_type": "stream",
     "text": [
      "1 2\n",
      "1.0\n"
     ]
    }
   ],
   "source": [
    "# 6039\n",
    "a, b = map(float, input().split())\n",
    "print(a**b)"
   ]
  },
  {
   "cell_type": "code",
   "execution_count": 8,
   "id": "d407b9f8",
   "metadata": {},
   "outputs": [
    {
     "name": "stdout",
     "output_type": "stream",
     "text": [
      "1 2\n",
      "0\n"
     ]
    }
   ],
   "source": [
    "# 6040\n",
    "a, b = map(int, input().split())\n",
    "print(a//b)"
   ]
  },
  {
   "cell_type": "code",
   "execution_count": 9,
   "id": "8ccb1df1",
   "metadata": {},
   "outputs": [
    {
     "name": "stdout",
     "output_type": "stream",
     "text": [
      "5 2\n",
      "1\n"
     ]
    }
   ],
   "source": [
    "# 6041\n",
    "a, b = map(int, input().split())\n",
    "print(a%b)"
   ]
  },
  {
   "cell_type": "code",
   "execution_count": 11,
   "id": "6836b465",
   "metadata": {},
   "outputs": [
    {
     "name": "stdout",
     "output_type": "stream",
     "text": [
      "5\n",
      "5.0\n"
     ]
    }
   ],
   "source": [
    "# 6042\n",
    "a = float(input())\n",
    "print(round(a, 2))"
   ]
  },
  {
   "cell_type": "code",
   "execution_count": 12,
   "id": "4deff477",
   "metadata": {},
   "outputs": [
    {
     "name": "stdout",
     "output_type": "stream",
     "text": [
      "5\n",
      "5.00\n"
     ]
    }
   ],
   "source": [
    "# 다른 답안\n",
    "a=float(input())\n",
    "print( format(a, \".2f\") )"
   ]
  },
  {
   "cell_type": "markdown",
   "id": "8ff0fad8",
   "metadata": {},
   "source": [
    "- format 과 round 의 차이는 뒤에 0을 절삭하느냐 안 하느냐"
   ]
  },
  {
   "cell_type": "code",
   "execution_count": 13,
   "id": "e386acb9",
   "metadata": {},
   "outputs": [
    {
     "name": "stdout",
     "output_type": "stream",
     "text": [
      "5 3\n",
      "1.667\n"
     ]
    }
   ],
   "source": [
    "# 6043\n",
    "a, b = map(float, input().split())\n",
    "print(format(a/b, \".3f\"))"
   ]
  },
  {
   "cell_type": "code",
   "execution_count": 14,
   "id": "f12d13db",
   "metadata": {},
   "outputs": [
    {
     "name": "stdout",
     "output_type": "stream",
     "text": [
      "10 2\n",
      "12\n",
      "8\n",
      "20\n",
      "5\n",
      "0\n",
      "5.00\n"
     ]
    }
   ],
   "source": [
    "# 6044\n",
    "a, b = map(int, input().split())\n",
    "print(a+b)\n",
    "print(a-b)\n",
    "print(a*b)\n",
    "print(a//b)\n",
    "print(a%b)\n",
    "print(format(a/b, \".2f\"))"
   ]
  },
  {
   "cell_type": "markdown",
   "id": "55052965",
   "metadata": {},
   "source": [
    "### round(정수, 2) 와 format(정수, \".2f\") 의 차이\n",
    "1. 만약 수가 0.2라면 round는 0.2 를 출력하고 format은 0.20을 출력한다고 한다. 뒤에 0을 절삭하느냐 안 하느냐의 차이\n",
    "2. round(, 0.2) 같이 넣으면\n",
    "```\n",
    "round(0.2) # 0 반환\n",
    "round(0.7) # 1 반환\n",
    "round(1.6) # 2 반환\n",
    "```\n",
    "안의 수도 알아서 내림과 올림을 하나봅니다.\n",
    "\n",
    "3. 두 배수가 똑같이 가깝다면, 반올림은 짝수를 선택한다.\n",
    "```\n",
    "round(0.5) # 0 반환\n",
    "round(-0.5) # 0 반환\n",
    "round(1.5) # 2반환\n",
    "```\n",
    "\n",
    "- 그냥 올림: math.ceil\n",
    "- 그냥 내림: math.floor"
   ]
  },
  {
   "cell_type": "code",
   "execution_count": 15,
   "id": "d9f5a9cb",
   "metadata": {},
   "outputs": [
    {
     "name": "stdout",
     "output_type": "stream",
     "text": [
      "10 5 2\n",
      "17\n",
      "5.67\n"
     ]
    }
   ],
   "source": [
    "# 6045\n",
    "a, b, c = map(int, input().split())\n",
    "print(a+b+c)\n",
    "print(format((a+b+c)/3, \".2f\"))"
   ]
  },
  {
   "cell_type": "code",
   "execution_count": 16,
   "id": "2314db40",
   "metadata": {},
   "outputs": [
    {
     "name": "stdout",
     "output_type": "stream",
     "text": [
      "50\n",
      "100\n"
     ]
    }
   ],
   "source": [
    "# 6046\n",
    "a = int(input())\n",
    "print(a<<1)"
   ]
  },
  {
   "cell_type": "code",
   "execution_count": 17,
   "id": "84774578",
   "metadata": {},
   "outputs": [
    {
     "name": "stdout",
     "output_type": "stream",
     "text": [
      "50 20\n",
      "52428800\n"
     ]
    }
   ],
   "source": [
    "# 6047\n",
    "a,b = map(int, input().split())\n",
    "print(a<<b)"
   ]
  },
  {
   "cell_type": "code",
   "execution_count": 18,
   "id": "dcd3f56d",
   "metadata": {},
   "outputs": [
    {
     "name": "stdout",
     "output_type": "stream",
     "text": [
      "50 25\n",
      "False\n"
     ]
    }
   ],
   "source": [
    "# 6048\n",
    "a, b = map(int, input().split())\n",
    "if a <b:\n",
    "    print(\"True\")\n",
    "else:\n",
    "    print(\"False\")"
   ]
  },
  {
   "cell_type": "code",
   "execution_count": 19,
   "id": "268247ad",
   "metadata": {},
   "outputs": [
    {
     "name": "stdout",
     "output_type": "stream",
     "text": [
      "10 2\n",
      "False\n"
     ]
    }
   ],
   "source": [
    "# 6049\n",
    "a, b = map(int,input().split())\n",
    "if a == b:\n",
    "    print(\"True\")\n",
    "else:\n",
    "    print(\"False\")"
   ]
  },
  {
   "cell_type": "code",
   "execution_count": 20,
   "id": "8f4f4aad",
   "metadata": {},
   "outputs": [
    {
     "name": "stdout",
     "output_type": "stream",
     "text": [
      "10 10\n",
      "True\n"
     ]
    }
   ],
   "source": [
    "# 6049\n",
    "a, b = map(int,input().split())\n",
    "if a == b:\n",
    "    print(\"True\")\n",
    "else:\n",
    "    print(\"False\")"
   ]
  },
  {
   "cell_type": "code",
   "execution_count": 21,
   "id": "2687d898",
   "metadata": {},
   "outputs": [
    {
     "name": "stdout",
     "output_type": "stream",
     "text": [
      "10 50\n",
      "True\n"
     ]
    }
   ],
   "source": [
    "# 6051\n",
    "a, b = map(int,input().split())\n",
    "if a != b:\n",
    "    print(\"True\")\n",
    "else:\n",
    "    print(\"False\")"
   ]
  },
  {
   "cell_type": "code",
   "execution_count": 22,
   "id": "a55a4d63",
   "metadata": {},
   "outputs": [
    {
     "name": "stdout",
     "output_type": "stream",
     "text": [
      "5\n",
      "True\n"
     ]
    }
   ],
   "source": [
    "# 6052\n",
    "n = int(input())\n",
    "print (bool(n))"
   ]
  },
  {
   "cell_type": "code",
   "execution_count": 23,
   "id": "bed96366",
   "metadata": {},
   "outputs": [
    {
     "name": "stdout",
     "output_type": "stream",
     "text": [
      "10\n",
      "False\n"
     ]
    }
   ],
   "source": [
    "# 6053\n",
    "a = bool(int(input()))\n",
    "print(not a)"
   ]
  },
  {
   "cell_type": "code",
   "execution_count": 24,
   "id": "0ebafdea",
   "metadata": {},
   "outputs": [
    {
     "name": "stdout",
     "output_type": "stream",
     "text": [
      "10 20\n",
      "True\n"
     ]
    }
   ],
   "source": [
    "# 6054\n",
    "a,b = map(int, input().split())\n",
    "print(bool(a) and bool(b))"
   ]
  },
  {
   "cell_type": "code",
   "execution_count": 25,
   "id": "6ba57c2f",
   "metadata": {},
   "outputs": [
    {
     "name": "stdout",
     "output_type": "stream",
     "text": [
      "1 5\n",
      "True\n"
     ]
    }
   ],
   "source": [
    "# 6055\n",
    "a,b = map(int, input().split())\n",
    "print(bool(a) or bool(b))"
   ]
  },
  {
   "cell_type": "code",
   "execution_count": 26,
   "id": "ec848c8b",
   "metadata": {},
   "outputs": [
    {
     "name": "stdout",
     "output_type": "stream",
     "text": [
      "10 2\n",
      "False\n"
     ]
    }
   ],
   "source": [
    "# 6056\n",
    "a,b = map(int, input().split())\n",
    "print(bool(a) != bool(b))"
   ]
  },
  {
   "cell_type": "code",
   "execution_count": 27,
   "id": "ff2db620",
   "metadata": {},
   "outputs": [
    {
     "name": "stdout",
     "output_type": "stream",
     "text": [
      "False\n"
     ]
    }
   ],
   "source": [
    "# 다른 답안\n",
    "c = bool(int(a))\n",
    "d = bool(int(b))\n",
    "print((c and (not d)) or ((not c) and d))"
   ]
  },
  {
   "cell_type": "code",
   "execution_count": 28,
   "id": "c586c800",
   "metadata": {},
   "outputs": [
    {
     "name": "stdout",
     "output_type": "stream",
     "text": [
      "1 5\n",
      "True\n"
     ]
    }
   ],
   "source": [
    "# 6057\n",
    "a,b = map(int, input().split())\n",
    "print(bool(a) == bool(b))"
   ]
  },
  {
   "cell_type": "code",
   "execution_count": 29,
   "id": "cb11ed83",
   "metadata": {},
   "outputs": [
    {
     "name": "stdout",
     "output_type": "stream",
     "text": [
      "7 8\n",
      "False\n"
     ]
    }
   ],
   "source": [
    "# 6058\n",
    "a,b = map(int, input().split())\n",
    "print(not a and not b)"
   ]
  },
  {
   "cell_type": "markdown",
   "id": "c6607f63",
   "metadata": {},
   "source": [
    "### 참고\n",
    "컴퓨터에 저장되는 모든 데이터들은 2진수 형태로 바뀌어 저장된다.\n",
    "0과 1로만 구성되는 비트단위들로 변환되어 저장되는데,\n",
    "양의 정수는 2진수 형태로 바뀌어 저장되고, 음의 정수는 \"2의 보수 표현\"방법으로 저장된다.\n",
    "\n",
    "양의 정수 5를 32비트로 저장하면,\n",
    "\n",
    "5의 2진수 형태인 101이 32비트로 만들어져\n",
    "00000000 00000000 00000000 00000101\n",
    "로 저장된다.(공백은 보기 편하도록 임의로 분리)\n",
    "\n",
    "32비트 형의 정수 0은\n",
    "00000000 00000000 00000000 00000000\n",
    "\n",
    "그리고 -1은 0에서 1을 더 빼고 32비트만 표시하는 형태로\n",
    "11111111 11111111 11111111 11111111 로 저장된다.\n",
    "\n",
    "-2는 -1에서 1을 더 빼면 된다.\n",
    "11111111 11111111 11111111 11111110 로 저장된다.\n",
    "\n",
    "이러한 내용을 간단히 표현하면, 정수 n이라고 할 때,\n",
    "\n",
    "~n = -n - 1\n",
    "-n = ~n + 1 과 같은 관계로 표현할 수 있다.\n",
    "\n",
    "이 관계를 그림으로 그려보면 마치 원형으로 수들이 상대적으로 배치된 것과 같다."
   ]
  },
  {
   "cell_type": "code",
   "execution_count": 30,
   "id": "451d1186",
   "metadata": {},
   "outputs": [
    {
     "name": "stdout",
     "output_type": "stream",
     "text": [
      "5\n",
      "-6\n"
     ]
    }
   ],
   "source": [
    "# 6059\n",
    "a = int(input())\n",
    "print(~a)"
   ]
  },
  {
   "cell_type": "code",
   "execution_count": 31,
   "id": "8432fec6",
   "metadata": {},
   "outputs": [
    {
     "name": "stdout",
     "output_type": "stream",
     "text": [
      "10 2\n",
      "2\n"
     ]
    }
   ],
   "source": [
    "# 6060\n",
    "a, b = map(int, input().split())\n",
    "print(a&b)"
   ]
  },
  {
   "cell_type": "markdown",
   "id": "b7cb2653",
   "metadata": {},
   "source": [
    "## 참고\n",
    "참고\n",
    "** | 은 파이프(pipe)연산자라고도 불리는 경우가 있다.\n",
    "\n",
    "** 비트단위(bitwise) 연산자는,\n",
    "~(bitwise not), &(bitwise and), |(bitwise or), ^(bitwise xor),\n",
    "<<(bitwise left shift), >>(bitwise right shift)\n",
    "가 있다.\n",
    "\n",
    "예를 들어 3과 5가 입력되었을 때를 살펴보면\n",
    "3 : 00000000 00000000 00000000 00000011\n",
    "5 : 00000000 00000000 00000000 00000101\n",
    "3 | 5 : 00000000 00000000 00000000 00000111\n",
    "이 된다.\n",
    "\n",
    "비트단위 or 연산은 둘 중 하나라도 1인 자리를 1로 만들어주는 것과 같다.\n",
    "\n",
    "이러한 비트단위 연산은 빠른 계산이 필요한 그래픽처리에서도 효과적으로 사용된다."
   ]
  },
  {
   "cell_type": "code",
   "execution_count": 32,
   "id": "ef2d91aa",
   "metadata": {},
   "outputs": [
    {
     "name": "stdout",
     "output_type": "stream",
     "text": [
      "12 5\n",
      "13\n"
     ]
    }
   ],
   "source": [
    "# 6061\n",
    "a, b = map(int, input().split())\n",
    "print(a|b)"
   ]
  },
  {
   "cell_type": "code",
   "execution_count": 33,
   "id": "8e1fbf21",
   "metadata": {},
   "outputs": [
    {
     "name": "stdout",
     "output_type": "stream",
     "text": [
      "1 2\n",
      "3\n"
     ]
    }
   ],
   "source": [
    "# 6062\n",
    "a, b = map(int, input().split())\n",
    "print(a^b)"
   ]
  },
  {
   "cell_type": "code",
   "execution_count": 34,
   "id": "6a3a8670",
   "metadata": {},
   "outputs": [
    {
     "name": "stdout",
     "output_type": "stream",
     "text": [
      "5 7\n",
      "7\n"
     ]
    }
   ],
   "source": [
    "# 6063\n",
    "a,b = map(int,input().split())\n",
    "print(a if (a>b) else b)"
   ]
  },
  {
   "cell_type": "code",
   "execution_count": 35,
   "id": "f1b0cdb1",
   "metadata": {},
   "outputs": [
    {
     "name": "stdout",
     "output_type": "stream",
     "text": [
      "2 4 6\n",
      "2\n"
     ]
    }
   ],
   "source": [
    "# 6064\n",
    "a,b,c = map(int, input().split())\n",
    "print((a if a < b else b) if (a if a < b else b) < c else c)"
   ]
  },
  {
   "cell_type": "code",
   "execution_count": 37,
   "id": "00e4b6a1",
   "metadata": {},
   "outputs": [
    {
     "name": "stdout",
     "output_type": "stream",
     "text": [
      "5 8 10\n",
      "8\n",
      "10\n"
     ]
    }
   ],
   "source": [
    "# 6065\n",
    "a, b, c = map(int, input().split())\n",
    "if a % 2 == 0:\n",
    "    print(a)\n",
    "if b % 2 == 0:\n",
    "    print(b)\n",
    "if c % 2 == 0:\n",
    "    print(c)"
   ]
  },
  {
   "cell_type": "code",
   "execution_count": 38,
   "id": "81c90d33",
   "metadata": {},
   "outputs": [
    {
     "name": "stdout",
     "output_type": "stream",
     "text": [
      "5\n",
      "odd\n"
     ]
    }
   ],
   "source": [
    "# 6066\n",
    "data = list(map(int, input().split()))\n",
    "\n",
    "for i in range(len(data)):\n",
    "    if (data[i] % 2 == 0):\n",
    "        print(\"even\")\n",
    "    else:\n",
    "        print(\"odd\")"
   ]
  },
  {
   "cell_type": "code",
   "execution_count": 39,
   "id": "ccd2cc60",
   "metadata": {},
   "outputs": [
    {
     "name": "stdout",
     "output_type": "stream",
     "text": [
      "10\n",
      "C\n"
     ]
    }
   ],
   "source": [
    "# 6067\n",
    "data = list(map(int, input().split()))\n",
    "\n",
    "for i in range(len(data)):\n",
    "    if data[i] % 2 == 0:\n",
    "        if data[i] > 0:\n",
    "            print(\"C\")\n",
    "        else:\n",
    "            print(\"A\")\n",
    "    elif data[i] % 2 != 0:\n",
    "        if data[i] > 0:\n",
    "            print(\"D\")\n",
    "        else:\n",
    "            print(\"B\")"
   ]
  }
 ],
 "metadata": {
  "kernelspec": {
   "display_name": "Python 3",
   "language": "python",
   "name": "python3"
  },
  "language_info": {
   "codemirror_mode": {
    "name": "ipython",
    "version": 3
   },
   "file_extension": ".py",
   "mimetype": "text/x-python",
   "name": "python",
   "nbconvert_exporter": "python",
   "pygments_lexer": "ipython3",
   "version": "3.8.8"
  }
 },
 "nbformat": 4,
 "nbformat_minor": 5
}
